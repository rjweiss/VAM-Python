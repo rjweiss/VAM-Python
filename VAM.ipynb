{
 "metadata": {
  "celltoolbar": "Slideshow",
  "name": "",
  "signature": "sha256:8cfd73711bcf07517be7b95a7f69ed0e9ef2012380150286b5ea3ffd110f3244"
 },
 "nbformat": 3,
 "nbformat_minor": 0,
 "worksheets": [
  {
   "cells": [
    {
     "cell_type": "markdown",
     "metadata": {
      "slideshow": {
       "slide_type": "slide"
      }
     },
     "source": [
      "# Introduction to Python\n",
      "\n",
      "Very Applied Methods Workshop, April 25th, 2014\n",
      "\n",
      "Department of Political Science, Stanford University\n",
      "\n",
      "Author: **Rebecca Weiss**"
     ]
    },
    {
     "cell_type": "markdown",
     "metadata": {
      "slideshow": {
       "slide_type": "slide"
      }
     },
     "source": [
      "# What are we covering in this presentation?"
     ]
    },
    {
     "cell_type": "markdown",
     "metadata": {
      "slideshow": {
       "slide_type": "fragment"
      }
     },
     "source": [
      "- What is Python?  Source code, interpreter, etc."
     ]
    },
    {
     "cell_type": "markdown",
     "metadata": {
      "slideshow": {
       "slide_type": "fragment"
      }
     },
     "source": [
      "- How do I get going with Python?  What are available tools?"
     ]
    },
    {
     "cell_type": "markdown",
     "metadata": {
      "slideshow": {
       "slide_type": "fragment"
      }
     },
     "source": [
      "- Why should I learn Python?  Where is it useful?"
     ]
    },
    {
     "cell_type": "markdown",
     "metadata": {
      "slideshow": {
       "slide_type": "slide"
      }
     },
     "source": [
      "# What are we *__not__* covering in this presentation?"
     ]
    },
    {
     "cell_type": "markdown",
     "metadata": {
      "slideshow": {
       "slide_type": "fragment"
      }
     },
     "source": [
      "- Syntax tedium"
     ]
    },
    {
     "cell_type": "markdown",
     "metadata": {
      "slideshow": {
       "slide_type": "fragment"
      }
     },
     "source": [
      "- Extensive coverage of data types and collections"
     ]
    },
    {
     "cell_type": "markdown",
     "metadata": {
      "slideshow": {
       "slide_type": "fragment"
      }
     },
     "source": [
      "- Software engineering (e.g. code patterns, object-oriented programming)"
     ]
    },
    {
     "cell_type": "markdown",
     "metadata": {
      "slideshow": {
       "slide_type": "fragment"
      }
     },
     "source": [
      "### This is a 90 minute presentation.  [We don't have the time](http://norvig.com/21-days.html).\n",
      "\n",
      "But I will give you links to resources that will cover the above."
     ]
    },
    {
     "cell_type": "markdown",
     "metadata": {
      "slideshow": {
       "slide_type": "slide"
      }
     },
     "source": [
      "# What is Python?"
     ]
    },
    {
     "cell_type": "markdown",
     "metadata": {
      "slideshow": {
       "slide_type": "fragment"
      }
     },
     "source": [
      "- Python is a general purpose programming language with enormous 3rd-party support for a wide array of uses.\n",
      "    - Numerical and scientific computing (e.g. `numpy`, `scipy`, `scikits`)\n",
      "    - Data analysis (e.g. `pandas`, `statsmodels`)\n",
      "    - Web application programming (e.g. `django`, `flask`)\n",
      "    - Natural language processing and topic modeling (e.g. `nltk`, `gensim`)\n",
      "    - Image processing (e.g. `PIL`, `scikit-image`)\n",
      "    - Machine learning (`scikit-learn`)\n",
      "    - Scraping (e.g. `lxml`, `BeautifulSoup`)"
     ]
    },
    {
     "cell_type": "markdown",
     "metadata": {
      "slideshow": {
       "slide_type": "subslide"
      }
     },
     "source": [
      "The Python standard library is also very comprehensive for most general computing needs."
     ]
    },
    {
     "cell_type": "code",
     "collapsed": false,
     "input": [
      "from IPython.display import HTML\n",
      "HTML(\"<iframe src=https://docs.python.org/2.7/library/ width=100% height=400></iframe>\")"
     ],
     "language": "python",
     "metadata": {
      "slideshow": {
       "slide_type": "fragment"
      }
     },
     "outputs": [
      {
       "html": [
        "<iframe src=https://docs.python.org/2.7/library/ width=100% height=600></iframe>"
       ],
       "metadata": {},
       "output_type": "pyout",
       "prompt_number": 19,
       "text": [
        "<IPython.core.display.HTML at 0x10dfc6a10>"
       ]
      }
     ],
     "prompt_number": 19
    },
    {
     "cell_type": "markdown",
     "metadata": {
      "slideshow": {
       "slide_type": "subslide"
      }
     },
     "source": [
      "** You'll see these Python features mentioned in other tutorials:**\n",
      "\n",
      "- High-level (you don't need to understand what the computer is doing)\n",
      "- Interpreted (you don't have to compile your code before you execute it)\n",
      "- Dynamically-typed (Python will try to figure out your data types for you)\n",
      "- [and more...](http://www.swaroopch.com/notes/python/#_features_of_python)"
     ]
    },
    {
     "cell_type": "markdown",
     "metadata": {
      "slideshow": {
       "slide_type": "subslide"
      }
     },
     "source": [
      "** However, for most of you, this is more than you need to know.  **\n",
      "- Because Python is a general purpose language, you can get easily lost in tutorials!\n",
      "    - Assume knowledge of computing\n",
      "    - Focus only on basics \n",
      "        - data types (`strings`!  `ints`!) and collections (`sets`! `dicts`! `lists`!), logic (`for` loops!  `list` comprehensions!)\n",
      "    - Useful tools and best practices?\n",
      "    - How to solve analysis problems?"
     ]
    },
    {
     "cell_type": "markdown",
     "metadata": {
      "slideshow": {
       "slide_type": "subslide"
      }
     },
     "source": [
      "** We're going to try and cover a lot of ground by teaching through application **\n",
      "- ** Demonstrate how to use Python to extract structured data from web pages **\n",
      "    - Review basic Python and programming concepts\n",
      "    - Introduce web technology concepts (server-client architecture, response-request model, the DOM)\n",
      "    - Demonstrate useful tools and modules to use Python *for analysis purposes*."
     ]
    },
    {
     "cell_type": "markdown",
     "metadata": {
      "slideshow": {
       "slide_type": "slide"
      }
     },
     "source": [
      "# Background information and vocabulary"
     ]
    },
    {
     "cell_type": "markdown",
     "metadata": {
      "slideshow": {
       "slide_type": "subslide"
      }
     },
     "source": [
      "## Source code, the interpreter, Python distributions, and IDEs\n",
      "\n",
      "First, you need to install Python.  There are lots of tutorials on this:\n",
      "\n",
      "- OSX users: [http://docs.python-guide.org/en/latest/starting/install/osx/](http://docs.python-guide.org/en/latest/starting/install/osx/)\n",
      "- Windows users: [http://docs.python-guide.org/en/latest/starting/install/win/](http://docs.python-guide.org/en/latest/starting/install/win/)\n",
      "- Linux users: [http://docs.python-guide.org/en/latest/starting/install/linux/](http://docs.python-guide.org/en/latest/starting/install/linux/)\n",
      "\n",
      "Follow one of these guides.  My opinionated perspective: OSX and Windows are not great (OSX is a little easier if you have `brew` or `MacPorts` installed, but it's still not ideal)."
     ]
    },
    {
     "cell_type": "markdown",
     "metadata": {
      "slideshow": {
       "slide_type": "subslide"
      }
     },
     "source": [
      "### What exactly did \"installing Python\" do?\n",
      "\n",
      "When you are \"installing Python,\" you are giving your computer access to the Python _interpreter_.  \n",
      "\n",
      "This is what allows you to write source code (human-readable language expressed in certain syntax) and convert it into executable software through a process called (shockingly) *interpreting*.  "
     ]
    },
    {
     "cell_type": "markdown",
     "metadata": {
      "slideshow": {
       "slide_type": "subslide"
      }
     },
     "source": [
      "## Enthought Python Distribution: a \"batteries-included\" Python\n",
      "\n",
      "The previous guides will install the standard Python environment (the standard library, docs, and a Python interpreter).\n",
      "\n",
      "There are other interpreters (Cython, Jython, IronPython)...we can't really go into those now (see [here](http://docs.python-guide.org/en/latest/starting/which-python/) for more discussion).\n",
      "\n",
      "If you intend to use Python for analysis, just get [Enthought Python](https://www.enthought.com/products/epd/). \n",
      "\n",
      "Enthought is a [Python distribution](https://wiki.python.org/moin/PythonDistributions).  For our purposes, that just means that it installs Python with the most common 3rd party analysis modules used in scientific computing."
     ]
    },
    {
     "cell_type": "markdown",
     "metadata": {
      "slideshow": {
       "slide_type": "subslide"
      }
     },
     "source": [
      "**If you install the Enthought Python Distribution and choose it as your default Python environment, all your calls to `python` will go to the installation of Python that comes with EPD**.\n",
      "\n",
      "```\n",
      "rweiss$ less ~/.profile\n",
      "# Added by Canopy installer on 2013-05-09\n",
      "source /Users/rweiss/Library/Enthought/Canopy_64bit/User/bin/activate\n",
      "```\n",
      "\n",
      "> NOTE: A `.profile` file is automatically executed every time you open a shell.  In other systems, this can also be a `~/.bashrc`, a `~/.bash_profile`, `~/.zshrc`, and others; it depends on what kind of shell you're running.\n",
      "\n",
      "If you want to check what `python` you're running, type `which python`.  This will tell you where your computer is sending calls to `python`.  (You can do this for any executable added to your path, such as `java` if it is installed).\n",
      "\n",
      "```\n",
      "rweiss$ which python\n",
      "/Users/rweiss/Library/Enthought/Canopy_64bit/User/bin/python\n",
      "```\n",
      "\n",
      "This is an example in OSX.  You can see that my computer is calling `python` from the Canopy directory."
     ]
    },
    {
     "cell_type": "markdown",
     "metadata": {
      "slideshow": {
       "slide_type": "subslide"
      }
     },
     "source": [
      "** What if I don't want to use EPD and I want to go back to regular Python? **\n",
      "\n",
      "```\n",
      "rweiss$ deactivate\n",
      "rweiss$ which python\n",
      "/usr/bin/python\n",
      "rweiss$ source /Users/rweiss/Library/Enthought/Canopy_64bit/User/bin/activate # or just source ~/.profile\n",
      "rweiss$ which python\n",
      "/Users/rweiss/Library/Enthought/Canopy_64bit/User/bin/python\n",
      "```\n",
      "\n",
      "`deactivate` is actually a `virtualenv` command.  We'll get back to that in a few slides.\n",
      "\n",
      "Installing the EPD means you won't have to manually handle all the dependencies for many popular 3rd party modules, like `scipy` and `lxml`.  You don't have to use it, but if you aren't comfortable installing software from the command line, handling paths, or compiling dependencies from source code, just use EPD."
     ]
    },
    {
     "cell_type": "markdown",
     "metadata": {
      "slideshow": {
       "slide_type": "subslide"
      }
     },
     "source": [
      "## Integrated Development Environments\n",
      "\n",
      "** Installing Enthought means you get [Canopy](https://www.enthought.com/products/canopy/) for free.** \n",
      "\n",
      "But installing Enthought doesn't mean you *must* use Canopy.\n",
      "\n",
      "Canopy is just an IDE.  [There are lots of IDEs](https://wiki.python.org/moin/IntegratedDevelopmentEnvironments).  You can still use the Enthought distribution and use whatever text editor you want (I use [Sublime](http://www.sublimetext.com/) and [VIM](http://en.wikipedia.org/wiki/Vim_%28text_editor%29)).\n",
      "\n",
      "If you are not comfortable with the command line and you want a single piece of software where you write all your code and the interpreter in the same environment (think RStudio), you should consider using Canopy for now."
     ]
    },
    {
     "cell_type": "markdown",
     "metadata": {
      "slideshow": {
       "slide_type": "slide"
      }
     },
     "source": [
      "** Opening an interactive interpreter **\n",
      "After you have followed a tutorial that teaches you how to install Python, typically the next step is to start Python from the command line (OSX Terminal):\n",
      "\n",
      "```\n",
      "rweiss$ which python\n",
      "/usr/bin/python\n",
      "rweiss$ python\n",
      "Python 2.7.2 (default, Oct 11 2012, 20:14:37) \n",
      "[GCC 4.2.1 Compatible Apple Clang 4.0 (tags/Apple/clang-418.0.60)] on darwin\n",
      "Type \"help\", \"copyright\", \"credits\" or \"license\" for more information.\n",
      ">>>\n",
      "```\n",
      "\n",
      "The prompt with the `>>>` is interactive.  It's like the console in `R`.  You can type in your commands and the code is immediately interpreted and printed."
     ]
    },
    {
     "cell_type": "code",
     "collapsed": false,
     "input": [
      "** Don't use `python`.  Use `IPython`. ** \n",
      "\n",
      "```\n",
      "rweiss$ ipython\n",
      "Python 2.7.3 | 64-bit | (default, Jun 14 2013, 18:17:36) \n",
      "Type \"copyright\", \"credits\" or \"license\" for more information.\n",
      "\n",
      "IPython 2.0.0 -- An enhanced Interactive Python.\n",
      "?         -> Introduction and overview of IPython's features.\n",
      "%quickref -> Quick reference.\n",
      "help      -> Python's own help system.\n",
      "object?   -> Details about 'object', use 'object??' for extra details.\n",
      "\n",
      "In [1]: \n",
      "```"
     ],
     "language": "python",
     "metadata": {
      "slideshow": {
       "slide_type": "subslide"
      }
     },
     "outputs": []
    },
    {
     "cell_type": "markdown",
     "metadata": {
      "slideshow": {
       "slide_type": "slide"
      }
     },
     "source": [
      "# Package management\n",
      "\n",
      "`IPython` is a third-party library to basic Python.  Most third-party libraries are *modules*.\n",
      "\n",
      "If you have enstalled EPD, you already have `IPython!` plus a bunch of popular modules.  If not, you have to install the third-party module yourself.\n",
      "\n",
      "The most common solution is to use one of three "
     ]
    },
    {
     "cell_type": "code",
     "collapsed": false,
     "input": [
      "alphabet = 'abcdefghijklmnopqrstuvwxyz'\n",
      "print alphabet\n",
      "print alphabet[0]\n",
      "print alphabet[0:15]\n",
      "print alphabet[0:15:2]\n",
      "print alphabet[-1:]\n",
      "print alphabet[:-1]\n",
      "print alphabet[:-1:2]\n",
      "print alphabet.split()\n",
      "print list(alphabet)\n",
      "print [i for i in alphabet] # AKA List comprehension (note that strings are iterables!)\n",
      "print [i.upper() for i in alphabet[::2]]"
     ],
     "language": "python",
     "metadata": {
      "slideshow": {
       "slide_type": "slide"
      }
     },
     "outputs": [
      {
       "output_type": "stream",
       "stream": "stdout",
       "text": [
        "abcdefghijklmnopqrstuvwxyz\n",
        "a\n",
        "abcdefghijklmno\n",
        "acegikmo\n",
        "z\n",
        "abcdefghijklmnopqrstuvwxy\n",
        "acegikmoqsuwy\n",
        "['abcdefghijklmnopqrstuvwxyz']\n",
        "['a', 'b', 'c', 'd', 'e', 'f', 'g', 'h', 'i', 'j', 'k', 'l', 'm', 'n', 'o', 'p', 'q', 'r', 's', 't', 'u', 'v', 'w', 'x', 'y', 'z']\n",
        "['a', 'b', 'c', 'd', 'e', 'f', 'g', 'h', 'i', 'j', 'k', 'l', 'm', 'n', 'o', 'p', 'q', 'r', 's', 't', 'u', 'v', 'w', 'x', 'y', 'z']\n",
        "['A', 'C', 'E', 'G', 'I', 'K', 'M', 'O', 'Q', 'S', 'U', 'W', 'Y']\n"
       ]
      }
     ],
     "prompt_number": 30
    },
    {
     "cell_type": "code",
     "collapsed": false,
     "input": [
      "# http://stackoverflow.com/a/1952655\n",
      "# Duck typing (AKA 'Beg forgiveness')\n",
      "try:\n",
      "    iterator = iter(alphabet)\n",
      "except TypeError:\n",
      "    print 'Duck typing: Not iterable.'   \n",
      "else:\n",
      "    print 'Duck typing: Iterable.'\n",
      "\n",
      "# Type checking (AKA 'Ask permission') \n",
      "import collections\n",
      "\n",
      "if isinstance(alphabet, collections.Iterable):\n",
      "    print 'Type-checking: Iterable.'\n",
      "else:\n",
      "    print 'Type-checking: Not iterable.'    "
     ],
     "language": "python",
     "metadata": {
      "slideshow": {
       "slide_type": "subslide"
      }
     },
     "outputs": [
      {
       "output_type": "stream",
       "stream": "stdout",
       "text": [
        "Duck typing: Iterable.\n",
        "Type-checking: Iterable.\n"
       ]
      }
     ],
     "prompt_number": 21
    },
    {
     "cell_type": "code",
     "collapsed": false,
     "input": [
      "import string\n",
      "print string.ascii_lowercase\n",
      "print string.digits"
     ],
     "language": "python",
     "metadata": {
      "slideshow": {
       "slide_type": "subslide"
      }
     },
     "outputs": [
      {
       "output_type": "stream",
       "stream": "stdout",
       "text": [
        "abcdefghijklmnopqrstuvwxyz\n",
        "0123456789\n"
       ]
      }
     ],
     "prompt_number": 31
    },
    {
     "cell_type": "code",
     "collapsed": false,
     "input": [
      "numbers = list(string.digits)[0:5:2]\n",
      "print '\\t'.join([i for i in numbers])\n",
      "\n",
      "for i in numbers:\n",
      "    print 'Add 1 = {val}'.format(val=int(i) + 1)\n",
      "    \n",
      "for i in numbers:\n",
      "    print 'Times 2 = {val}'.format(val=int(i) * 2)\n",
      "    \n",
      "for i in numbers:\n",
      "    print 'Squared = {val}'.format(val=int(i) ** 2)"
     ],
     "language": "python",
     "metadata": {
      "slideshow": {
       "slide_type": "subslide"
      }
     },
     "outputs": [
      {
       "output_type": "stream",
       "stream": "stdout",
       "text": [
        "0\t2\t4\n",
        "Add 1 = 1\n",
        "Add 1 = 3\n",
        "Add 1 = 5\n",
        "Times 2 = 0\n",
        "Times 2 = 4\n",
        "Times 2 = 8\n",
        "Squared = 0\n",
        "Squared = 4\n",
        "Squared = 16\n"
       ]
      }
     ],
     "prompt_number": 64
    },
    {
     "cell_type": "code",
     "collapsed": false,
     "input": [
      "import random\n",
      "foo = set() # can also say {[]}\n",
      "bar = list() # can also say []\n",
      "\n",
      "for i in xrange(10):\n",
      "    val = random.randint(0, 100)\n",
      "    foo.add(val)\n",
      "    bar.append(val)\n",
      "\n",
      "print '10 iterations: {setlength}'.format(setlength=len(foo))\n",
      "print '10 iterations: {listlength}'.format(listlength=len(bar))\n",
      "\n",
      "for i in xrange(100):\n",
      "    val = random.randint(0, 100)\n",
      "    foo.add(val)\n",
      "    bar.append(val)\n",
      "\n",
      "print '100 iterations: {setlength}'.format(setlength=len(foo))\n",
      "print '100 iterations: {listlength}'.format(listlength=len(bar))\n",
      "\n",
      "for i in xrange(1000):\n",
      "    val = random.randint(0, 100)\n",
      "    foo.add(val)\n",
      "    bar.append(val)\n",
      "\n",
      "print '1000 iterations: {setlength}'.format(setlength=len(foo))\n",
      "print '1000 iterations: {listlength}'.format(listlength=len(bar))\n"
     ],
     "language": "python",
     "metadata": {
      "slideshow": {
       "slide_type": "subslide"
      }
     },
     "outputs": [
      {
       "output_type": "stream",
       "stream": "stdout",
       "text": [
        "10 iterations: 10\n",
        "10 iterations: 10\n",
        "100 iterations: 73\n",
        "100 iterations: 110\n",
        "1000 iterations: 101\n",
        "1000 iterations: 1110\n"
       ]
      }
     ],
     "prompt_number": 68
    },
    {
     "cell_type": "code",
     "collapsed": false,
     "input": [
      "baz = {}\n",
      "baz['a'] = 1\n",
      "baz['b'] = 2\n",
      "baz"
     ],
     "language": "python",
     "metadata": {
      "slideshow": {
       "slide_type": "subslide"
      }
     },
     "outputs": [
      {
       "metadata": {},
       "output_type": "pyout",
       "prompt_number": 40,
       "text": [
        "{'a': 1, 'b': 2}"
       ]
      }
     ],
     "prompt_number": 40
    },
    {
     "cell_type": "code",
     "collapsed": false,
     "input": [
      "baz['c'] = alphabet\n",
      "baz['d'] = numbers\n",
      "baz['e'] = list(numbers)\n",
      "baz['f'] = {'a': 1, 'b': 2}"
     ],
     "language": "python",
     "metadata": {
      "slideshow": {
       "slide_type": "subslide"
      }
     },
     "outputs": [
      {
       "metadata": {},
       "output_type": "pyout",
       "prompt_number": 45,
       "text": [
        "{'a': 1,\n",
        " 'b': 2,\n",
        " 'c': 'abcdefghijklmnopqrstuvwxyz',\n",
        " 'd': '0123456789',\n",
        " 'e': ['0', '1', '2', '3', '4', '5', '6', '7', '8', '9'],\n",
        " 'f': {'a': 1, 'b': 2}}"
       ]
      }
     ],
     "prompt_number": 45
    },
    {
     "cell_type": "code",
     "collapsed": false,
     "input": [
      "baz[alphabet] = '1'\n",
      "baz"
     ],
     "language": "python",
     "metadata": {
      "slideshow": {
       "slide_type": "subslide"
      }
     },
     "outputs": [
      {
       "metadata": {},
       "output_type": "pyout",
       "prompt_number": 47,
       "text": [
        "{'a': 1,\n",
        " 'abcdefghijklmnopqrstuvwxyz': '1',\n",
        " 'b': 2,\n",
        " 'c': 'abcdefghijklmnopqrstuvwxyz',\n",
        " 'd': '0123456789',\n",
        " 'e': ['0', '1', '2', '3', '4', '5', '6', '7', '8', '9'],\n",
        " 'f': {'a': 1, 'b': 2}}"
       ]
      }
     ],
     "prompt_number": 47
    },
    {
     "cell_type": "code",
     "collapsed": false,
     "input": [
      "baz[list(numbers)] = numbers"
     ],
     "language": "python",
     "metadata": {
      "slideshow": {
       "slide_type": "subslide"
      }
     },
     "outputs": [
      {
       "ename": "TypeError",
       "evalue": "unhashable type: 'list'",
       "output_type": "pyerr",
       "traceback": [
        "\u001b[0;31m---------------------------------------------------------------------------\u001b[0m\n\u001b[0;31mTypeError\u001b[0m                                 Traceback (most recent call last)",
        "\u001b[0;32m<ipython-input-48-a90e71148a56>\u001b[0m in \u001b[0;36m<module>\u001b[0;34m()\u001b[0m\n\u001b[0;32m----> 1\u001b[0;31m \u001b[0mbaz\u001b[0m\u001b[0;34m[\u001b[0m\u001b[0mlist\u001b[0m\u001b[0;34m(\u001b[0m\u001b[0mnumbers\u001b[0m\u001b[0;34m)\u001b[0m\u001b[0;34m]\u001b[0m \u001b[0;34m=\u001b[0m \u001b[0mnumbers\u001b[0m\u001b[0;34m\u001b[0m\u001b[0m\n\u001b[0m",
        "\u001b[0;31mTypeError\u001b[0m: unhashable type: 'list'"
       ]
      }
     ],
     "prompt_number": 48
    },
    {
     "cell_type": "code",
     "collapsed": false,
     "input": [
      "from IPython.display import HTML\n",
      "import requests\n",
      "\n",
      "r = requests.get('https://isitchristmas.com/')\n",
      "\n",
      "HTML(\"<iframe src=\" + r.url + \" width=100% height=400px></iframe>\")"
     ],
     "language": "python",
     "metadata": {
      "slideshow": {
       "slide_type": "slide"
      }
     },
     "outputs": [
      {
       "html": [
        "<iframe src=https://isitchristmas.com/ width=100% height=400px></iframe>"
       ],
       "metadata": {},
       "output_type": "pyout",
       "prompt_number": 141,
       "text": [
        "<IPython.core.display.HTML at 0x10ac01f10>"
       ]
      }
     ],
     "prompt_number": 141
    },
    {
     "cell_type": "code",
     "collapsed": false,
     "input": [
      "import requests\n",
      "\n",
      "r = requests.get('https://isitchristmas.com/')\n",
      "r"
     ],
     "language": "python",
     "metadata": {
      "slideshow": {
       "slide_type": "subslide"
      }
     },
     "outputs": [
      {
       "metadata": {},
       "output_type": "pyout",
       "prompt_number": 133,
       "text": [
        "<Response [200]>"
       ]
      }
     ],
     "prompt_number": 133
    },
    {
     "cell_type": "code",
     "collapsed": false,
     "input": [
      "print 'Server response status code = ' + r.status_code"
     ],
     "language": "python",
     "metadata": {
      "slideshow": {
       "slide_type": "subslide"
      }
     },
     "outputs": [
      {
       "ename": "TypeError",
       "evalue": "cannot concatenate 'str' and 'int' objects",
       "output_type": "pyerr",
       "traceback": [
        "\u001b[0;31m---------------------------------------------------------------------------\u001b[0m\n\u001b[0;31mTypeError\u001b[0m                                 Traceback (most recent call last)",
        "\u001b[0;32m<ipython-input-134-1718457ff3bf>\u001b[0m in \u001b[0;36m<module>\u001b[0;34m()\u001b[0m\n\u001b[0;32m----> 1\u001b[0;31m \u001b[0;32mprint\u001b[0m \u001b[0;34m'Server response status code = '\u001b[0m \u001b[0;34m+\u001b[0m \u001b[0mr\u001b[0m\u001b[0;34m.\u001b[0m\u001b[0mstatus_code\u001b[0m\u001b[0;34m\u001b[0m\u001b[0m\n\u001b[0m",
        "\u001b[0;31mTypeError\u001b[0m: cannot concatenate 'str' and 'int' objects"
       ]
      }
     ],
     "prompt_number": 134
    },
    {
     "cell_type": "code",
     "collapsed": false,
     "input": [
      "print type(r.status_code)\n",
      "print 'Server response status code = ' + str(r.status_code)\n",
      "print 'Server response status code = %i' % r.status_code\n",
      "print 'Server response status code = {statuscode}'.format(statuscode=r.status_code)"
     ],
     "language": "python",
     "metadata": {
      "slideshow": {
       "slide_type": "fragment"
      }
     },
     "outputs": [
      {
       "output_type": "stream",
       "stream": "stdout",
       "text": [
        "<type 'int'>\n",
        "Server response status code = 200\n",
        "Server response status code = 200\n",
        "Server response status code = 200\n"
       ]
      }
     ],
     "prompt_number": 135
    },
    {
     "cell_type": "code",
     "collapsed": false,
     "input": [
      "for attr in dir(r):\n",
      "    if attr.startswith('__') or attr.startswith('_'):\n",
      "        pass\n",
      "    else:\n",
      "        print attr"
     ],
     "language": "python",
     "metadata": {
      "slideshow": {
       "slide_type": "subslide"
      }
     },
     "outputs": [
      {
       "output_type": "stream",
       "stream": "stdout",
       "text": [
        "apparent_encoding\n",
        "close\n",
        "connection\n",
        "content\n",
        "cookies\n",
        "elapsed\n",
        "encoding\n",
        "headers\n",
        "history\n",
        "iter_content\n",
        "iter_lines\n",
        "json\n",
        "links\n",
        "ok\n",
        "raise_for_status\n",
        "raw\n",
        "reason\n",
        "request\n",
        "status_code\n",
        "text\n",
        "url\n"
       ]
      }
     ],
     "prompt_number": 136
    },
    {
     "cell_type": "code",
     "collapsed": false,
     "input": [
      "import pprint\n",
      "print r.encoding\n",
      "headers = r.headers\n",
      "pprint.pprint(headers.items())"
     ],
     "language": "python",
     "metadata": {
      "slideshow": {
       "slide_type": "subslide"
      }
     },
     "outputs": [
      {
       "output_type": "stream",
       "stream": "stdout",
       "text": [
        "utf-8\n",
        "[('content-encoding', 'gzip'),\n",
        " ('x-powered-by', 'Express'),\n",
        " ('transfer-encoding', 'chunked'),\n",
        " ('strict-transport-security', 'max-age=31536000'),\n",
        " ('vary', 'Accept-Encoding'),\n",
        " ('server', 'nginx/1.5.12'),\n",
        " ('connection', 'keep-alive'),\n",
        " ('date', 'Sun, 20 Apr 2014 08:21:10 GMT'),\n",
        " ('content-type', 'text/html; charset=utf-8')]\n"
       ]
      }
     ],
     "prompt_number": 138
    },
    {
     "cell_type": "code",
     "collapsed": false,
     "input": [
      "print r.text"
     ],
     "language": "python",
     "metadata": {
      "slideshow": {
       "slide_type": "slide"
      }
     },
     "outputs": [
      {
       "output_type": "stream",
       "stream": "stdout",
       "text": [
        "<!doctype html>\n",
        "<html lang=\"en\">\n",
        "<head>\n",
        "  <link rel=\"authors\" href=\"/humans.txt\" />\n",
        "  <link rel=\"warrant canary\" href=\"/canary.txt\" />\n",
        "\n",
        "  <meta charset=\"utf-8\" />\n",
        "  <title>Is it Christmas?</title>\n",
        "\n",
        "  <link rel=\"shortcut icon\" href=\"/favicon.ico\" />\n",
        "\n",
        "  <link rel=\"alternate\" title=\"Is It Christmas?\" href=\"/rss.xml\" type=\"application/rss+xml\" />\n",
        "  <link rel=\"alternate\" title=\"Is It Christmas? (Christmas only)\" href=\"/rss.xml?only=yes\" type=\"application/rss+xml\" />\n",
        "\n",
        "  <meta property=\"twitter:account_id\" content=\"5232171\" />\n",
        "\n",
        "  <style type=\"text/css\">\n",
        "    html, body {height: 100%;}\n",
        "    body {text-align: center;}\n",
        "\n",
        "    a#answer {\n",
        "      display: inline-block;\n",
        "      margin-top: 200px;\n",
        "      font-weight: bold;\n",
        "      font-size: 120pt;\n",
        "      font-family: Arial, sans-serif;\n",
        "      text-decoration: none;\n",
        "      color: black;\n",
        "    }\n",
        "\n",
        "    .flag {\n",
        "      position: absolute;\n",
        "      cursor: none;\n",
        "\n",
        "      border: 1px solid #d6d6d6;\n",
        "\n",
        "      -webkit-border-radius: 2px;\n",
        "           -o-border-radius: 2px;\n",
        "              border-radius: 2px;\n",
        "    }\n",
        "    .flag.ghost {opacity: 0.4;}\n",
        "    .flag.me {pointer-events: none;}\n",
        "\n",
        "    .click {\n",
        "      position: absolute;\n",
        "      border: 1px solid #000;\n",
        "\n",
        "      -webkit-border-radius: 3px;\n",
        "              border-radius: 3px;\n",
        "\n",
        "      -webkit-transition: 0.5s ease-out;\n",
        "         -moz-transition: 0.5s ease-out;\n",
        "           -o-transition: 0.5s ease-out;\n",
        "              transition: 0.5s ease-out;\n",
        "    }\n",
        "\n",
        "    #legend {\n",
        "      position: fixed;\n",
        "      top: 0; right: 0;\n",
        "      width: 200px;\n",
        "      padding-right: 15px; padding-top: 5px;\n",
        "      text-align: right;\n",
        "      font-size: 10pt;\n",
        "    }\n",
        "  </style>\n",
        "\n",
        "  <script type=\"text/javascript\" src=\"/js/christmas.js\"></script>\n",
        "\n",
        "  <script type=\"text/javascript\">window._ie9 = false;</script>\n",
        "  <!--[if IE 9 ]>\n",
        "    <script type=\"text/javascript\">window._ie9 = true;</script>\n",
        "  <![endif]-->\n",
        "\n",
        "  <!-- IE10 JS targeting, from http://stackoverflow.com/a/17099988 -->\n",
        "  <!-- IE11 JS targeting, from http://stackoverflow.com/a/17447695 -->\n",
        "  <script type=\"text/javascript\">\n",
        "    window._ie10 = (\"onpropertychange\" in document && !!window.matchMedia);\n",
        "    window._ie11 = !!navigator.userAgent.match(/Trident\\/7.0; rv 11/);\n",
        "    window._ie = window._ie9 || window._ie10 || window._ie11;\n",
        "  </script>\n",
        "</head>\n",
        "\n",
        "<body>\n",
        "  <!--\n",
        "    Initial 'title' and noscript values are server-side fallbacks,\n",
        "    calculated with UTC, for clients who do not have JS enabled.\n",
        "  -->\n",
        "  <a id=\"answer\"\n",
        "    title=\"NO\">\n",
        "    <noscript>NO</noscript>\n",
        "  </a>\n",
        "\n",
        "  <div id=\"legend\"></div>\n",
        "\n",
        "  <!-- replace fallback data with locally calculated values -->\n",
        "  <script type=\"text/javascript\">\n",
        "    var country = \"US\";\n",
        "    if (!(Christmas.countries[country] && Christmas.countries[country].width))\n",
        "      country = \"EO\";\n",
        "\n",
        "    var me = {\n",
        "      country: country\n",
        "    };\n",
        "\n",
        "    var checkedAt; // store last check, to manage race conditions\n",
        "    function updateChristmas(isIt) {\n",
        "      me.christmas = isIt;\n",
        "\n",
        "      var answer;\n",
        "      if (isIt)\n",
        "        answer = Christmas.yes(country);\n",
        "      else\n",
        "        answer = Christmas.no(country);\n",
        "\n",
        "      var elem = document.getElementById('answer');\n",
        "      elem.innerHTML = answer;\n",
        "      elem.setAttribute(\"title\", answer);\n",
        "\n",
        "      checkedAt = Date.now();\n",
        "    }\n",
        "\n",
        "    updateChristmas(Christmas.isIt());\n",
        "  </script>\n",
        "\n",
        "\n",
        "  \n",
        "    <script>\n",
        "      (function(i,s,o,g,r,a,m){i['GoogleAnalyticsObject']=r;i[r]=i[r]||function(){\n",
        "      (i[r].q=i[r].q||[]).push(arguments)},i[r].l=1*new Date();a=s.createElement(o),\n",
        "      m=s.getElementsByTagName(o)[0];a.async=1;a.src=g;m.parentNode.insertBefore(a,m)\n",
        "      })(window,document,'script','//www.google-analytics.com/analytics.js','ga');\n",
        "\n",
        "      ga('create', 'UA-252618-5', 'isitchristmas.com');\n",
        "      ga('set', 'anonymizeIp', true);\n",
        "      ga('send', 'pageview');\n",
        "\n",
        "    </script>\n",
        "  \n",
        "\n",
        "\n",
        "  <!-- optional: interaction -->\n",
        "  <script src=\"/js/browser.js\"></script>\n",
        "  <script src=\"/js/css.js\"></script>\n",
        "  <script src=\"/js/sockjs.min.js\"></script>\n",
        "  <script src=\"/js/emoji.js\"></script>\n",
        "  <script type=\"text/javascript\">\n",
        "\n",
        "    var socket;\n",
        "    var others = {};\n",
        "\n",
        "    var user = {\n",
        "      log: {\n",
        "        join: false, // join/leave messages\n",
        "        info: false,   // default\n",
        "        debug: false, // you know\n",
        "\n",
        "        life: true,  // life and death events\n",
        "        chat: true,  // chat messages\n",
        "        system: true // messages from the system for the public\n",
        "      },\n",
        "\n",
        "      retry: {\n",
        "        id: null, // the timeout id\n",
        "        initial: 500, // milliseconds\n",
        "        multiplier: 2, // multiply after every retry\n",
        "        current: 500 // will change\n",
        "      },\n",
        "\n",
        "      // values will be overwritten on hello in production\n",
        "      live: {\n",
        "        mouse_rate: 20,\n",
        "        heartbeat_interval: 3000,\n",
        "        death_interval: 6000,\n",
        "        chat: \"true\",\n",
        "\n",
        "        ghost_duration: 2000,\n",
        "        ghost_max: 10\n",
        "      }\n",
        "    };\n",
        "\n",
        "    me.flag = null;\n",
        "    me.ghosts = 0;\n",
        "    me.angle = 0;\n",
        "    me.alreadyArrived = false;\n",
        "    me.notify = false;\n",
        "\n",
        "    if (window.localStorage) {\n",
        "      me.savedName = window.localStorage.getItem(\"me.name\");\n",
        "      me.notify = (window.localStorage.getItem(\"me.notify\") == \"true\");\n",
        "      if (canNotify && me.notify && !(Notification.permission == \"granted\"))\n",
        "        notifications.permission();\n",
        "    }\n",
        "\n",
        "    // sockjs server endpoint\n",
        "    \n",
        "      \n",
        "      var url = \"https://iic_sockets.nodejitsu.com/christmas\";\n",
        "    \n",
        "\n",
        "    // whether activity is visible to the user\n",
        "    var visible = false;\n",
        "\n",
        "    // whether to force into readonly mode (see mice, but no sending of own action)\n",
        "    var force_readonly = false;\n",
        "\n",
        "    // whether we need to force chat to stay plain-text (no styles).\n",
        "    // right now, the only situation that's relevant is IE9 and IE10.\n",
        "    var plainConsole = false || !!window._ie;\n",
        "\n",
        "    // force it to use a particular transport\n",
        "    var transport = \"\";\n",
        "\n",
        "    // allowed transports\n",
        "    var default_transports = [\n",
        "      \"websocket\", // most everyone nowadays\n",
        "      \"xhr-streaming\", // older versions of non-IE, and when networks block websockets\n",
        "      \"xdr-streaming\" // IE9 9_9\n",
        "    ];\n",
        "\n",
        "    // html5 notifications (opt-in)\n",
        "    var canNotify = \"Notification\" in window;\n",
        "\n",
        "    // tiny events/commands system\n",
        "    var events = {};\n",
        "    var commands = {};\n",
        "    function on(event, func) {events[event] = func;}\n",
        "    function command(cmd, func) {commands[cmd] = func;}\n",
        "    function noop() {};\n",
        "\n",
        "    // managing heartbeats\n",
        "    var heartbeat, death;\n",
        "    var suicide = false; // why would you do this\n",
        "\n",
        "    // country legend and fade timer\n",
        "    var legend = document.getElementById(\"legend\"),\n",
        "        legendTimeout;\n",
        "\n",
        "    // timers for xmas-in and xmas-out\n",
        "    var christmasTimer,\n",
        "        christmasEndTimer;\n",
        "\n",
        "    \n",
        "\n",
        "    var clickMap = {0: \"left\", 1: \"middle\", 2: \"right\"};\n",
        "    var clickbacks = {};\n",
        "\n",
        "\n",
        "/**** basic connection and event management ***/\n",
        "\n",
        "    function connect(host) {\n",
        "      socket = new SockJS(host, null, {\n",
        "        protocols_whitelist: transport ? [transport] : default_transports\n",
        "      });\n",
        "\n",
        "      socket.onopen = function() {\n",
        "        log.info(\"= Connected via \" + socket.protocol);\n",
        "\n",
        "        me.transport = socket.protocol;\n",
        "\n",
        "        // XDR doesn't have good enough upstream speed for mouse motion\n",
        "        me.readonly = force_readonly || (me.transport == \"xdr-streaming\");\n",
        "\n",
        "        // reset retry timer, we're in\n",
        "        user.retry.current = user.retry.initial;\n",
        "      };\n",
        "\n",
        "      socket.onclose = onDeath;\n",
        "\n",
        "      socket.onmessage = function(message) {\n",
        "        var data = JSON.parse(message.data);\n",
        "        (events[data._event] || noop)(data);\n",
        "      };\n",
        "    }\n",
        "\n",
        "    var rawSend = function(message) {socket.send(message)};\n",
        "    var limiters = {\n",
        "      chat: ratelimit(rawSend, 500),\n",
        "      motion: ratelimitLive(rawSend, 'mouse_rate'),\n",
        "      scroll: ratelimit(rawSend, 50),\n",
        "      click: ratelimit(rawSend, 50)\n",
        "      // covers click, scroll, anything else\n",
        "      // fallback: ratelimit(rawSend, 20)\n",
        "    };\n",
        "\n",
        "    function emit(event, data) {\n",
        "      if (!me.id || !me.transport) {\n",
        "        log.info(\"= Weird state! Trying to emit events when I have no ID. :|\")\n",
        "        return;\n",
        "      }\n",
        "\n",
        "      data = data || {};\n",
        "      data._event = event;\n",
        "      var message = JSON.stringify(data);\n",
        "      (limiters[event] || rawSend)(message);\n",
        "    }\n",
        "\n",
        "\n",
        "\n",
        "/*** user join/leave management ***/\n",
        "\n",
        "    on('hello', function(data) {\n",
        "      log.info(\"= Assigned ID: \" + data.user.id + \" [on: \" + data.server + \"]\");\n",
        "\n",
        "      // used only directly by other clients when packets are blindly rebroadcast.\n",
        "      // me.id will never be depended on by the server.\n",
        "      me.id = data.user.id;\n",
        "\n",
        "      // convenience only for console poking, can safely delete\n",
        "      me.server = data.server;\n",
        "\n",
        "      // for display only, never sent, is overwritten on server-validated rename\n",
        "      me.name = data.user.name;\n",
        "\n",
        "      // server-overridden client options\n",
        "      for (var key in data.live)\n",
        "        user.live[key] = data.live[key];\n",
        "\n",
        "      me.browser = BrowserDetect.browser;\n",
        "      me.os = BrowserDetect.OS;\n",
        "      me.version = BrowserDetect.version;\n",
        "\n",
        "      // welcome user, unless it's a reconnect\n",
        "      if (!me.alreadyArrived)\n",
        "        welcomeUser();\n",
        "\n",
        "      // if we have a saved name, re-validate that name with the server\n",
        "      if (me.savedName)\n",
        "        rename(me.savedName);\n",
        "      else {\n",
        "        myName();\n",
        "        log.system(\" \");\n",
        "      }\n",
        "\n",
        "\n",
        "      // all users announce their info to the server and start a heartbeat\n",
        "      emit('arrive', myHeart());\n",
        "\n",
        "      // update me to indicate I've sent 'arrive' once\n",
        "      // server will know that future connects are reconnects\n",
        "      me.alreadyArrived = true;\n",
        "\n",
        "      setHeartbeat();\n",
        "      setCursor(me.country);\n",
        "\n",
        "      document.onmousemove = mouseMove;\n",
        "      document.onmousedown = mouseClick;\n",
        "      document.onmousewheel = mouseWheel;\n",
        "      document.addEventListener(\"DOMMouseScroll\", mouseWheel, false);\n",
        "      document.oncontextmenu = function() {return false};\n",
        "    });\n",
        "\n",
        "    // core user details\n",
        "    var myHeart = function() {\n",
        "      return {\n",
        "        id: me.id, // used in rebroadcasting only\n",
        "        angle: me.angle, // useful on reconnecting\n",
        "        alreadyArrived: me.alreadyArrived, // new or reconnect?\n",
        "        country: me.country, // this is used only on arrival\n",
        "        transport: me.transport,\n",
        "        browser: me.browser,\n",
        "        version: me.version,\n",
        "        os: me.os\n",
        "      };\n",
        "    };\n",
        "\n",
        "    var onDeath = function() {\n",
        "      log.life(\"= Disconnected! :(\");\n",
        "\n",
        "      clearTimeout(heartbeat);\n",
        "      clearTimeout(death);\n",
        "\n",
        "      for (var id in others)\n",
        "        removeOther(id);\n",
        "\n",
        "      document.onmousemove = null;\n",
        "      document.onmousedown = null;\n",
        "      document.onmousewheel = null;\n",
        "      document.oncontextmenu = null;\n",
        "\n",
        "      me.id = null;\n",
        "      me.transport = null;\n",
        "      me.time = null;\n",
        "      if (me.flag && me.flag.parentElement)\n",
        "        me.flag.parentElement.removeChild(me.flag);\n",
        "\n",
        "      setRetry();\n",
        "    };\n",
        "\n",
        "    var setRetry = function() {\n",
        "      log.life(\"= Retrying in \" + user.retry.current + \"ms...\");\n",
        "      user.retry.id = setTimeout(function() {\n",
        "        connect(url);\n",
        "      }, user.retry.current);\n",
        "\n",
        "      user.retry.current = user.retry.current * user.retry.multiplier;\n",
        "    }\n",
        "\n",
        "    var setHeartbeat = function() {\n",
        "      clearTimeout(heartbeat);\n",
        "      heartbeat = setTimeout(function() {\n",
        "        log.debug(\"heartbeat: beating\");\n",
        "        emit(\"heartbeat\", myHeart());\n",
        "      }, parseInt(user.live.heartbeat_interval));\n",
        "\n",
        "      death = setTimeout(function() {\n",
        "        log.life(\"= Died from lack of heartbeat :(\")\n",
        "        socket.close();\n",
        "      }, parseInt(user.live.death_interval));\n",
        "    };\n",
        "\n",
        "    on(\"heartbeat\", function(data) {\n",
        "      if (suicide) return; // let death take me\n",
        "\n",
        "      clearTimeout(death); // death averted\n",
        "      log.debug(\"heartbeat: returned, death averted\");\n",
        "\n",
        "      setHeartbeat();\n",
        "    });\n",
        "\n",
        "    on('arrive', function(other) {\n",
        "      registerOther(other);\n",
        "\n",
        "      // let a new arrival know you are already here\n",
        "      emit(\"here\", {to: other.id});\n",
        "    });\n",
        "\n",
        "    on('here', function(other) {\n",
        "      registerOther(other);\n",
        "    });\n",
        "\n",
        "    on('leave', function(data) {\n",
        "      removeOther(data.id);\n",
        "    });\n",
        "\n",
        "    on('ping', function(data) {\n",
        "      log.debug(\"Ping.\");\n",
        "      if (me.flag) {\n",
        "        var x = parseInt(me.flag.style.left);\n",
        "        var y = parseInt(me.flag.style.top);\n",
        "        if (!isNaN(x) && !isNaN(y))\n",
        "          emit(\"pong\", {x: x, y: y, angle: me.angle});\n",
        "      }\n",
        "    })\n",
        "\n",
        "    var registerOther = function(other) {\n",
        "      if (others[other.id]) return;\n",
        "\n",
        "      others[other.id] = {\n",
        "        country: other.country,\n",
        "        ghosts: 0,\n",
        "        angle: (other.angle || 0)\n",
        "      };\n",
        "\n",
        "      var flag = plainConsole ? \"[\" + other.country + \"]\" : \"%c   \";\n",
        "      log.join(flag + \"%c [\" + other.id.slice(8) + \"] Joined from \" + other.country + \" (\" + Christmas.countries[other.country].name + \")\", styles.flag(other.country), styles.join);\n",
        "    };\n",
        "\n",
        "    // the creation of an element per-user is only sparked by that user's mouse motion.\n",
        "    // so read-only (non-WS) clients will connect and be known, but not cause\n",
        "    // elements to be generated.\n",
        "    var showOther = function(other) {\n",
        "      // make up for shortened key name\n",
        "      other.country = other.country || other.c;\n",
        "\n",
        "      // in case this comes before the 'arrive' event does\n",
        "      registerOther(other);\n",
        "\n",
        "      others[other.id].flag = flagFor(other.country, \"other\");\n",
        "\n",
        "      if (others[other.id].angle)\n",
        "        setRotate(others[other.id].flag, others[other.id].angle);\n",
        "\n",
        "      if (visible)\n",
        "        document.body.appendChild(others[other.id].flag);\n",
        "    };\n",
        "\n",
        "    var removeOther = function(id) {\n",
        "      if (!others[id]) return;\n",
        "      var country = others[id].country;\n",
        "\n",
        "      var elem = others[id].flag;\n",
        "      if (elem && elem.parentElement)\n",
        "        elem.parentElement.removeChild(elem);\n",
        "\n",
        "      delete others[id];\n",
        "      var flag = plainConsole ? \"[\" + country + \"]\" : \"%c   \";\n",
        "      log.join(flag + \"%c [\" + id.slice(8) + \"] Departed from \" + country + \" (\" + Christmas.countries[country].name + \")\", styles.flag(country), styles.join);\n",
        "    };\n",
        "\n",
        "\n",
        "/**** FLAG MECHANICS ***/\n",
        "\n",
        "    var setCursor = function(country) {\n",
        "      me.flag = flagFor(country, \"me\");\n",
        "      me.flag._new = true; // used to lazy-add element only if moved\n",
        "      me.flag.style.zIndex = 9999; // on top of the world\n",
        "      setRotate(me.flag, me.angle); // preserve angle on reconnect\n",
        "    };\n",
        "\n",
        "    // [m|M]ozTransform is for older Firefox versions\n",
        "    var setRotate = function(elem, angle) {\n",
        "      if (!elem) return;\n",
        "      elem.style.transform = elem.style.mozTransform = elem.style.MozTransform = elem.style.webkitTransform = elem.style.msTransform = \"rotate(\" + angle + \"deg)\";\n",
        "    };\n",
        "\n",
        "    var flagFor = function(country, klass) {\n",
        "      var div = document.createElement('div');\n",
        "      div.className = \"flag \" + klass;\n",
        "\n",
        "      var flag = document.createElement('img');\n",
        "      flag.src = \"/countries/\" + country + \".png\";\n",
        "\n",
        "      // create a legend in the top-right when you mouse over other people's flags\n",
        "      if (klass == \"other\") {\n",
        "        div.onmouseover = function() {\n",
        "          clearTimeout(legendTimeout);\n",
        "          legend.innerHTML = Christmas.countries[country].names.join(\"<br/>\");\n",
        "          legend.style.opacity = 1;\n",
        "          legendTimeout = setTimeout(function() {\n",
        "            legend.style.opacity = 0;\n",
        "          }, 20000)\n",
        "        };\n",
        "      }\n",
        "\n",
        "      div.appendChild(flag);\n",
        "\n",
        "      // without this, div adds height padding, weird\n",
        "      div.style.height = \"20px\";\n",
        "\n",
        "      div.style.marginTop = \"-10px\"; // half of constant height 20\n",
        "      div.style.marginLeft = \"-\" + (flagWidth(country) / 2) + \"px\";\n",
        "\n",
        "      return div;\n",
        "    };\n",
        "\n",
        "    // there is sadly no international standard on flag aspect ratio\n",
        "    var flagWidth = function(country) {\n",
        "      return ((Christmas.countries[country] && Christmas.countries[country].width) || 40);\n",
        "    }\n",
        "\n",
        "\n",
        "    var mouseMove = function(event) {\n",
        "      event = event || window.event;\n",
        "\n",
        "      // only show it on first movement\n",
        "      if (me.flag._new && visible && event.clientX && event.clientY) {\n",
        "        document.body.appendChild(me.flag);\n",
        "        document.body.style.cursor = \"none\";\n",
        "        document.getElementById(\"answer\").style.cursor = \"none\";\n",
        "        me.flag._new = false;\n",
        "      }\n",
        "\n",
        "      moveFlag(me.flag,\n",
        "        event.clientX + window.pageXOffset,\n",
        "        event.clientY + window.pageYOffset\n",
        "      );\n",
        "\n",
        "      if (!me.readonly) {\n",
        "        // is quick-rebroadcast, no server processing\n",
        "        emit('motion', {\n",
        "          x: event.clientX + window.pageXOffset,\n",
        "          y: event.clientY + window.pageYOffset,\n",
        "          id: me.id,\n",
        "          c: me.country\n",
        "        });\n",
        "      }\n",
        "    };\n",
        "\n",
        "    on('motion', function(other) {\n",
        "      // toss junk motion\n",
        "      if (!(other.x && other.y)) return;\n",
        "\n",
        "      if (!others[other.id] || !others[other.id].flag)\n",
        "        showOther(other);\n",
        "\n",
        "      moveFlag(others[other.id].flag, other.x, other.y);\n",
        "    });\n",
        "\n",
        "    var moveFlag = function(flag, x, y) {\n",
        "      // check x and y to prevent motion on 0,0\n",
        "      if (x && y) {\n",
        "        flag.style.left = \"\" + x + \"px\";\n",
        "        flag.style.top = \"\" + y + \"px\";\n",
        "      }\n",
        "    };\n",
        "\n",
        "    var mouseWheel = function(event) {\n",
        "      event = event || window.event;\n",
        "\n",
        "      // how many clicks, and in which direction\n",
        "      var direction;\n",
        "      if (event.wheelDelta)\n",
        "        direction = (event.wheelDelta > 0) ? 1 : -1;\n",
        "      else if (event.detail && (event.detail != 0))\n",
        "        direction = (event.detail > 0) ? -1 : 1;\n",
        "\n",
        "      var increment = 15;\n",
        "\n",
        "      if (direction > 0)\n",
        "        me.angle += increment;\n",
        "      else\n",
        "        me.angle -= increment;\n",
        "\n",
        "      setRotate(me.flag, me.angle);\n",
        "      emit('scroll', {id: me.id, angle: me.angle});\n",
        "\n",
        "      if (event.preventDefault) event.preventDefault();\n",
        "      return false;\n",
        "    }\n",
        "\n",
        "    on('scroll', function(other) {\n",
        "      // :(\n",
        "      if (me.readonly || window._ie9) return;\n",
        "\n",
        "      if (!others[other.id]) return;\n",
        "\n",
        "      others[other.id].angle = other.angle;\n",
        "      setRotate(others[other.id].flag, other.angle);\n",
        "    });\n",
        "\n",
        "    var mouseClick = function(event) {\n",
        "      event = event || window.event;\n",
        "\n",
        "      var button = clickMap[event.button];\n",
        "\n",
        "      // :(\n",
        "      if (me.readonly || window._ie9) return;\n",
        "\n",
        "      var x = event.clientX + window.pageXOffset;\n",
        "      var y = event.clientY + window.pageYOffset;\n",
        "\n",
        "      clickbacks[button](me, x, y);\n",
        "\n",
        "      // is quick-rebroadcast, no server processing\n",
        "      emit('click', {x: x, y: y, id: me.id, button: button});\n",
        "    };\n",
        "\n",
        "    on('click', function(other) {\n",
        "      // :(\n",
        "      if (me.readonly || window._ie9) return;\n",
        "\n",
        "      clickbacks[other.button](others[other.id], other.x, other.y);\n",
        "    });\n",
        "\n",
        "    clickbacks.left = function(person, x, y) {\n",
        "      if (!visible) return;\n",
        "      if (!person) return;\n",
        "\n",
        "      var elem = document.createElement(\"div\");\n",
        "\n",
        "      var width = flagWidth(person.country)\n",
        "      var height = 20; // constant flag height\n",
        "      var xOff = Math.floor(width / 2);\n",
        "      var yOff = Math.floor(height / 2);\n",
        "\n",
        "      if (canNotify && me.notify && !(Notification.permission == \"granted\"))\n",
        "        notifications.permission();\n",
        "\n",
        "      elem.className = \"click\";\n",
        "      elem.style.width = \"\" + width + \"px\";\n",
        "      elem.style.height = \"\" + height + \"px\";\n",
        "      elem.style.left = \"\" + (x - xOff) + \"px\";\n",
        "      elem.style.top = \"\" + (y - yOff) + \"px\";\n",
        "\n",
        "      setRotate(elem, person.angle);\n",
        "\n",
        "      document.body.appendChild(elem);\n",
        "      setTimeout(function() {\n",
        "        elem.style.width = \"\" + (width*2) + \"px\";\n",
        "        elem.style.height = \"\" + (height*2) + \"px\";\n",
        "        elem.style.borderColor = \"#fff\";\n",
        "        elem.style.left = \"\" + (x - width) + \"px\";\n",
        "        elem.style.top = \"\" + (y - height) + \"px\";\n",
        "        setTimeout(function() {\n",
        "          elem.parentElement.removeChild(elem);\n",
        "        }, 500);\n",
        "      }, 10);\n",
        "    };\n",
        "\n",
        "    // create a translucent ghost flag\n",
        "    clickbacks.right = function(person, x, y) {\n",
        "      if (!visible) return;\n",
        "      if (!person) return;\n",
        "\n",
        "      // enforce ghost cap\n",
        "      if (person.ghosts >= user.live.ghost_max)\n",
        "        return;\n",
        "\n",
        "      var ghost = flagFor(person.country, \"ghost\");\n",
        "      setRotate(ghost, person.angle);\n",
        "      document.body.appendChild(ghost);\n",
        "      moveFlag(ghost, x, y);\n",
        "      person.ghosts += 1;\n",
        "\n",
        "      // exists for 1s, fades for 1s\n",
        "      setTimeout(function() {\n",
        "        ghost.parentElement.removeChild(ghost);\n",
        "        if (person) person.ghosts -= 1;\n",
        "      }, user.live.ghost_duration);\n",
        "    };\n",
        "\n",
        "    clickbacks.middle = function(person, x, y) {\n",
        "      person.angle = 0;\n",
        "      setRotate(person.flag, 0);\n",
        "    };\n",
        "\n",
        "\n",
        "/**** Chat mechanics ****/\n",
        "\n",
        "    // welcome user once, then after every 10 chat messages received.\n",
        "    // turn off when the user first uses say().\n",
        "    var said = false;\n",
        "    var chatsSince = 0;\n",
        "\n",
        "    var myName = function() {\n",
        "      var hello = \"%cYour name is \";\n",
        "      hello += \"%c\" + me.name;\n",
        "      hello += \"%c. Hello, \";\n",
        "      hello += \"%c\" + me.name;\n",
        "      hello += \"%c.\";\n",
        "      log.system(hello, styles.system, styles.chat_my_name, styles.system, styles.chat_my_name, styles.system);\n",
        "\n",
        "      var hasName = false;\n",
        "      if (window.localStorage) {\n",
        "        var name = window.localStorage.getItem(\"me.name\", me.name);\n",
        "        if (name) hasName = true;\n",
        "      }\n",
        "\n",
        "      if (!hasName)\n",
        "        spam();\n",
        "    }\n",
        "\n",
        "    var spam = function() {\n",
        "      var msg = \"%cPlease%c don't spam and ruin the chat! %c  %c %c  %c %c  \";\n",
        "      log.system(msg, styles.please, styles.spam, styles.emoji(\"smiley\"), styles.spam, styles.emoji(\"heart\"), styles.spam, styles.emoji(\"christmas_tree\"));\n",
        "    }\n",
        "\n",
        "    // I'll have to figure out a better syntax for\n",
        "    var welcomeUser = function() {\n",
        "      if (user.live.chat != \"true\") return;\n",
        "\n",
        "      log.system(\"%cCommands:\", styles.help);\n",
        "      log.system(\" \");\n",
        "      var help1a = \"%csay%c - Say a message to other people.\"\n",
        "      var help1 = \"%csay(\\\"message\\\")\";\n",
        "      help1 += \"%c - Say a %cmessage %cto other people. (Include the quotes and parentheses!)\";\n",
        "      var help2a = \"%crename%c - Change to a new name.\";\n",
        "      var help2 = \"%crename(\\\"Name\\\")\";\n",
        "      help2 += \"%c - Change to a new %cName%c. (Include the quotes and parentheses!)\";\n",
        "      var help3 = \"%chelp%c - See this message again.\";\n",
        "      var help4 = \"%cadvanced%c - See menu of advanced options.\";\n",
        "      log.system(help1a, styles.help_bold, styles.help);\n",
        "      log.system(help2a, styles.help_bold, styles.help);\n",
        "      log.system(help1, styles.help_bold, styles.help, styles.help_bold, styles.help);\n",
        "      log.system(help2, styles.help_bold, styles.help, styles.help_bold, styles.help);\n",
        "      log.system(help3, styles.help_bold, styles.help);\n",
        "      log.system(help4, styles.help_bold, styles.help);\n",
        "      log.system(\" \");\n",
        "\n",
        "      return \" \"; // when used via 'help'\n",
        "    };\n",
        "\n",
        "    var showAdvanced = function() {\n",
        "      if (user.live.chat != \"true\") return;\n",
        "\n",
        "      var advanced1 = \"%ctraffic%c - Turn on/off messages whenever people enter/leave your room. (Currently \";\n",
        "      advanced1 += \"%c\" + (user.log.join ? \"on\" : \"off\") + \"%c.)\";\n",
        "      var advanced2 = \"%cemoji%c - How to use emoji in chat.\";\n",
        "      var advanced3 = \"%croom%c - Stats about the room you're in.\"\n",
        "      var advanced4 = \"%cwtf%c - How is this happening\"\n",
        "      var advanced5 = \"%cnotifications%c - Enable notifications for when you are mentioned\"\n",
        "\n",
        "      var credit = \"%cMade by https://twitter.com/konklone, full credits at https://isitchristmas.com/humans.txt\";\n",
        "\n",
        "      log.system(\"%cAdvanced commands:\", styles.help);\n",
        "      log.system(\" \");\n",
        "      log.system(advanced1, styles.help_bold, styles.help, styles.help_bold, styles.help);\n",
        "      log.system(advanced2, styles.help_bold, styles.help);\n",
        "      log.system(advanced3, styles.help_bold, styles.help);\n",
        "      log.system(advanced4, styles.help_bold, styles.help);\n",
        "      log.system(advanced5, styles.help_bold, styles.help);\n",
        "      log.system(\" \");\n",
        "      log.system(credit, styles.system);\n",
        "      spam();\n",
        "\n",
        "      return \" \";\n",
        "    };\n",
        "\n",
        "    var showEmoji = function() {\n",
        "      log.system(\"%cYou can put :'s around some words to create emoji.\", styles.system)\n",
        "      log.system(\" \");\n",
        "      log.system(\"%cFor example, %csay(%c\\\"I am :worried: you will :facepunch: me\\\"%c)\", styles.system, styles.info, styles.info_bold, styles.info);\n",
        "      log.system(\"%cwill say: %cI am %c  %c you will %c  %c me\", styles.system, styles.info_bold, styles.emoji(\"worried\"), styles.info_bold, styles.emoji(\"facepunch\"), styles.info_bold);\n",
        "      log.system(\" \");\n",
        "      log.system(\"%cfull emoji reference (and my data source): http://www.emoji-cheat-sheet.com\", styles.system)\n",
        "      return \" \";\n",
        "    };\n",
        "\n",
        "    var showRoom = function() {\n",
        "      // re-key others by country\n",
        "      var countries = {};\n",
        "      for (var id in others) {\n",
        "        var country = others[id].country;\n",
        "        if (!countries[country]) countries[country] = [];\n",
        "        countries[country].push(id);\n",
        "      }\n",
        "\n",
        "      // sort by size\n",
        "      var stats = Object.keys(countries);\n",
        "      stats.sort(function(a, b) {\n",
        "        return countries[a].length < countries[b].length\n",
        "      });\n",
        "\n",
        "      log.system(\"%cYou're in a randomly chosen 'room' with the other flags. Stats about your room:\", styles.system)\n",
        "      log.system(\" \");\n",
        "\n",
        "      stats.forEach(function(country) {\n",
        "        var name = Christmas.countries[country].name;\n",
        "        var num = countries[country].length;\n",
        "        var people = num == 1 ? \"person\" : \"people\";\n",
        "        log.system(\"%c[\" + country + \"]%c[\" + name + \"] \" + num + \" \" + people, styles.debug, styles.info);\n",
        "      });\n",
        "\n",
        "      log.system(\" \");\n",
        "      log.system(\"%c(Not all connected people are visible.)\", styles.system)\n",
        "      log.system(\"%c(Chat is universal and goes through every room.)\", styles.system);\n",
        "\n",
        "      return \" \";\n",
        "    };\n",
        "\n",
        "    var showWtf = function() {\n",
        "      log.system(\" \");\n",
        "\n",
        "      log.system(\"%cWhat basically is happening: https://konklone.com/post/isitchristmas-dot-com-2012\", styles.system);\n",
        "      log.system(\"%cWhat precisely is happening: https://github.com/isitchristmas\", styles.system);\n",
        "      log.system(\"%cHow this console works: https://konklone.com/post/how-to-hack-the-developer-console-to-be-needlessly-interactive\", styles.system);\n",
        "      log.system(\"%cData from Christmases past: https://github.com/isitchristmas/data\", styles.system);\n",
        "      log.system(\"%cWhat it looked like last year: https://www.flickr.com/photos/konklone/sets/72157632388653620/\", styles.system)\n",
        "      log.system(\" \");\n",
        "      log.system(\"%cSend any screenshots/screencasts to %ceric@konklone.com%c.\", styles.system, styles.system_bold, styles.system);\n",
        "\n",
        "      return \" \";\n",
        "    }\n",
        "\n",
        "    var say = function(message) {\n",
        "      if (!message) return;\n",
        "      if (user.live.chat != \"true\") return;\n",
        "\n",
        "      said = true;\n",
        "      emit('chat', {message: message});\n",
        "      return blank();\n",
        "    };\n",
        "    // run without parens to use a popup dialog\n",
        "    say.toString = function() {\n",
        "      say(prompt(\"What do you want to say?\"));\n",
        "      return \" \";\n",
        "    };\n",
        "    // convenience - handle all caps typos, and s\n",
        "    var s = S = Say = sAy = saY = SAy = SaY = sAY = SAY = say;\n",
        "\n",
        "    var rename = function(name) {\n",
        "      if (!name) return;\n",
        "      emit('rename', {name: name})\n",
        "      return blank();\n",
        "    };\n",
        "\n",
        "    var notifications = function(to) {\n",
        "      if (!canNotify) {\n",
        "        log.system(\"Unfortunately, your browser doesn't support HTML5 notifications.\");\n",
        "        return;\n",
        "      }\n",
        "\n",
        "      if (to === undefined)\n",
        "        me.notify = !me.notify;\n",
        "      else\n",
        "        me.notify = to;\n",
        "\n",
        "      if (window.localStorage)\n",
        "        window.localStorage.setItem(\"me.notify\", me.notify);\n",
        "\n",
        "      if (me.notify) {\n",
        "        if (Notification.permission == \"granted\")\n",
        "          log.system(\"%cNotifications have been %cenabled%c.\", styles.system, styles.system_bold, styles.system);\n",
        "        else\n",
        "          log.system(\"%cNotifications have been %cenabled%c, but you first must %cclick your flag above%c, to prompt your browser to ask permission.\", styles.system, styles.system_bold, styles.system, styles.system_bold, styles.system);\n",
        "      } else\n",
        "        log.system(\"%cNotifications have been %cdisabled.\", styles.system, styles.system_bold);\n",
        "    };\n",
        "\n",
        "    notifications.toString = function() {\n",
        "      notifications();\n",
        "      return \" \";\n",
        "    };\n",
        "\n",
        "    notifications.permission = function() {\n",
        "      Notification.requestPermission(function(permission) {\n",
        "        if (permission == \"granted\") {\n",
        "          // only useful in Chrome, FF sets this automatically\n",
        "          Notification.permission = \"granted\";\n",
        "\n",
        "          notifications(true);\n",
        "        } else if (permission == \"denied\") {\n",
        "          log.system(\"You've denied permission for notifications. To change this, you'll have to go into your browser's settings.\");\n",
        "          notifications(false);\n",
        "        } // other option: 'default', unhandled\n",
        "      });\n",
        "    };\n",
        "\n",
        "    // run without parens to use a popup dialog\n",
        "    rename.toString = function() {\n",
        "      rename(prompt(\"Change your name to:\"));\n",
        "      return \" \";\n",
        "    };\n",
        "\n",
        "    on('rename', function(data) {\n",
        "      me.name = data.name;\n",
        "\n",
        "      if (window.localStorage)\n",
        "        window.localStorage.setItem(\"me.name\", me.name);\n",
        "\n",
        "      myName();\n",
        "    });\n",
        "\n",
        "    var notify = function(user, message) {\n",
        "      if (!canNotify) return;\n",
        "\n",
        "      if (Notification.permission == \"granted\")\n",
        "        new Notification(user, {body: message, icon: \"https://isitchristmas.com/favicon.ico\"});\n",
        "      else\n",
        "        log.system('Please enable notifications by clicking your flag above.');\n",
        "    };\n",
        "\n",
        "\n",
        "    on('chat', function(data) {\n",
        "      // if user's never chatted, re-welcome them every 10 chat messages\n",
        "      if (!said) {\n",
        "        chatsSince += 1;\n",
        "        if (chatsSince >= 10) {\n",
        "          log.system(\" \");\n",
        "          welcomeUser();\n",
        "          myName();\n",
        "          chatsSince = 0;\n",
        "        }\n",
        "      }\n",
        "\n",
        "      // hack some extra recognized symbols in there\n",
        "      var symbols = {\n",
        "        \"<3\": \":heart:\",\n",
        "        \":\\\\)\": \":smiley_cat:\",\n",
        "        \"o_o\": \":cat:\",\n",
        "        \";\\\\)\": \":wink:\",\n",
        "        \":\\\\*\": \":kissing_closed_eyes:\",\n",
        "        \"!\\\\?\": \":interrobang:\",\n",
        "        \"\\\\^_\\\\^\": \":blush:\",\n",
        "        \"</3\": \":broken_heart:\",\n",
        "        \"\\\\(c\\\\)\": \":copyright:\",\n",
        "        \";_;\": \":crying_cat_face:\",\n",
        "        \"\\\\${2,}\": \":moneybag:\"\n",
        "      };\n",
        "\n",
        "      for (var symbol in symbols)\n",
        "        data.message = data.message.replace(new RegExp(symbol, \"gi\"), symbols[symbol]);\n",
        "\n",
        "\n",
        "      // notify if someone else says my name and I've opted in\n",
        "      if (me.notify && !(data.id == me.id) && data.message.replace(new RegExp(me.name, \"gi\"), '') != data.message)\n",
        "        notify(data.name, data.message);\n",
        "\n",
        "      // avoid using logging system here, to do complex coloring\n",
        "      var message = \"\";\n",
        "      if (plainConsole)\n",
        "        message += \"[\" + data.country + \"]\";\n",
        "      else\n",
        "        message += \"%c   \";\n",
        "\n",
        "      message += \"%c \" + data.name + \":\";\n",
        "\n",
        "      var emojis = [];\n",
        "      if (!plainConsole) {\n",
        "        while (found = Emoji.regexp.exec(data.message)) {\n",
        "          emojis.push(styles.emoji(found[1]));\n",
        "          emojis.push(styles.chat_message)\n",
        "        };\n",
        "        if (emojis.length > 0)\n",
        "          data.message = data.message.replace(Emoji.regexp, \"%c  %c\");\n",
        "      }\n",
        "\n",
        "      message += \"%c \" + data.message;\n",
        "\n",
        "      log.chat.apply(log, [\n",
        "        message,\n",
        "        styles.flag(data.country),\n",
        "        (data.id == me.id ? styles.chat_my_name : styles.chat_name),\n",
        "        styles.chat_message\n",
        "      ].concat(emojis));\n",
        "    });\n",
        "\n",
        "\n",
        "\n",
        "/**** Admin powers ***/\n",
        "\n",
        "    on('config', function(data) {\n",
        "      log.info(\"= live config change: \" + data.key + \" [\" + user.live[data.key] + \" -> \" + data.value + \"]\");\n",
        "      user.live[data.key] = data.value;\n",
        "    });\n",
        "\n",
        "    on('command', function(data) {\n",
        "      log.info(\"= command: \" + data.command + \" (\" + data.arguments.join(\",\") + \")\");\n",
        "      (commands[data.command] || noop).apply(null, data.arguments);\n",
        "    })\n",
        "\n",
        "    command('blast', function(message) {\n",
        "      log.system(\"= Server message: \" + message);\n",
        "    })\n",
        "\n",
        "    command('reconnect', function() {\n",
        "      log.system(\"= Server asked us to reconnect, closing connection\");\n",
        "      socket.close();\n",
        "    });\n",
        "\n",
        "    command('refresh', function() {\n",
        "      log.system(\"= Server asked us to refresh, whooaaaaa\");\n",
        "      window.location = window.location;\n",
        "    })\n",
        "\n",
        "\n",
        "/**** rate limiting utilities **/\n",
        "\n",
        "    // basic rate-limiter for a static value\n",
        "    function ratelimit(fn, interval) {\n",
        "      var last = (new Date()).getTime();\n",
        "      return (function() {\n",
        "        var now = (new Date()).getTime();\n",
        "        if ((now - last) > interval) {\n",
        "          last = now;\n",
        "          return fn.apply(null, arguments);\n",
        "        }\n",
        "      });\n",
        "    }\n",
        "\n",
        "    // special version of ratelimit that looks to live-changeable value\n",
        "    function ratelimitLive(fn, live) {\n",
        "      var last = (new Date()).getTime();\n",
        "      return (function() {\n",
        "        var now = (new Date()).getTime();\n",
        "        if ((now - last) > user.live[live]) {\n",
        "          last = now;\n",
        "          return fn.apply(null, arguments);\n",
        "        }\n",
        "      });\n",
        "    }\n",
        "\n",
        "\n",
        "/** christmas midnight effect **/\n",
        "\n",
        "    // live flip when it's Xmas, and when it's not again\n",
        "    var flagRule = addCSSRule(\".flag\");\n",
        "    var clickRule = addCSSRule(\"div.click\");\n",
        "    var legendRule = addCSSRule(\"div#legend\");\n",
        "    function flagFade(centerTime) {\n",
        "      // fade out, then in\n",
        "      setTimeout(function() {\n",
        "        flagRule.style.opacity = 0;\n",
        "        legendRule.style.display = \"none\";\n",
        "        clickRule.style.display = \"none\";\n",
        "\n",
        "        setTimeout(function() {\n",
        "          flagRule.style.opacity = 1;\n",
        "          legendRule.style.display = \"block\";\n",
        "          clickRule.style.display = \"block\";\n",
        "        }, 5000); // 2 seconds after center\n",
        "\n",
        "      }, (centerTime - Date.now()) - 3000); // 3 seconds before center (fade is 1s)\n",
        "    }\n",
        "\n",
        "\n",
        "    function setTimers() {\n",
        "      var nextXmas = Christmas.thisYear();\n",
        "      // var nextXmas = new Date(Date.now() + (5 * 1000)); // 5 seconds from now\n",
        "      // var nextXmas = new Date(Date.now()); // pretend we showed up a few milliseconds before\n",
        "\n",
        "      nextXmas = nextXmas.getTime();\n",
        "\n",
        "      var afterXmas = nextXmas + (24 * 60 * 60 * 1000); // 1 day later\n",
        "      // var afterXmas = nextXmas + (5 * 1000); // 10 seconds later\n",
        "\n",
        "      // console.log(\"Christmas set for: \" + new Date(nextXmas));\n",
        "      // console.log(\"Christmas ends: \" + new Date(afterXmas));\n",
        "\n",
        "      if (checkedAt < nextXmas) {\n",
        "\n",
        "        flagFade(nextXmas);\n",
        "\n",
        "        christmasTimer = setTimeout(function() {\n",
        "          log.system(\"%c\" + Christmas.yes(country), styles.answer);\n",
        "          updateChristmas(true);\n",
        "        }, (nextXmas - Date.now()));\n",
        "      }\n",
        "\n",
        "      if (checkedAt < afterXmas) {\n",
        "\n",
        "        flagFade(afterXmas);\n",
        "\n",
        "        christmasEndTimer = setTimeout(function() {\n",
        "          log.system(\"%c\" + Christmas.no(country), styles.answer);\n",
        "          updateChristmas(false);\n",
        "        }, (afterXmas - Date.now()));\n",
        "      }\n",
        "    }\n",
        "\n",
        "\n",
        "/**** minimalist logging system **/\n",
        "\n",
        "    // (this logging system got a lot less minimalist once I\n",
        "    // waded into using %c for styling)\n",
        "\n",
        "    // any extra arguments are passed in to console.log,\n",
        "    // assuming log formatting is enabled.\n",
        "    var log = function(severity, message) {\n",
        "      if (!user.log[severity]) return;\n",
        "\n",
        "      // if in plain-text mode, strip out %c and don't pass on extra args\n",
        "      if (plainConsole)\n",
        "        console.log(message.replace(/%c/gi, ''));\n",
        "\n",
        "      else {\n",
        "\n",
        "        // if any args beyond severity and message, pass them on\n",
        "        var args = Array.prototype.slice.call(arguments, [2]);\n",
        "        if (args.length > 0)\n",
        "          console.log.apply(console, [message].concat(args));\n",
        "\n",
        "        // otherwise, assume plain text bare message\n",
        "        else\n",
        "          console.log(message);\n",
        "      }\n",
        "    };\n",
        "\n",
        "    // generate little log.debug, log.info functions, etc.\n",
        "    var severities = [\"debug\", \"info\", \"join\", \"system\", \"life\", \"chat\", \"public\"];\n",
        "    log.convenience = function(severity) {\n",
        "      return function(message) {\n",
        "        // break here too, to avoid too much computation if not needed\n",
        "        if (!user.log[severity]) return;\n",
        "\n",
        "        var args = Array.prototype.slice.call(arguments, [1]);\n",
        "\n",
        "        // if no style given, default to any per-severity style\n",
        "        if (args.length == 0 && (styles[severity])) {\n",
        "          message = \"%c\" + message;\n",
        "          args = [styles[severity]];\n",
        "        }\n",
        "\n",
        "        log.apply(window, [severity, message].concat(args));\n",
        "      }\n",
        "    }\n",
        "    severities.forEach(function(severity) {\n",
        "      log[severity] = log.convenience(severity);\n",
        "    });\n",
        "\n",
        "    // log.debug = function(message) {\n",
        "    //   log.apply(window, [\"debug\", message, styles[severity])\n",
        "    // };\n",
        "    // log.info = function(message) {log.styled(\"info\", message)};\n",
        "\n",
        "    // log.join = function(message) {\n",
        "    //   log(message, \"join\")\n",
        "    //\n",
        "    // };\n",
        "\n",
        "    // log.system = function(message) {log.styled(message, \"system\")};\n",
        "    // log.life = function(message) {log.styled(message, \"life\")};\n",
        "    // chat and christmas use own custom logging\n",
        "\n",
        "    var styles = {\n",
        "      debug: \"color: #999999\",\n",
        "      join: \"color: #999999\",\n",
        "      info: \"color: #444444\",\n",
        "      info_bold: \"color: #444444; font-weight: bold\",\n",
        "      system: \"color: #336699\",\n",
        "      system_bold: \"color: #336699; font-weight: bold\",\n",
        "      life: \"color: #ff0000\",\n",
        "      chat_country: \"color: #999999\",\n",
        "      chat_name: \"color: #006600\",\n",
        "      chat_my_name: \"color: #006600; font-weight: bold\",\n",
        "      chat_message: \"color: #444444\",\n",
        "      spam: \"color: #336699\", // #990000 for urgency\n",
        "      please: \"color: #336699; font-weight: bold\",\n",
        "      help: \"color: #630053\",\n",
        "      help_bold: \"color: #630053; font-weight: bold\",\n",
        "      // how is this possible\n",
        "      flag: function(country) {\n",
        "        return \"background-image: url(\\\"https://isitchristmas.com/countries/\" + country + \".png\\\"); background-size: cover; border: 1px solid #d6d6d6\";\n",
        "      },\n",
        "      emoji: function(emoji) {\n",
        "        return \"background-image: url(\\\"https://isitchristmas.com/emojis/\" + emoji + \".png\\\"); background-size: cover\";\n",
        "      },\n",
        "      answer: \"color: black; font-weight: bold; font-size: 120pt; text-transform: uppercase; font-family: Arial, sans-serif;\"\n",
        "    }\n",
        "\n",
        "\n",
        "/**** misc and browser-specific fixes **/\n",
        "\n",
        "    // if someone types just 'help', display help text.\n",
        "    // side note: do people know you can do this??\n",
        "    var help = function() {};\n",
        "    help.toString = welcomeUser;\n",
        "\n",
        "    var traffic = function() {};\n",
        "    traffic.toString = function() {\n",
        "      user.log.join = !user.log.join;\n",
        "      log.system(\"%cTurned traffic messages %c\" + (user.log.join ? \"on\" : \"off\") + \"%c.\", styles.system, styles.system_bold, styles.system);\n",
        "      return \" \";\n",
        "    }\n",
        "\n",
        "    var advanced = function() {};\n",
        "    advanced.toString = showAdvanced;\n",
        "\n",
        "    var emoji = function() {};\n",
        "    emoji.toString = showEmoji;\n",
        "\n",
        "    var room = function() {};\n",
        "    room.toString = showRoom;\n",
        "\n",
        "    var wtf = function() {};\n",
        "    wtf.toString = showWtf;\n",
        "\n",
        "    // candy\n",
        "    var candy = function() {};\n",
        "    candy.toString = function() {window.location = \"http://candybox2.net/\";}\n",
        "\n",
        "    // convenience for functions so they don't say 'undefined' in the console\n",
        "    var blank = function() {\n",
        "      // IE doesn't like this method.\n",
        "      if (window._ie) return undefined;\n",
        "\n",
        "      var nothing = function() {};\n",
        "      nothing.toString = function() {return \" \"};\n",
        "      return nothing;\n",
        "    }\n",
        "\n",
        "    // IE fix: make console.log be okay\n",
        "    if (!window.console) window.console = {};\n",
        "    if (!window.console.log) window.console.log = function() {};\n",
        "\n",
        "    // Firefox fix: prevent ESC from closing websockets connection\n",
        "    if (window.addEventListener)\n",
        "      window.addEventListener('keydown', function(e) { (e.keyCode == 27 && e.preventDefault()) })\n",
        "\n",
        "    // prevent click-drags from \"grabbing\" image\n",
        "    document.body.onmousedown = function(event) {\n",
        "      event = event || window.event;\n",
        "      if (event.preventDefault) event.preventDefault();\n",
        "      else event.returnValue = false;\n",
        "    };\n",
        "\n",
        "\n",
        "/**** GO ****/\n",
        "\n",
        "    // setTimers();\n",
        "    // connect(url);\n",
        "\n",
        "  </script>\n",
        "</body>\n",
        "</html>\n",
        "\n"
       ]
      }
     ],
     "prompt_number": 140
    },
    {
     "cell_type": "code",
     "collapsed": false,
     "input": [
      "r = requests.get('http://httpbin.org/user-agent')\n",
      "r.text"
     ],
     "language": "python",
     "metadata": {},
     "outputs": [
      {
       "metadata": {},
       "output_type": "pyout",
       "prompt_number": 109,
       "text": [
        "u'{\\n  \"user-agent\": \"python-requests/2.2.1 CPython/2.7.2 Darwin/12.5.0\"\\n}'"
       ]
      }
     ],
     "prompt_number": 109
    },
    {
     "cell_type": "code",
     "collapsed": false,
     "input": [],
     "language": "python",
     "metadata": {},
     "outputs": []
    },
    {
     "cell_type": "code",
     "collapsed": false,
     "input": [
      "r = requests.get('http://httpbin.org/ip')\n",
      "print r.json()\n",
      "import json\n",
      "rjson = r.json()\n",
      "print rjson['origin']"
     ],
     "language": "python",
     "metadata": {},
     "outputs": [
      {
       "output_type": "stream",
       "stream": "stdout",
       "text": [
        "{u'origin': u'50.131.89.236'}\n",
        "50.131.89.236\n",
        "<type 'dict'>\n"
       ]
      }
     ],
     "prompt_number": 117
    },
    {
     "cell_type": "code",
     "collapsed": false,
     "input": [
      "from IPython.display import Image\n",
      "Image('http://imgs.xkcd.com/comics/python.png')"
     ],
     "language": "python",
     "metadata": {
      "slideshow": {
       "slide_type": "slide"
      }
     },
     "outputs": [
      {
       "metadata": {},
       "output_type": "pyout",
       "png": "[encoded data removed]",
       "prompt_number": 23,
       "text": [
        "<IPython.core.display.Image at 0x105c96a10>"
       ]
      }
     ],
     "prompt_number": 23
    },
    {
     "cell_type": "code",
     "collapsed": false,
     "input": [],
     "language": "python",
     "metadata": {},
     "outputs": []
    }
   ],
   "metadata": {}
  }
 ]
}