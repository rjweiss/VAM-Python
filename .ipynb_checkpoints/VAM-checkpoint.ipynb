{
 "metadata": {
  "celltoolbar": "Slideshow",
  "name": "",
  "signature": "sha256:f68efcc25cca122886e6bce5d3542dd3b21d80addccc123544659922820d0d9a"
 },
 "nbformat": 3,
 "nbformat_minor": 0,
 "worksheets": [
  {
   "cells": [
    {
     "cell_type": "markdown",
     "metadata": {
      "slideshow": {
       "slide_type": "slide"
      }
     },
     "source": [
      "# Introduction to Python\n",
      "\n",
      "Very Applied Methods Workshop, April 25th, 2014\n",
      "\n",
      "Department of Political Science, Stanford University\n",
      "\n",
      "Author: **Rebecca Weiss**"
     ]
    },
    {
     "cell_type": "markdown",
     "metadata": {
      "slideshow": {
       "slide_type": "slide"
      }
     },
     "source": [
      "# What are we covering in this presentation?"
     ]
    },
    {
     "cell_type": "markdown",
     "metadata": {
      "slideshow": {
       "slide_type": "fragment"
      }
     },
     "source": [
      "- What is Python?  Source code, interpreter, etc."
     ]
    },
    {
     "cell_type": "markdown",
     "metadata": {
      "slideshow": {
       "slide_type": "fragment"
      }
     },
     "source": [
      "- How do I get going with Python?  What are available tools?"
     ]
    },
    {
     "cell_type": "markdown",
     "metadata": {
      "slideshow": {
       "slide_type": "fragment"
      }
     },
     "source": [
      "- Why should I learn Python?  Where is it useful?"
     ]
    },
    {
     "cell_type": "markdown",
     "metadata": {
      "slideshow": {
       "slide_type": "slide"
      }
     },
     "source": [
      "# What are we *__not__* covering in this presentation?"
     ]
    },
    {
     "cell_type": "markdown",
     "metadata": {
      "slideshow": {
       "slide_type": "fragment"
      }
     },
     "source": [
      "- Syntax tedium"
     ]
    },
    {
     "cell_type": "markdown",
     "metadata": {
      "slideshow": {
       "slide_type": "fragment"
      }
     },
     "source": [
      "- Extensive coverage of data types and collections"
     ]
    },
    {
     "cell_type": "markdown",
     "metadata": {
      "slideshow": {
       "slide_type": "fragment"
      }
     },
     "source": [
      "- Software engineering (e.g. code patterns, object-oriented programming)"
     ]
    },
    {
     "cell_type": "markdown",
     "metadata": {
      "slideshow": {
       "slide_type": "fragment"
      }
     },
     "source": [
      "### This is a 90 minute presentation.  [We don't have the time](http://norvig.com/21-days.html).\n",
      "\n",
      "But I will give you links to resources that will cover the above.  And I'll make statements on these when appropriate."
     ]
    },
    {
     "cell_type": "markdown",
     "metadata": {
      "slideshow": {
       "slide_type": "slide"
      }
     },
     "source": [
      "# What is Python?"
     ]
    },
    {
     "cell_type": "markdown",
     "metadata": {
      "slideshow": {
       "slide_type": "fragment"
      }
     },
     "source": [
      "- Python is a general purpose programming language with enormous 3rd-party support for a wide array of uses.\n",
      "    - Numerical and scientific computing (e.g. `numpy`, `scipy`, `scikits`)\n",
      "    - Data analysis (e.g. `pandas`, `statsmodels`)\n",
      "    - Web application programming (e.g. `django`, `flask`)\n",
      "    - Natural language processing and topic modeling (e.g. `nltk`, `gensim`)\n",
      "    - Image processing (e.g. `PIL`, `scikit-image`)\n",
      "    - Machine learning (`scikit-learn`)\n",
      "    - Scraping (e.g. `lxml`, `BeautifulSoup`)"
     ]
    },
    {
     "cell_type": "markdown",
     "metadata": {
      "slideshow": {
       "slide_type": "subslide"
      }
     },
     "source": [
      "The Python standard library is also very comprehensive for most general computing needs."
     ]
    },
    {
     "cell_type": "code",
     "collapsed": false,
     "input": [
      "from IPython.display import HTML\n",
      "HTML(\"<iframe src=https://docs.python.org/2.7/library/ width=100% height=400></iframe>\")"
     ],
     "language": "python",
     "metadata": {
      "slideshow": {
       "slide_type": "fragment"
      }
     },
     "outputs": [
      {
       "html": [
        "<iframe src=https://docs.python.org/2.7/library/ width=100% height=400></iframe>"
       ],
       "metadata": {},
       "output_type": "pyout",
       "prompt_number": 1,
       "text": [
        "<IPython.core.display.HTML at 0x101f3e5d0>"
       ]
      }
     ],
     "prompt_number": 1
    },
    {
     "cell_type": "markdown",
     "metadata": {
      "slideshow": {
       "slide_type": "subslide"
      }
     },
     "source": [
      "** You'll see these Python features mentioned in other tutorials:**\n",
      "- Has a [Benevolent Dictator for Life (Guido van Rossum)](http://en.wikipedia.org/wiki/Benevolent_Dictator_for_Life)\n",
      "- High-level (you don't need to understand what the computer is doing)\n",
      "- Interpreted (you don't have to compile your code before you execute it)\n",
      "- Dynamically-typed (Python will try to figure out your data types for you)\n",
      "- [and more...](http://www.swaroopch.com/notes/python/#_features_of_python)"
     ]
    },
    {
     "cell_type": "markdown",
     "metadata": {
      "slideshow": {
       "slide_type": "subslide"
      }
     },
     "source": [
      "** However, for most of you, this is more than you need to know.  **\n",
      "- Because Python is a general purpose language, you can get easily lost in tutorials!\n",
      "    - Assume knowledge of computing\n",
      "    - Focus only on basics \n",
      "        - data types (`strings`!  `ints`!) and collections (`sets`! `dicts`! `lists`!), logic (`for` loops!  `list` comprehensions!)\n",
      "    - Useful tools and conventional practices?\n",
      "    - How to solve analysis problems?"
     ]
    },
    {
     "cell_type": "markdown",
     "metadata": {
      "slideshow": {
       "slide_type": "subslide"
      }
     },
     "source": [
      "** We're going to try and cover a lot of ground by teaching through application: simple demo on how to use Python to extract structured data from web pages **\n",
      "- Review basic Python and programming concepts\n",
      "- Introduce web technology concepts (server-client architecture, response-request model, the DOM)\n",
      "- Demonstrate useful tools and modules to use Python *for analysis purposes*."
     ]
    },
    {
     "cell_type": "markdown",
     "metadata": {
      "slideshow": {
       "slide_type": "subslide"
      }
     },
     "source": [
      "# CS 106A?"
     ]
    },
    {
     "cell_type": "code",
     "collapsed": false,
     "input": [
      "from IPython.display import Image\n",
      "Image('http://robotix.in/blog/wp-content/uploads/2011/10/python-vs-java-726367-copy.jpg')\n"
     ],
     "language": "python",
     "metadata": {
      "slideshow": {
       "slide_type": "subslide"
      }
     },
     "outputs": [
      {
       "jpeg": "[encoded data removed]",
       "metadata": {},
       "output_type": "pyout",
       "prompt_number": 2,
       "text": [
        "<IPython.core.display.Image at 0x101f3e690>"
       ]
      }
     ],
     "prompt_number": 2
    },
    {
     "cell_type": "markdown",
     "metadata": {},
     "source": [
      "Original: http://www.somethingofthatilk.com/comics/135.jpg"
     ]
    },
    {
     "cell_type": "markdown",
     "metadata": {
      "slideshow": {
       "slide_type": "slide"
      }
     },
     "source": [
      "# Background information and vocabulary"
     ]
    },
    {
     "cell_type": "markdown",
     "metadata": {
      "slideshow": {
       "slide_type": "subslide"
      }
     },
     "source": [
      "## Installing Python\n",
      "\n",
      "First, you need to install Python.  There are lots of tutorials on this:\n",
      "\n",
      "- OSX users: [http://docs.python-guide.org/en/latest/starting/install/osx/](http://docs.python-guide.org/en/latest/starting/install/osx/)\n",
      "- Windows users: [http://docs.python-guide.org/en/latest/starting/install/win/](http://docs.python-guide.org/en/latest/starting/install/win/)\n",
      "- Linux users: [http://docs.python-guide.org/en/latest/starting/install/linux/](http://docs.python-guide.org/en/latest/starting/install/linux/)\n",
      "\n",
      "Follow one of these guides. \n",
      "\n",
      "My opinion: writing Python on OSX and Windows is not ideal (OSX is a little easier if you have `brew` or `MacPorts` installed, but it's still not great).  If you want to get serious about your development, consider running a Virtual Machine (VMWare or VirtualBox)."
     ]
    },
    {
     "cell_type": "markdown",
     "metadata": {
      "slideshow": {
       "slide_type": "subslide"
      }
     },
     "source": [
      "### What exactly did \"installing Python\" do?\n",
      "\n",
      "When you are \"installing Python,\" you are giving your computer access to the Python _interpreter_.  \n",
      "\n",
      "This is what allows you to write source code (human-readable language expressed in certain syntax) and convert it into executable software through a process called (shockingly) *interpreting*.  \n",
      "\n",
      "[`R` is also an interpreted language](http://cran.r-project.org/doc/FAQ/R-FAQ.html#What-is-R_003f): \n",
      "\"The core of R is an interpreted computer language which allows branching and looping as well as modular programming using functions.\""
     ]
    },
    {
     "cell_type": "markdown",
     "metadata": {
      "slideshow": {
       "slide_type": "subslide"
      }
     },
     "source": [
      "## Enthought Python Distribution: a \"batteries-included\" Python\n",
      "\n",
      "The previous guides will install the standard Python environment (the standard library, docs, and a Python interpreter).\n",
      "\n",
      "There are other interpreters (Cython, Jython, IronPython)...we can't really go into those now (see [here](http://docs.python-guide.org/en/latest/starting/which-python/) for more discussion).\n",
      "\n",
      "If you intend to use Python for analysis, just get [Enthought Python](https://www.enthought.com/products/epd/). \n",
      "\n",
      "Enthought is a [Python distribution](https://wiki.python.org/moin/PythonDistributions).  For our purposes, that means that it installs Python with the most common 3rd party analysis modules used in scientific computing."
     ]
    },
    {
     "cell_type": "markdown",
     "metadata": {
      "slideshow": {
       "slide_type": "subslide"
      }
     },
     "source": [
      "**If you install the Enthought Python Distribution and choose it as your default Python environment, all your calls to `python` will go to the installation of Python that comes with EPD**.\n",
      "\n",
      "```\n",
      "rweiss$ less ~/.profile\n",
      "# Added by Canopy installer on 2013-05-09\n",
      "source /Users/rweiss/Library/Enthought/Canopy_64bit/User/bin/activate\n",
      "```\n",
      "\n",
      "FYI: For most Unix-based shells, a `.profile` file (or something similar) is automatically executed (`source`) every time you open a shell.  In other systems, this can also be a `~/.bashrc`, a `~/.bash_profile`, `~/.zshrc`, and others; it depends on what kind of shell you're running. [I have some slides on the shell and useful shell utilities](http://stanford.edu/~rjweiss/public_html/IRiSS2013/shell/index.html#1), and [Stanford offers a good practical online short course on the shell](https://practicalunix.org/)."
     ]
    },
    {
     "cell_type": "markdown",
     "metadata": {
      "slideshow": {
       "slide_type": "subslide"
      }
     },
     "source": [
      "If you want to check what `python` you're running, type `which python`.  This will tell you where your computer is sending calls to `python`.  (You can do this for any executable added to your path, such as `java` if it is installed).\n",
      "\n",
      "```\n",
      "rweiss$ which python\n",
      "/Users/rweiss/Library/Enthought/Canopy_64bit/User/bin/python\n",
      "```\n",
      "\n",
      "This is an example in OSX.  You can see that my computer is calling `python` from the Canopy directory."
     ]
    },
    {
     "cell_type": "markdown",
     "metadata": {
      "slideshow": {
       "slide_type": "subslide"
      }
     },
     "source": [
      "** What if I don't want to use EPD and I want to go back to regular Python? **\n",
      "\n",
      "```\n",
      "rweiss$ deactivate\n",
      "rweiss$ which python\n",
      "/usr/bin/python\n",
      "rweiss$ source /Users/rweiss/Library/Enthought/Canopy_64bit/User/bin/activate # or just source ~/.profile\n",
      "(Canopy 64bit) rweiss$ which python\n",
      "/Users/rweiss/Library/Enthought/Canopy_64bit/User/bin/python\n",
      "```\n",
      "\n",
      "`deactivate` is actually a `virtualenv` command.  We'll get back to that in a few slides.\n",
      "\n",
      "Installing the EPD means you won't have to manually handle all the dependencies for many popular 3rd party modules, like `scipy` and `lxml`.  You don't have to use it, but if you aren't comfortable installing software from the command line, handling paths, or compiling dependencies from source code, just use EPD."
     ]
    },
    {
     "cell_type": "markdown",
     "metadata": {
      "slideshow": {
       "slide_type": "slide"
      }
     },
     "source": [
      "## Integrated Development Environments\n",
      "\n",
      "** Installing Enthought means you get [Canopy](https://www.enthought.com/products/canopy/) for free.** \n",
      "\n",
      "But installing Enthought doesn't mean you *must* use Canopy.\n",
      "\n",
      "Canopy is just an IDE.  [There are lots of IDEs](https://wiki.python.org/moin/IntegratedDevelopmentEnvironments).  You can still use the Enthought distribution and use whatever text editor you want (I use [Sublime](http://www.sublimetext.com/) and [VIM](http://en.wikipedia.org/wiki/Vim_%28text_editor%29)).\n",
      "\n",
      "If you are not comfortable with the command line and you want a single piece of software where you write all your code and the interpreter in the same environment (think RStudio), you should consider using Canopy for now."
     ]
    },
    {
     "cell_type": "markdown",
     "metadata": {
      "slideshow": {
       "slide_type": "subslide"
      }
     },
     "source": [
      "** Using the interpreter prompt **\n",
      "\n",
      "After you have followed a tutorial that teaches you how to install Python, typically the next step is to start Python from the command line (OSX Terminal):\n",
      "\n",
      "```\n",
      "rweiss$ which python\n",
      "/usr/bin/python\n",
      "rweiss$ python\n",
      "Python 2.7.2 (default, Oct 11 2012, 20:14:37) \n",
      "[GCC 4.2.1 Compatible Apple Clang 4.0 (tags/Apple/clang-418.0.60)] on darwin\n",
      "Type \"help\", \"copyright\", \"credits\" or \"license\" for more information.\n",
      ">>>\n",
      "```\n",
      "\n",
      "The prompt with the `>>>` is interactive.  It's like the console in `R`.  You can type in your commands and the code is immediately interpreted and printed."
     ]
    },
    {
     "cell_type": "markdown",
     "metadata": {
      "slideshow": {
       "slide_type": "subslide"
      }
     },
     "source": [
      "** Don't use `python`.  Use `IPython`. It comes installed with EPD.** \n",
      "\n",
      "```\n",
      "rweiss$ ipython\n",
      "Python 2.7.3 | 64-bit | (default, Jun 14 2013, 18:17:36) \n",
      "Type \"copyright\", \"credits\" or \"license\" for more information.\n",
      "\n",
      "IPython 2.0.0 -- An enhanced Interactive Python.\n",
      "?         -> Introduction and overview of IPython's features.\n",
      "%quickref -> Quick reference.\n",
      "help      -> Python's own help system.\n",
      "object?   -> Details about 'object', use 'object??' for extra details.\n",
      "\n",
      "In [1]: \n",
      "```"
     ]
    },
    {
     "cell_type": "markdown",
     "metadata": {
      "slideshow": {
       "slide_type": "subslide"
      }
     },
     "source": [
      "## Using the interpreter prompt versus running a script\n",
      "\n",
      "Just like with other languages, you can write your source code as a standalone script (ending with `.py`) and pass it to the interpreter as a command-line argument:"
     ]
    },
    {
     "cell_type": "markdown",
     "metadata": {},
     "source": [
      "```\n",
      "rweiss$ ipython\n",
      "Python 2.7.6 | 64-bit | (default, Jan 29 2014, 17:09:48) \n",
      "Type \"copyright\", \"credits\" or \"license\" for more information.\n",
      "\n",
      "IPython 2.0.0 -- An enhanced Interactive Python.\n",
      "?         -> Introduction and overview of IPython's features.\n",
      "%quickref -> Quick reference.\n",
      "help      -> Python's own help system.\n",
      "object?   -> Details about 'object', use 'object??' for extra details.\n",
      "\n",
      "In [1]: print 'hello world!'\n",
      "hello world!\n",
      "```"
     ]
    },
    {
     "cell_type": "code",
     "collapsed": false,
     "input": [
      "%%bash\n",
      "echo print \\\"'hello world!'\\\" > test.py\n",
      "python test.py"
     ],
     "language": "python",
     "metadata": {},
     "outputs": [
      {
       "output_type": "stream",
       "stream": "stdout",
       "text": [
        "hello world!\n"
       ]
      }
     ],
     "prompt_number": 3
    },
    {
     "cell_type": "markdown",
     "metadata": {
      "slideshow": {
       "slide_type": "slide"
      }
     },
     "source": [
      "## Package management\n",
      "\n",
      "### Package managers\n",
      "\n",
      "`IPython` is a third-party library on top of vanilla Python.  Most third-party libraries are also called *modules* or *packages*.\n",
      "\n",
      "If you have enstalled EPD, you already have `IPython` plus a bunch of popular modules.  If not, you have to install the third-party libraries by hand on the command line.\n",
      "\n",
      "The most common solution is to use a package manager or install from source."
     ]
    },
    {
     "cell_type": "markdown",
     "metadata": {
      "slideshow": {
       "slide_type": "subslide"
      }
     },
     "source": [
      "If you are using vanilla python, `pip` or `easy_install`.  Choosing between these two can be [controversial](http://stackoverflow.com/questions/3220404/why-use-pip-over-easy-install).  I prefer `pip`.\n",
      "\n",
      "Installation instructions:\n",
      "1. [`pip`](http://pip.readthedocs.org/en/latest/installing.html)\n",
      "2. [`easy_install`](https://pypi.python.org/pypi/setuptools)\n",
      "\n",
      "Both install the library from the central, universally accessible repository `PyPI` (Python Package Index).  This is roughly how this process works:\n",
      "\n",
      "1. A developer writes a library, creates a distributable package (an `.egg`) and uploads to PyPI.\n",
      "2. You ask for the library via `pip` or `easy_install`, e.g.:\n",
      "```\n",
      "rweiss$ pip install requests\n",
      "```\n",
      "3. The package manager handles installing the library; downloads the bundled file and extracts code to the right paths so that `python` can call it.  \n",
      "4. In your script or in the shell, `import requests` (or whatever you downloaded)."
     ]
    },
    {
     "cell_type": "markdown",
     "metadata": {
      "slideshow": {
       "slide_type": "subslide"
      }
     },
     "source": [
      "If you are using Enthought, it comes with its own package manager [Enstaller](http://code.enthought.com/projects/enstaller/).  You can install packages using either: \n",
      "\n",
      "1. the Canopy interface (though you will probably not need to, as most libraries for data are already installed).\n",
      "2. Enstaller from the command line (`enpkg`).\n",
      "\n",
      "Enthought maintains their own repository but they can also draw from `PyPI` as well."
     ]
    },
    {
     "cell_type": "markdown",
     "metadata": {
      "slideshow": {
       "slide_type": "subslide"
      }
     },
     "source": [
      "If you are feeling adventurous, you can download the source from a third-party website directly (i.e. `python setup.py install`)\n",
      "\n",
      "Unless you understand your OS and feel comfortable with the command line, you will probably run into path and dependency problems.  You will need a better understanding of file permissions and the command line."
     ]
    },
    {
     "cell_type": "markdown",
     "metadata": {
      "slideshow": {
       "slide_type": "subslide"
      }
     },
     "source": [
      "## Virtual environments\n",
      "\n",
      "Last bit of working advice for working with Python.  Consider learning how to use [`virtualenv`](http://www.virtualenv.org/en/latest/virtualenv.html).\n",
      "\n",
      "Installation instructions are [here](http://www.virtualenv.org/en/latest/virtualenv.html#installation)."
     ]
    },
    {
     "cell_type": "markdown",
     "metadata": {
      "slideshow": {
       "slide_type": "subslide"
      }
     },
     "source": [
      "```\n",
      "rweiss$ pwd\n",
      "/Users/rweiss/Documents/VAM-Python\n",
      "\n",
      "rweiss$ virtualenv env\n",
      "New python executable in env/bin/python\n",
      "Installing setuptools, pip...done.     \n",
      "\n",
      "rweiss$ ls env/\n",
      ".Python  bin/     include/ lib/     \n",
      "\n",
      "rweiss$ ls env/bin/\n",
      "activate          activate.fish     easy_install      pip               pip2.7            python2           \n",
      "activate.csh      activate_this.py  easy_install-2.7  pip2              python            python2.7         \n",
      "\n",
      "rweiss$ ls env/lib/python2.7/site-packages/\n",
      "_markerlib\t\t\teasy_install.pyc\t\tpip-1.5.4.dist-info\t\tpkg_resources.pyc\t\tsetuptools-2.2.dist-info\n",
      "easy_install.py\t\t\tpip\t\t\t\tpkg_resources.py\t\tsetuptools\n",
      "```"
     ]
    },
    {
     "cell_type": "markdown",
     "metadata": {
      "slideshow": {
       "slide_type": "subslide"
      }
     },
     "source": [
      "```\n",
      "rweiss$ source env/bin/activate\n",
      "\n",
      "rweiss$ which python\n",
      "/Users/rweiss/Documents/VAM-Python/env/bin/python\n",
      "\n",
      "(env)rweiss$ env/bin/pip install requests\n",
      "Downloading/unpacking requests\n",
      "  Downloading requests-2.2.1-py2.py3-none-any.whl (625kB): 625kB downloaded\n",
      "Installing collected packages: requests\n",
      "Successfully installed requests\n",
      "Cleaning up...\n",
      "\n",
      "(env)rweiss$ ls env/lib/python2.7/site-packages/\n",
      "_markerlib\t\t\tpip\t\t\t\tpkg_resources.pyc\t\tsetuptools\n",
      "easy_install.py\t\t\tpip-1.5.4.dist-info\t\trequests\t\t\tsetuptools-2.2.dist-info\n",
      "easy_install.pyc\t\tpkg_resources.py\t\trequests-2.2.1.dist-info\n",
      "```"
     ]
    },
    {
     "cell_type": "markdown",
     "metadata": {
      "slideshow": {
       "slide_type": "subslide"
      }
     },
     "source": [
      "### Remember `deactivate?`\n",
      "```\n",
      "(env)rweiss$ deactivate\n",
      "rweiss$ which python\n",
      "/usr/bin/python\n",
      "```\n",
      "\n",
      "**EPD is not just a distribution of Python.  It also creates an isolated Python environment.**"
     ]
    },
    {
     "cell_type": "markdown",
     "metadata": {
      "slideshow": {
       "slide_type": "slide"
      }
     },
     "source": [
      "# Some Syntax tedium\n",
      "\n"
     ]
    },
    {
     "cell_type": "markdown",
     "metadata": {
      "slideshow": {
       "slide_type": "subslide"
      }
     },
     "source": [
      "In Python, whitespace matters."
     ]
    },
    {
     "cell_type": "code",
     "collapsed": false,
     "input": [
      "for i in xrange(5):\n",
      "print i"
     ],
     "language": "python",
     "metadata": {
      "slideshow": {
       "slide_type": "-"
      }
     },
     "outputs": [
      {
       "ename": "IndentationError",
       "evalue": "expected an indented block (<ipython-input-4-83d360549157>, line 2)",
       "output_type": "pyerr",
       "traceback": [
        "\u001b[0;36m  File \u001b[0;32m\"<ipython-input-4-83d360549157>\"\u001b[0;36m, line \u001b[0;32m2\u001b[0m\n\u001b[0;31m    print i\u001b[0m\n\u001b[0m        ^\u001b[0m\n\u001b[0;31mIndentationError\u001b[0m\u001b[0;31m:\u001b[0m expected an indented block\n"
       ]
      }
     ],
     "prompt_number": 4
    },
    {
     "cell_type": "code",
     "collapsed": false,
     "input": [
      "for i in xrange(5):\n",
      "    print i"
     ],
     "language": "python",
     "metadata": {
      "slideshow": {
       "slide_type": "-"
      }
     },
     "outputs": [
      {
       "output_type": "stream",
       "stream": "stdout",
       "text": [
        "0\n",
        "1\n",
        "2\n",
        "3\n",
        "4\n"
       ]
      }
     ],
     "prompt_number": 5
    },
    {
     "cell_type": "markdown",
     "metadata": {
      "slideshow": {
       "slide_type": "subslide"
      }
     },
     "source": [
      "In Python, some names are reserved and you **MUST NOT** use them as variable names:"
     ]
    },
    {
     "cell_type": "code",
     "collapsed": false,
     "input": [
      ">>> import keyword\n",
      ">>> keyword.iskeyword('str')\n",
      "True\n",
      ">>> keyword.kwlist"
     ],
     "language": "python",
     "metadata": {
      "slideshow": {
       "slide_type": "-"
      }
     },
     "outputs": [
      {
       "metadata": {},
       "output_type": "pyout",
       "prompt_number": 6,
       "text": [
        "['and',\n",
        " 'as',\n",
        " 'assert',\n",
        " 'break',\n",
        " 'class',\n",
        " 'continue',\n",
        " 'def',\n",
        " 'del',\n",
        " 'elif',\n",
        " 'else',\n",
        " 'except',\n",
        " 'exec',\n",
        " 'finally',\n",
        " 'for',\n",
        " 'from',\n",
        " 'global',\n",
        " 'if',\n",
        " 'import',\n",
        " 'in',\n",
        " 'is',\n",
        " 'lambda',\n",
        " 'not',\n",
        " 'or',\n",
        " 'pass',\n",
        " 'print',\n",
        " 'raise',\n",
        " 'return',\n",
        " 'try',\n",
        " 'while',\n",
        " 'with',\n",
        " 'yield']"
       ]
      }
     ],
     "prompt_number": 6
    },
    {
     "cell_type": "code",
     "collapsed": false,
     "input": [
      "import __builtin__\n",
      ">>> dir(__builtin__)"
     ],
     "language": "python",
     "metadata": {
      "slideshow": {
       "slide_type": "subslide"
      }
     },
     "outputs": [
      {
       "metadata": {},
       "output_type": "pyout",
       "prompt_number": 7,
       "text": [
        "['ArithmeticError',\n",
        " 'AssertionError',\n",
        " 'AttributeError',\n",
        " 'BaseException',\n",
        " 'BufferError',\n",
        " 'BytesWarning',\n",
        " 'DeprecationWarning',\n",
        " 'EOFError',\n",
        " 'Ellipsis',\n",
        " 'EnvironmentError',\n",
        " 'Exception',\n",
        " 'False',\n",
        " 'FloatingPointError',\n",
        " 'FutureWarning',\n",
        " 'GeneratorExit',\n",
        " 'IOError',\n",
        " 'ImportError',\n",
        " 'ImportWarning',\n",
        " 'IndentationError',\n",
        " 'IndexError',\n",
        " 'KeyError',\n",
        " 'KeyboardInterrupt',\n",
        " 'LookupError',\n",
        " 'MemoryError',\n",
        " 'NameError',\n",
        " 'None',\n",
        " 'NotImplemented',\n",
        " 'NotImplementedError',\n",
        " 'OSError',\n",
        " 'OverflowError',\n",
        " 'PendingDeprecationWarning',\n",
        " 'ReferenceError',\n",
        " 'RuntimeError',\n",
        " 'RuntimeWarning',\n",
        " 'StandardError',\n",
        " 'StopIteration',\n",
        " 'SyntaxError',\n",
        " 'SyntaxWarning',\n",
        " 'SystemError',\n",
        " 'SystemExit',\n",
        " 'TabError',\n",
        " 'True',\n",
        " 'TypeError',\n",
        " 'UnboundLocalError',\n",
        " 'UnicodeDecodeError',\n",
        " 'UnicodeEncodeError',\n",
        " 'UnicodeError',\n",
        " 'UnicodeTranslateError',\n",
        " 'UnicodeWarning',\n",
        " 'UserWarning',\n",
        " 'ValueError',\n",
        " 'Warning',\n",
        " 'ZeroDivisionError',\n",
        " '__IPYTHON__',\n",
        " '__IPYTHON__active',\n",
        " '__debug__',\n",
        " '__doc__',\n",
        " '__import__',\n",
        " '__name__',\n",
        " '__package__',\n",
        " 'abs',\n",
        " 'all',\n",
        " 'any',\n",
        " 'apply',\n",
        " 'basestring',\n",
        " 'bin',\n",
        " 'bool',\n",
        " 'buffer',\n",
        " 'bytearray',\n",
        " 'bytes',\n",
        " 'callable',\n",
        " 'chr',\n",
        " 'classmethod',\n",
        " 'cmp',\n",
        " 'coerce',\n",
        " 'compile',\n",
        " 'complex',\n",
        " 'copyright',\n",
        " 'credits',\n",
        " 'delattr',\n",
        " 'dict',\n",
        " 'dir',\n",
        " 'divmod',\n",
        " 'dreload',\n",
        " 'enumerate',\n",
        " 'eval',\n",
        " 'execfile',\n",
        " 'file',\n",
        " 'filter',\n",
        " 'float',\n",
        " 'format',\n",
        " 'frozenset',\n",
        " 'get_ipython',\n",
        " 'getattr',\n",
        " 'globals',\n",
        " 'hasattr',\n",
        " 'hash',\n",
        " 'help',\n",
        " 'hex',\n",
        " 'id',\n",
        " 'input',\n",
        " 'int',\n",
        " 'intern',\n",
        " 'isinstance',\n",
        " 'issubclass',\n",
        " 'iter',\n",
        " 'len',\n",
        " 'license',\n",
        " 'list',\n",
        " 'locals',\n",
        " 'long',\n",
        " 'map',\n",
        " 'max',\n",
        " 'memoryview',\n",
        " 'min',\n",
        " 'next',\n",
        " 'object',\n",
        " 'oct',\n",
        " 'open',\n",
        " 'ord',\n",
        " 'pow',\n",
        " 'print',\n",
        " 'property',\n",
        " 'range',\n",
        " 'raw_input',\n",
        " 'reduce',\n",
        " 'reload',\n",
        " 'repr',\n",
        " 'reversed',\n",
        " 'round',\n",
        " 'set',\n",
        " 'setattr',\n",
        " 'slice',\n",
        " 'sorted',\n",
        " 'staticmethod',\n",
        " 'str',\n",
        " 'sum',\n",
        " 'super',\n",
        " 'tuple',\n",
        " 'type',\n",
        " 'unichr',\n",
        " 'unicode',\n",
        " 'vars',\n",
        " 'xrange',\n",
        " 'zip']"
       ]
      }
     ],
     "prompt_number": 7
    },
    {
     "cell_type": "markdown",
     "metadata": {
      "slideshow": {
       "slide_type": "subslide"
      }
     },
     "source": [
      "You can use these names as variable names, Python won't stop you...but you'll be sorry!"
     ]
    },
    {
     "cell_type": "code",
     "collapsed": false,
     "input": [
      "print unicode('will this work')"
     ],
     "language": "python",
     "metadata": {},
     "outputs": [
      {
       "output_type": "stream",
       "stream": "stdout",
       "text": [
        "will this work\n"
       ]
      }
     ],
     "prompt_number": 8
    },
    {
     "cell_type": "code",
     "collapsed": false,
     "input": [
      "unicode = 'will this work?'\n",
      "print unicode\n",
      "unicode('will this work?')"
     ],
     "language": "python",
     "metadata": {},
     "outputs": [
      {
       "output_type": "stream",
       "stream": "stdout",
       "text": [
        "will this work?\n"
       ]
      },
      {
       "ename": "TypeError",
       "evalue": "'str' object is not callable",
       "output_type": "pyerr",
       "traceback": [
        "\u001b[0;31m---------------------------------------------------------------------------\u001b[0m\n\u001b[0;31mTypeError\u001b[0m                                 Traceback (most recent call last)",
        "\u001b[0;32m<ipython-input-9-df26d9d9e02d>\u001b[0m in \u001b[0;36m<module>\u001b[0;34m()\u001b[0m\n\u001b[1;32m      1\u001b[0m \u001b[0municode\u001b[0m \u001b[0;34m=\u001b[0m \u001b[0;34m'will this work?'\u001b[0m\u001b[0;34m\u001b[0m\u001b[0m\n\u001b[1;32m      2\u001b[0m \u001b[0;32mprint\u001b[0m \u001b[0municode\u001b[0m\u001b[0;34m\u001b[0m\u001b[0m\n\u001b[0;32m----> 3\u001b[0;31m \u001b[0municode\u001b[0m\u001b[0;34m(\u001b[0m\u001b[0;34m'will this work?'\u001b[0m\u001b[0;34m)\u001b[0m\u001b[0;34m\u001b[0m\u001b[0m\n\u001b[0m",
        "\u001b[0;31mTypeError\u001b[0m: 'str' object is not callable"
       ]
      }
     ],
     "prompt_number": 9
    },
    {
     "cell_type": "markdown",
     "metadata": {
      "slideshow": {
       "slide_type": "subslide"
      }
     },
     "source": [
      "Python errors are pretty clear.  This raises a `TypeError`.  I tried to use a `str` object as a function.  \n",
      "\n",
      "That's because I overwrote the [namespace](http://bytebaker.com/2008/07/30/python-namespaces/) of the built-in `unicode()` function with a string."
     ]
    },
    {
     "cell_type": "code",
     "collapsed": false,
     "input": [
      "del unicode\n",
      "print unicode('did that fix it?')"
     ],
     "language": "python",
     "metadata": {},
     "outputs": [
      {
       "output_type": "stream",
       "stream": "stdout",
       "text": [
        "did that fix it?\n"
       ]
      }
     ],
     "prompt_number": 10
    },
    {
     "cell_type": "markdown",
     "metadata": {},
     "source": [
      "Here's a list of [built-in errors and exceptions](https://docs.python.org/2/library/exceptions.html)."
     ]
    },
    {
     "cell_type": "markdown",
     "metadata": {
      "slideshow": {
       "slide_type": "subslide"
      }
     },
     "source": [
      "## Python is 0-indexed\n",
      "\n",
      "`R` is 1-indexed.  Most programming languages employ _zero-based indexes_.\n",
      "\n",
      "That means the first element starts with 0.\n",
      "\n",
      "[This is not an arbitrary decision.](http://en.wikipedia.org/wiki/Zero-based_numbering#Origin)"
     ]
    },
    {
     "cell_type": "code",
     "collapsed": false,
     "input": [
      "test_string = 'zero'\n",
      "print 'Zeroth element: ' + test_string[0]\n",
      "print 'First element: ' + test_string[1]"
     ],
     "language": "python",
     "metadata": {},
     "outputs": [
      {
       "output_type": "stream",
       "stream": "stdout",
       "text": [
        "Zeroth element: z\n",
        "First element: e\n"
       ]
      }
     ],
     "prompt_number": 11
    },
    {
     "cell_type": "markdown",
     "metadata": {
      "slideshow": {
       "slide_type": "slide"
      }
     },
     "source": [
      "# Data types and collections in Python\n",
      "\n",
      "Now we'll review a couple of basic data types and functions you can expect to use in Python.\n",
      "1. Useful built-in functions\n",
      "2. `string`s and `string` member methods (and how to learn more)\n",
      "3. `set`, `list`, and `dict` objects\n",
      "4. `list comprehensions`"
     ]
    },
    {
     "cell_type": "code",
     "collapsed": false,
     "input": [
      "alphabet = 'abcdefghijklmnopqrstuvwxyz'\n",
      "print alphabet # old-fashioned way of using print()\n",
      "print(alphabet) # the new convention"
     ],
     "language": "python",
     "metadata": {
      "slideshow": {
       "slide_type": "-"
      }
     },
     "outputs": [
      {
       "output_type": "stream",
       "stream": "stdout",
       "text": [
        "abcdefghijklmnopqrstuvwxyz\n",
        "abcdefghijklmnopqrstuvwxyz\n"
       ]
      }
     ],
     "prompt_number": 12
    },
    {
     "cell_type": "markdown",
     "metadata": {},
     "source": [
      "The string is denoted by _delimiters_, '' characters.  Python conventionally uses ''.  You can also use \"\".\n",
      "\n",
      "Variable assignment occurs through the use of the `=` operator."
     ]
    },
    {
     "cell_type": "code",
     "collapsed": false,
     "input": [
      "numbers = '0123456789"
     ],
     "language": "python",
     "metadata": {
      "slideshow": {
       "slide_type": "subslide"
      }
     },
     "outputs": [
      {
       "ename": "SyntaxError",
       "evalue": "EOL while scanning string literal (<ipython-input-13-72568ec75aba>, line 1)",
       "output_type": "pyerr",
       "traceback": [
        "\u001b[0;36m  File \u001b[0;32m\"<ipython-input-13-72568ec75aba>\"\u001b[0;36m, line \u001b[0;32m1\u001b[0m\n\u001b[0;31m    numbers = '0123456789\u001b[0m\n\u001b[0m                        ^\u001b[0m\n\u001b[0;31mSyntaxError\u001b[0m\u001b[0;31m:\u001b[0m EOL while scanning string literal\n"
       ]
      }
     ],
     "prompt_number": 13
    },
    {
     "cell_type": "markdown",
     "metadata": {},
     "source": [
      "`EOL` is actually a special character in most environments (you have probably seen it as `\\n`).  It means \"end of line.\"\n",
      "Here, Python encountered the EOL character without first encountering a matching delimiter.  Python expected a delimiter *before* it encountered the end of the line and didn't find one, so this raised a `SyntaxError`. \n",
      "\n",
      "FYI, the [_string literal_](http://en.wikipedia.org/wiki/String_literal) is the value of a string.  Here it is `0123456789`"
     ]
    },
    {
     "cell_type": "markdown",
     "metadata": {
      "slideshow": {
       "slide_type": "subslide"
      }
     },
     "source": [
      "String types in Python are similar to an array of characters.  You can refer to a character by its array index using _slice notation_: `[start:end:step]`"
     ]
    },
    {
     "cell_type": "code",
     "collapsed": false,
     "input": [
      "print alphabet[0]\n",
      "print alphabet[0:15]\n",
      "print alphabet[0:15:2]\n",
      "print alphabet[:]"
     ],
     "language": "python",
     "metadata": {
      "slideshow": {
       "slide_type": "-"
      }
     },
     "outputs": [
      {
       "output_type": "stream",
       "stream": "stdout",
       "text": [
        "a\n",
        "abcdefghijklmno\n",
        "acegikmo\n",
        "abcdefghijklmnopqrstuvwxyz\n"
       ]
      }
     ],
     "prompt_number": 14
    },
    {
     "cell_type": "markdown",
     "metadata": {
      "slideshow": {
       "slide_type": "subslide"
      }
     },
     "source": [
      "Python's slice notation also accepts negative integers:"
     ]
    },
    {
     "cell_type": "code",
     "collapsed": false,
     "input": [
      "print alphabet[-1:]\n",
      "print alphabet[:-1]\n",
      "print alphabet[:-1:2]\n"
     ],
     "language": "python",
     "metadata": {
      "slideshow": {
       "slide_type": "-"
      }
     },
     "outputs": [
      {
       "output_type": "stream",
       "stream": "stdout",
       "text": [
        "z\n",
        "abcdefghijklmnopqrstuvwxy\n",
        "acegikmoqsuwy\n"
       ]
      }
     ],
     "prompt_number": 15
    },
    {
     "cell_type": "markdown",
     "metadata": {
      "slideshow": {
       "slide_type": "subslide"
      }
     },
     "source": [
      "What if you pass a `float`?"
     ]
    },
    {
     "cell_type": "code",
     "collapsed": false,
     "input": [
      "print alphabet[0.2:]"
     ],
     "language": "python",
     "metadata": {},
     "outputs": [
      {
       "ename": "TypeError",
       "evalue": "slice indices must be integers or None or have an __index__ method",
       "output_type": "pyerr",
       "traceback": [
        "\u001b[0;31m---------------------------------------------------------------------------\u001b[0m\n\u001b[0;31mTypeError\u001b[0m                                 Traceback (most recent call last)",
        "\u001b[0;32m<ipython-input-16-ae6a5b5f59da>\u001b[0m in \u001b[0;36m<module>\u001b[0;34m()\u001b[0m\n\u001b[0;32m----> 1\u001b[0;31m \u001b[0;32mprint\u001b[0m \u001b[0malphabet\u001b[0m\u001b[0;34m[\u001b[0m\u001b[0;36m0.2\u001b[0m\u001b[0;34m:\u001b[0m\u001b[0;34m]\u001b[0m\u001b[0;34m\u001b[0m\u001b[0m\n\u001b[0m",
        "\u001b[0;31mTypeError\u001b[0m: slice indices must be integers or None or have an __index__ method"
       ]
      }
     ],
     "prompt_number": 16
    },
    {
     "cell_type": "markdown",
     "metadata": {
      "slideshow": {
       "slide_type": "slide"
      }
     },
     "source": [
      "## Useful commands in Python\n",
      "\n",
      "There are lots of [built-in functions](https://docs.python.org/2/library/functions.html) in Python that are helpful.  \n",
      "\n",
      "We'll review a few very common ones."
     ]
    },
    {
     "cell_type": "markdown",
     "metadata": {
      "slideshow": {
       "slide_type": "subslide"
      }
     },
     "source": [
      "**How do you determine object type?**\n",
      "\n",
      "Call the [`type()`](https://docs.python.org/2/library/functions.html#type) function on the object."
     ]
    },
    {
     "cell_type": "code",
     "collapsed": false,
     "input": [
      "print 'What type of object is \"alphabet\"?'\n",
      "print type(alphabet)"
     ],
     "language": "python",
     "metadata": {
      "slideshow": {
       "slide_type": "-"
      }
     },
     "outputs": [
      {
       "output_type": "stream",
       "stream": "stdout",
       "text": [
        "What type of object is \"alphabet\"?\n",
        "<type 'str'>\n"
       ]
      }
     ],
     "prompt_number": 17
    },
    {
     "cell_type": "markdown",
     "metadata": {},
     "source": [
      "** How do you find out an object's attributes? **\n",
      "\n",
      "1. Read the documentation!\n",
      "2. If you don't know, call [`dir()`](https://docs.python.org/2/library/functions.html#dir) on the object"
     ]
    },
    {
     "cell_type": "code",
     "collapsed": false,
     "input": [
      "print 'What are the attributes (AKA member methods and data attributes) for this type of object?'\n",
      "print dir(alphabet)"
     ],
     "language": "python",
     "metadata": {
      "slideshow": {
       "slide_type": "subslide"
      }
     },
     "outputs": [
      {
       "output_type": "stream",
       "stream": "stdout",
       "text": [
        "What are the attributes (AKA member methods and data attributes) for this type of object?\n",
        "['__add__', '__class__', '__contains__', '__delattr__', '__doc__', '__eq__', '__format__', '__ge__', '__getattribute__', '__getitem__', '__getnewargs__', '__getslice__', '__gt__', '__hash__', '__init__', '__le__', '__len__', '__lt__', '__mod__', '__mul__', '__ne__', '__new__', '__reduce__', '__reduce_ex__', '__repr__', '__rmod__', '__rmul__', '__setattr__', '__sizeof__', '__str__', '__subclasshook__', '_formatter_field_name_split', '_formatter_parser', 'capitalize', 'center', 'count', 'decode', 'encode', 'endswith', 'expandtabs', 'find', 'format', 'index', 'isalnum', 'isalpha', 'isdigit', 'islower', 'isspace', 'istitle', 'isupper', 'join', 'ljust', 'lower', 'lstrip', 'partition', 'replace', 'rfind', 'rindex', 'rjust', 'rpartition', 'rsplit', 'rstrip', 'split', 'splitlines', 'startswith', 'strip', 'swapcase', 'title', 'translate', 'upper', 'zfill']\n"
       ]
      }
     ],
     "prompt_number": 18
    },
    {
     "cell_type": "markdown",
     "metadata": {
      "slideshow": {
       "slide_type": "subslide"
      }
     },
     "source": [
      "** An overview of some `string` methods.**"
     ]
    },
    {
     "cell_type": "code",
     "collapsed": false,
     "input": [
      "print alphabet.split\n",
      "print alphabet.split()\n",
      "print alphabet.lower()"
     ],
     "language": "python",
     "metadata": {
      "slideshow": {
       "slide_type": "-"
      }
     },
     "outputs": [
      {
       "output_type": "stream",
       "stream": "stdout",
       "text": [
        "<built-in method split of str object at 0x10055dfb0>\n",
        "['abcdefghijklmnopqrstuvwxyz']\n",
        "abcdefghijklmnopqrstuvwxyz\n"
       ]
      }
     ],
     "prompt_number": 19
    },
    {
     "cell_type": "markdown",
     "metadata": {},
     "source": [
      "You can also call some functions (not all!) using function notation:"
     ]
    },
    {
     "cell_type": "code",
     "collapsed": false,
     "input": [
      "print len(alphabet)"
     ],
     "language": "python",
     "metadata": {},
     "outputs": [
      {
       "output_type": "stream",
       "stream": "stdout",
       "text": [
        "26\n"
       ]
      }
     ],
     "prompt_number": 20
    },
    {
     "cell_type": "markdown",
     "metadata": {},
     "source": [
      "Don't worry about functions that start or end with \"__\" for now.  [It's complicated](http://rafekettler.com/magicmethods.html)."
     ]
    },
    {
     "cell_type": "markdown",
     "metadata": {
      "slideshow": {
       "slide_type": "subslide"
      }
     },
     "source": [
      "You can change the type of object through [**type conversion**](http://stackoverflow.com/questions/2375334/python-type-conversion)."
     ]
    },
    {
     "cell_type": "code",
     "collapsed": false,
     "input": [
      "print list(alphabet)\n",
      "print len(alphabet)"
     ],
     "language": "python",
     "metadata": {
      "slideshow": {
       "slide_type": "-"
      }
     },
     "outputs": [
      {
       "output_type": "stream",
       "stream": "stdout",
       "text": [
        "['a', 'b', 'c', 'd', 'e', 'f', 'g', 'h', 'i', 'j', 'k', 'l', 'm', 'n', 'o', 'p', 'q', 'r', 's', 't', 'u', 'v', 'w', 'x', 'y', 'z']\n",
        "26\n"
       ]
      }
     ],
     "prompt_number": 21
    },
    {
     "cell_type": "markdown",
     "metadata": {},
     "source": [
      "`alphabet` and `list(alphabet)` aren't precisely the exact same object.  Can you explain?"
     ]
    },
    {
     "cell_type": "markdown",
     "metadata": {
      "slideshow": {
       "slide_type": "subslide"
      }
     },
     "source": [
      "### List comprehensions\n",
      "\n",
      "The simplest way to understand a list comprehension is a one-liner for loop.\n",
      "\n",
      "If you want to perform an element-wise operation on a list **and get a list back** (very common in Python), use a list comprehension."
     ]
    },
    {
     "cell_type": "code",
     "collapsed": false,
     "input": [
      "print [i for i in list(alphabet)[:5]] # AKA List comprehension (note that strings are iterables!)\n",
      "print [i.upper() for i in alphabet[::3]]"
     ],
     "language": "python",
     "metadata": {
      "slideshow": {
       "slide_type": "-"
      }
     },
     "outputs": [
      {
       "output_type": "stream",
       "stream": "stdout",
       "text": [
        "['a', 'b', 'c', 'd', 'e']\n",
        "['A', 'D', 'G', 'J', 'M', 'P', 'S', 'V', 'Y']\n"
       ]
      }
     ],
     "prompt_number": 22
    },
    {
     "cell_type": "markdown",
     "metadata": {
      "slideshow": {
       "slide_type": "subslide"
      }
     },
     "source": [
      "** The `string` library **\n",
      "\n",
      "You don't have to actually reinvent the wheel.  The [`string` module](https://docs.python.org/2/library/string.html) is useful if you work with strings a lot."
     ]
    },
    {
     "cell_type": "code",
     "collapsed": false,
     "input": [
      "import string\n",
      "print string.ascii_lowercase\n",
      "print string.digits"
     ],
     "language": "python",
     "metadata": {
      "slideshow": {
       "slide_type": "-"
      }
     },
     "outputs": [
      {
       "output_type": "stream",
       "stream": "stdout",
       "text": [
        "abcdefghijklmnopqrstuvwxyz\n",
        "0123456789\n"
       ]
      }
     ],
     "prompt_number": 23
    },
    {
     "cell_type": "markdown",
     "metadata": {
      "slideshow": {
       "slide_type": "subslide"
      }
     },
     "source": [
      "### Combining list comprehensions with string concatenation\n",
      "\n",
      "This is a very Pythonic way of joining string objects that are contained in a list.\n",
      "\n",
      "The general idea: all strings have a `join()` method, and you are joining a list of strings by _another_ string."
     ]
    },
    {
     "cell_type": "code",
     "collapsed": false,
     "input": [
      "numbers = list(string.digits)[0:5:2]\n",
      "\n",
      "print '\\t'.join([i for i in numbers])\n",
      "print '\\n'.join([i for i in numbers])\n",
      "print 'SPACE'.join([i for i in numbers])"
     ],
     "language": "python",
     "metadata": {
      "slideshow": {
       "slide_type": "-"
      }
     },
     "outputs": [
      {
       "output_type": "stream",
       "stream": "stdout",
       "text": [
        "0\t2\t4\n",
        "0\n",
        "2\n",
        "4\n",
        "0SPACE2SPACE4\n"
       ]
      }
     ],
     "prompt_number": 24
    },
    {
     "cell_type": "markdown",
     "metadata": {
      "slideshow": {
       "slide_type": "subslide"
      }
     },
     "source": [
      "### Basic mathematical operations\n",
      "\n",
      "First, let's convert each of those string elements to an int.  \n",
      "\n",
      "We'll do this using in-place modification because lists are [mutable types](https://docs.python.org/2/library/stdtypes.html#typesseq-mutable) in Python.\n",
      "\n",
      "We'll also introduce the [`enumerate()`](https://docs.python.org/2/library/functions.html#enumerate) built-in function."
     ]
    },
    {
     "cell_type": "code",
     "collapsed": false,
     "input": [
      "print [type(x) for x in numbers]\n",
      "for i, x in enumerate(numbers):\n",
      "    print 'The value at index {index} is {value}'.format(index=i, value=x)\n",
      "    numbers[i] = int(numbers[i])\n",
      "print [type(x) for x in numbers]"
     ],
     "language": "python",
     "metadata": {},
     "outputs": [
      {
       "output_type": "stream",
       "stream": "stdout",
       "text": [
        "[<type 'str'>, <type 'str'>, <type 'str'>]\n",
        "The value at index 0 is 0\n",
        "The value at index 1 is 2\n",
        "The value at index 2 is 4\n",
        "[<type 'int'>, <type 'int'>, <type 'int'>]\n"
       ]
      }
     ],
     "prompt_number": 25
    },
    {
     "cell_type": "code",
     "collapsed": false,
     "input": [
      "# Addition\n",
      "for i in numbers:\n",
      "    print 'Add 1 = {val}'.format(val=int(i) + 1)\n",
      "    \n",
      "# Multiplication    \n",
      "for i in numbers:\n",
      "    print 'Times 2 = {val}'.format(val=int(i) * 2)\n",
      "    \n",
      "# Exponentiation\n",
      "for i in numbers:\n",
      "    print 'Squared = {val}'.format(val=int(i) ** 2)"
     ],
     "language": "python",
     "metadata": {
      "slideshow": {
       "slide_type": "subslide"
      }
     },
     "outputs": [
      {
       "output_type": "stream",
       "stream": "stdout",
       "text": [
        "Add 1 = 1\n",
        "Add 1 = 3\n",
        "Add 1 = 5\n",
        "Times 2 = 0\n",
        "Times 2 = 4\n",
        "Times 2 = 8\n",
        "Squared = 0\n",
        "Squared = 4\n",
        "Squared = 16\n"
       ]
      }
     ],
     "prompt_number": 26
    },
    {
     "cell_type": "markdown",
     "metadata": {
      "slideshow": {
       "slide_type": "subslide"
      }
     },
     "source": [
      "** You can use `enumerate()` on any iterable object. **\n",
      "\n",
      "Here are some common code patterns to determine if an object is iterable."
     ]
    },
    {
     "cell_type": "code",
     "collapsed": false,
     "input": [
      "# http://stackoverflow.com/a/1952655\n",
      "# Duck typing (AKA 'Beg forgiveness')\n",
      "try:\n",
      "    iterator = iter(alphabet)\n",
      "except TypeError:\n",
      "    print 'Duck typing: Not iterable.'   \n",
      "else:\n",
      "    print 'Duck typing: Iterable.'\n",
      "\n",
      "# Type checking (AKA 'Ask permission') \n",
      "import collections #Also in the Python standard library\n",
      "\n",
      "if isinstance(alphabet, collections.Iterable):\n",
      "    print 'Type-checking: Iterable.'\n",
      "else:\n",
      "    print 'Type-checking: Not iterable.'    "
     ],
     "language": "python",
     "metadata": {
      "slideshow": {
       "slide_type": "-"
      }
     },
     "outputs": [
      {
       "output_type": "stream",
       "stream": "stdout",
       "text": [
        "Duck typing: Iterable.\n",
        "Type-checking: Iterable.\n"
       ]
      }
     ],
     "prompt_number": 27
    },
    {
     "cell_type": "markdown",
     "metadata": {
      "slideshow": {
       "slide_type": "subslide"
      }
     },
     "source": [
      "## Sets versus lists\n",
      "\n",
      "Sets are a data type that consists of a collection of *unique* items. Sets are highly optimized for lookups.  \n",
      "\n",
      "Unlike lists, they are not sorted in order of insertion.\n",
      "\n",
      "If you've taken CS 106B, a set is a **hashset**."
     ]
    },
    {
     "cell_type": "code",
     "collapsed": false,
     "input": [
      "import random # Comes with the standard library\n",
      "foo = set() # can also say {[]}\n",
      "bar = list() # can also say []\n",
      "\n",
      "for i in xrange(4): \n",
      "    val = random.randint(0, 1000)\n",
      "    foo.add(val)\n",
      "    bar.append(val)\n",
      "\n",
      "print 'Set values are: \\t' + str(foo)\n",
      "print 'List values are: \\t' + str(bar)\n",
      "# Note that xrange is (start, stop, step); if you don't specify, it is exclusive up to stop"
     ],
     "language": "python",
     "metadata": {},
     "outputs": [
      {
       "output_type": "stream",
       "stream": "stdout",
       "text": [
        "Set values are: \tset([888, 173, 502, 493])\n",
        "List values are: \t[888, 502, 173, 493]\n"
       ]
      }
     ],
     "prompt_number": 28
    },
    {
     "cell_type": "code",
     "collapsed": false,
     "input": [
      "foo.clear() # empty the set\n",
      "bar[:] = list() # empty the list\n",
      "\n",
      "for i in xrange(10):\n",
      "    val = random.randint(0, 1000)\n",
      "    foo.add(val)\n",
      "    bar.append(val)\n",
      "\n",
      "print 'Set values are: \\t' + str(foo)\n",
      "print 'List values are: \\t' + str(bar)\n",
      "\n",
      "print '10 iterations: {setlength} elements in the set'.format(setlength=len(foo))\n",
      "print '10 iterations: {listlength} elements in the list'.format(listlength=len(bar))"
     ],
     "language": "python",
     "metadata": {
      "slideshow": {
       "slide_type": "subslide"
      }
     },
     "outputs": [
      {
       "output_type": "stream",
       "stream": "stdout",
       "text": [
        "Set values are: \tset([165, 999, 40, 618, 335, 658, 761, 634, 284, 638])\n",
        "List values are: \t[999, 634, 284, 40, 165, 335, 618, 761, 638, 658]\n",
        "10 iterations: 10 elements in the set\n",
        "10 iterations: 10 elements in the list\n"
       ]
      }
     ],
     "prompt_number": 29
    },
    {
     "cell_type": "code",
     "collapsed": false,
     "input": [
      "foo.clear()\n",
      "bar[:] = list()\n",
      "\n",
      "for i in xrange(100):\n",
      "    val = random.randint(0, 1000)\n",
      "    foo.add(val)\n",
      "    bar.append(val)\n",
      "    \n",
      "print '100 iterations: {setlength} elements in the set'.format(setlength=len(foo))\n",
      "print '100 iterations: {listlength} elements in the list'.format(listlength=len(bar))"
     ],
     "language": "python",
     "metadata": {
      "slideshow": {
       "slide_type": "subslide"
      }
     },
     "outputs": [
      {
       "output_type": "stream",
       "stream": "stdout",
       "text": [
        "100 iterations: 95 elements in the set\n",
        "100 iterations: 100 elements in the list\n"
       ]
      }
     ],
     "prompt_number": 30
    },
    {
     "cell_type": "code",
     "collapsed": false,
     "input": [
      "foo.clear()\n",
      "bar[:] = []\n",
      "\n",
      "for i in xrange(1000):\n",
      "    val = random.randint(0, 1000)\n",
      "    foo.add(val)\n",
      "    bar.append(val)\n",
      "    \n",
      "print '1000 iterations: {setlength} elements in the set'.format(setlength=len(foo))\n",
      "print '1000 iterations: {listlength} elements in the list'.format(listlength=len(bar))"
     ],
     "language": "python",
     "metadata": {
      "slideshow": {
       "slide_type": "subslide"
      }
     },
     "outputs": [
      {
       "output_type": "stream",
       "stream": "stdout",
       "text": [
        "1000 iterations: 657 elements in the set\n",
        "1000 iterations: 1000 elements in the list\n"
       ]
      }
     ],
     "prompt_number": 31
    },
    {
     "cell_type": "code",
     "collapsed": false,
     "input": [
      "foo.clear()\n",
      "bar[:] = []\n",
      "\n",
      "for i in xrange(10000):\n",
      "    val = random.randint(0, 1000)\n",
      "    foo.add(val)\n",
      "    bar.append(val)\n",
      "    \n",
      "print '10000 iterations: {setlength} elements in the set'.format(setlength=len(foo))\n",
      "print '10000 iterations: {listlength} elements in the list'.format(listlength=len(bar))"
     ],
     "language": "python",
     "metadata": {
      "slideshow": {
       "slide_type": "subslide"
      }
     },
     "outputs": [
      {
       "output_type": "stream",
       "stream": "stdout",
       "text": [
        "10000 iterations: 1001 elements in the set\n",
        "10000 iterations: 10000 elements in the list\n"
       ]
      }
     ],
     "prompt_number": 32
    },
    {
     "cell_type": "code",
     "collapsed": false,
     "input": [
      "print \"Sets have the following methods: \" + str([thing for thing in dir(foo) if not thing.startswith(\"__\")])"
     ],
     "language": "python",
     "metadata": {
      "slideshow": {
       "slide_type": "subslide"
      }
     },
     "outputs": [
      {
       "output_type": "stream",
       "stream": "stdout",
       "text": [
        "Sets have the following methods: ['add', 'clear', 'copy', 'difference', 'difference_update', 'discard', 'intersection', 'intersection_update', 'isdisjoint', 'issubset', 'issuperset', 'pop', 'remove', 'symmetric_difference', 'symmetric_difference_update', 'union', 'update']\n"
       ]
      }
     ],
     "prompt_number": 33
    },
    {
     "cell_type": "code",
     "collapsed": false,
     "input": [
      "print \"Lists have the following methods: \" + str([thing for thing in dir(bar) if not thing.startswith(\"__\")])"
     ],
     "language": "python",
     "metadata": {
      "slideshow": {
       "slide_type": "subslide"
      }
     },
     "outputs": [
      {
       "output_type": "stream",
       "stream": "stdout",
       "text": [
        "Lists have the following methods: ['append', 'count', 'extend', 'index', 'insert', 'pop', 'remove', 'reverse', 'sort']\n"
       ]
      }
     ],
     "prompt_number": 34
    },
    {
     "cell_type": "markdown",
     "metadata": {
      "slideshow": {
       "slide_type": "subslide"
      }
     },
     "source": [
      "** Dictionaries **\n",
      "\n",
      "A dictionary is a key-value mapping.  If you have taken CS 106B, dicst are like **hashmap** or **hashtable** object."
     ]
    },
    {
     "cell_type": "code",
     "collapsed": false,
     "input": [
      "baz = {}\n",
      "baz['a'] = 1\n",
      "baz['b'] = 2\n",
      "baz"
     ],
     "language": "python",
     "metadata": {
      "slideshow": {
       "slide_type": "-"
      }
     },
     "outputs": [
      {
       "metadata": {},
       "output_type": "pyout",
       "prompt_number": 35,
       "text": [
        "{'a': 1, 'b': 2}"
       ]
      }
     ],
     "prompt_number": 35
    },
    {
     "cell_type": "markdown",
     "metadata": {},
     "source": [
      "`a` and `b` are keys.\n",
      "\n",
      "1 is the value for `a` and 2 is the value for `b`.\n",
      "\n",
      "Note that I had to declare the dictionary `baz` first."
     ]
    },
    {
     "cell_type": "markdown",
     "metadata": {
      "slideshow": {
       "slide_type": "subslide"
      }
     },
     "source": [
      "** What kind of key-value mappings can a dictionary have? **"
     ]
    },
    {
     "cell_type": "code",
     "collapsed": false,
     "input": [
      "baz['c'] = alphabet\n",
      "baz['d'] = numbers\n",
      "baz['e'] = list(numbers)\n",
      "baz['f'] = {'a': 1, 'b': 2}\n",
      "baz[alphabet] = '1'\n",
      "baz"
     ],
     "language": "python",
     "metadata": {
      "slideshow": {
       "slide_type": "-"
      }
     },
     "outputs": [
      {
       "metadata": {},
       "output_type": "pyout",
       "prompt_number": 36,
       "text": [
        "{'a': 1,\n",
        " 'abcdefghijklmnopqrstuvwxyz': '1',\n",
        " 'b': 2,\n",
        " 'c': 'abcdefghijklmnopqrstuvwxyz',\n",
        " 'd': [0, 2, 4],\n",
        " 'e': [0, 2, 4],\n",
        " 'f': {'a': 1, 'b': 2}}"
       ]
      }
     ],
     "prompt_number": 36
    },
    {
     "cell_type": "markdown",
     "metadata": {
      "slideshow": {
       "slide_type": "subslide"
      }
     },
     "source": [
      "** What kind of key-value mappings don't work? **"
     ]
    },
    {
     "cell_type": "code",
     "collapsed": false,
     "input": [
      "baz[{'a': 1, 'b':2}] = 0\n",
      "baz"
     ],
     "language": "python",
     "metadata": {
      "slideshow": {
       "slide_type": "-"
      }
     },
     "outputs": [
      {
       "ename": "TypeError",
       "evalue": "unhashable type: 'dict'",
       "output_type": "pyerr",
       "traceback": [
        "\u001b[0;31m---------------------------------------------------------------------------\u001b[0m\n\u001b[0;31mTypeError\u001b[0m                                 Traceback (most recent call last)",
        "\u001b[0;32m<ipython-input-37-b77e201d3ce1>\u001b[0m in \u001b[0;36m<module>\u001b[0;34m()\u001b[0m\n\u001b[0;32m----> 1\u001b[0;31m \u001b[0mbaz\u001b[0m\u001b[0;34m[\u001b[0m\u001b[0;34m{\u001b[0m\u001b[0;34m'a'\u001b[0m\u001b[0;34m:\u001b[0m \u001b[0;36m1\u001b[0m\u001b[0;34m,\u001b[0m \u001b[0;34m'b'\u001b[0m\u001b[0;34m:\u001b[0m\u001b[0;36m2\u001b[0m\u001b[0;34m}\u001b[0m\u001b[0;34m]\u001b[0m \u001b[0;34m=\u001b[0m \u001b[0;36m0\u001b[0m\u001b[0;34m\u001b[0m\u001b[0m\n\u001b[0m\u001b[1;32m      2\u001b[0m \u001b[0mbaz\u001b[0m\u001b[0;34m\u001b[0m\u001b[0m\n",
        "\u001b[0;31mTypeError\u001b[0m: unhashable type: 'dict'"
       ]
      }
     ],
     "prompt_number": 37
    },
    {
     "cell_type": "code",
     "collapsed": false,
     "input": [
      "baz[list(numbers)] = numbers"
     ],
     "language": "python",
     "metadata": {
      "slideshow": {
       "slide_type": "-"
      }
     },
     "outputs": [
      {
       "ename": "TypeError",
       "evalue": "unhashable type: 'list'",
       "output_type": "pyerr",
       "traceback": [
        "\u001b[0;31m---------------------------------------------------------------------------\u001b[0m\n\u001b[0;31mTypeError\u001b[0m                                 Traceback (most recent call last)",
        "\u001b[0;32m<ipython-input-38-a90e71148a56>\u001b[0m in \u001b[0;36m<module>\u001b[0;34m()\u001b[0m\n\u001b[0;32m----> 1\u001b[0;31m \u001b[0mbaz\u001b[0m\u001b[0;34m[\u001b[0m\u001b[0mlist\u001b[0m\u001b[0;34m(\u001b[0m\u001b[0mnumbers\u001b[0m\u001b[0;34m)\u001b[0m\u001b[0;34m]\u001b[0m \u001b[0;34m=\u001b[0m \u001b[0mnumbers\u001b[0m\u001b[0;34m\u001b[0m\u001b[0m\n\u001b[0m",
        "\u001b[0;31mTypeError\u001b[0m: unhashable type: 'list'"
       ]
      }
     ],
     "prompt_number": 38
    },
    {
     "cell_type": "markdown",
     "metadata": {
      "slideshow": {
       "slide_type": "slide"
      }
     },
     "source": [
      "# Python in application"
     ]
    },
    {
     "cell_type": "markdown",
     "metadata": {
      "slideshow": {
       "slide_type": "subslide"
      }
     },
     "source": [
      "## Retrieving all Political Party Platforms using a Python script\n",
      "\n",
      "You can always learn more about Python and code patterns, but you have to start small.\n",
      "\n",
      "We're going to use two third-party libraries ([`requests`](http://docs.python-requests.org/en/latest/) and [`BeautifulSoup`](http://www.crummy.com/software/BeautifulSoup/bs4/doc/)) and the techniques and code patterns you just learned to programatically scrape a list of pages."
     ]
    },
    {
     "cell_type": "code",
     "collapsed": false,
     "input": [
      "from IPython.display import HTML\n",
      "import requests # 3rd party library\n",
      "\n",
      "presidency_platforms_url = 'http://www.presidency.ucsb.edu/platforms.php'\n",
      "\n",
      "HTML(\"<iframe src=\" + presidency_platforms_url + \" width=100% height=400px></iframe>\")"
     ],
     "language": "python",
     "metadata": {
      "slideshow": {
       "slide_type": "-"
      }
     },
     "outputs": [
      {
       "html": [
        "<iframe src=http://www.presidency.ucsb.edu/platforms.php width=100% height=400px></iframe>"
       ],
       "metadata": {},
       "output_type": "pyout",
       "prompt_number": 39,
       "text": [
        "<IPython.core.display.HTML at 0x102670950>"
       ]
      }
     ],
     "prompt_number": 39
    },
    {
     "cell_type": "markdown",
     "metadata": {
      "slideshow": {
       "slide_type": "subslide"
      }
     },
     "source": [
      "** Request/Response model ** \n",
      "\n",
      "[Request/response](http://en.wikipedia.org/wiki/Request-response) is a [messaging protocol](http://en.wikipedia.org/wiki/Messaging_pattern).\n",
      "\n",
      "It is the underlying architectural model for the [Hypertext Transfer Protocol](http://en.wikipedia.org/wiki/HTTP), which is the agreed-upon standard for the way the Web works.\n",
      "\n",
      "The very general, grossly oversimplified idea: \n",
      "\n",
      "1. Clients (like you!) issue requests to servers\n",
      "2. Servers issue responses if they receive a request\n",
      "\n",
      "Servers sit around waiting to respond to requests.  If a server doesn't respond, ** something is wrong **."
     ]
    },
    {
     "cell_type": "markdown",
     "metadata": {
      "slideshow": {
       "slide_type": "subslide"
      }
     },
     "source": [
      "**How do I know that my request was issued successfully?**"
     ]
    },
    {
     "cell_type": "code",
     "collapsed": false,
     "input": [
      "import requests\n",
      "\n",
      "r = requests.get(presidency_platforms_url)\n",
      "\n",
      "print 'Server response status code = ' + r.status_code"
     ],
     "language": "python",
     "metadata": {
      "slideshow": {
       "slide_type": "-"
      }
     },
     "outputs": [
      {
       "ename": "TypeError",
       "evalue": "cannot concatenate 'str' and 'int' objects",
       "output_type": "pyerr",
       "traceback": [
        "\u001b[0;31m---------------------------------------------------------------------------\u001b[0m\n\u001b[0;31mTypeError\u001b[0m                                 Traceback (most recent call last)",
        "\u001b[0;32m<ipython-input-40-8bcb880d99a2>\u001b[0m in \u001b[0;36m<module>\u001b[0;34m()\u001b[0m\n\u001b[1;32m      3\u001b[0m \u001b[0mr\u001b[0m \u001b[0;34m=\u001b[0m \u001b[0mrequests\u001b[0m\u001b[0;34m.\u001b[0m\u001b[0mget\u001b[0m\u001b[0;34m(\u001b[0m\u001b[0mpresidency_platforms_url\u001b[0m\u001b[0;34m)\u001b[0m\u001b[0;34m\u001b[0m\u001b[0m\n\u001b[1;32m      4\u001b[0m \u001b[0;34m\u001b[0m\u001b[0m\n\u001b[0;32m----> 5\u001b[0;31m \u001b[0;32mprint\u001b[0m \u001b[0;34m'Server response status code = '\u001b[0m \u001b[0;34m+\u001b[0m \u001b[0mr\u001b[0m\u001b[0;34m.\u001b[0m\u001b[0mstatus_code\u001b[0m\u001b[0;34m\u001b[0m\u001b[0m\n\u001b[0m",
        "\u001b[0;31mTypeError\u001b[0m: cannot concatenate 'str' and 'int' objects"
       ]
      }
     ],
     "prompt_number": 40
    },
    {
     "cell_type": "code",
     "collapsed": false,
     "input": [
      "print type(r.status_code)\n",
      "print 'Server response status code = ' + str(r.status_code)\n",
      "print 'Server response status code = %i' % r.status_code\n",
      "print 'Server response status code = {statuscode}'.format(statuscode=r.status_code)"
     ],
     "language": "python",
     "metadata": {
      "slideshow": {
       "slide_type": "fragment"
      }
     },
     "outputs": []
    },
    {
     "cell_type": "markdown",
     "metadata": {
      "slideshow": {
       "slide_type": "subslide"
      }
     },
     "source": [
      "** What's a status code? **\n",
      "\n",
      "The Web only works because everybody agreed to honor HTTP.\n",
      "\n",
      "All HTTP clients (e.g. a web browser) *must* recognize [status codes](http://en.wikipedia.org/wiki/List_of_HTTP_status_codes).\n",
      "\n",
      "Generally:\n",
      "- 2XX is good\n",
      "- 4XX and 5XX are bad\n",
      "\n",
      "If you write a script to automate scraping, __check for status code = 200__.  Otherwise, you might get junk data!"
     ]
    },
    {
     "cell_type": "markdown",
     "metadata": {
      "slideshow": {
       "slide_type": "subslide"
      }
     },
     "source": [
      "** What else comes in a server response? **\n",
      "\n",
      "You can check the response [headers](http://en.wikipedia.org/wiki/List_of_HTTP_header_fields) to find out more information about the server you've hit."
     ]
    },
    {
     "cell_type": "code",
     "collapsed": false,
     "input": [
      "import pprint # A standard library module that helps to pretty print output.\n",
      "print r.encoding\n",
      "headers = r.headers\n",
      "pprint.pprint(headers.items()) # Prints a list of tuples"
     ],
     "language": "python",
     "metadata": {
      "slideshow": {
       "slide_type": "-"
      }
     },
     "outputs": [
      {
       "output_type": "stream",
       "stream": "stdout",
       "text": [
        "ISO-8859-1\n",
        "[('content-length', '4241'),\n",
        " ('content-encoding', 'gzip'),\n",
        " ('vary', 'Accept-Encoding'),\n",
        " ('server', 'Apache'),\n",
        " ('date', 'Fri, 25 Apr 2014 20:54:36 GMT'),\n",
        " ('content-type', 'text/html')]\n"
       ]
      }
     ],
     "prompt_number": 41
    },
    {
     "cell_type": "markdown",
     "metadata": {
      "slideshow": {
       "slide_type": "subslide"
      }
     },
     "source": [
      "** FYI, the server sees a lot of information from you as well !**"
     ]
    },
    {
     "cell_type": "code",
     "collapsed": false,
     "input": [
      "r = requests.get('http://httpbin.org/user-agent') # Website that allows you to test for HTTP behaviors\n",
      "r.text "
     ],
     "language": "python",
     "metadata": {
      "slideshow": {
       "slide_type": "-"
      }
     },
     "outputs": [
      {
       "metadata": {},
       "output_type": "pyout",
       "prompt_number": 42,
       "text": [
        "u'{\\n  \"user-agent\": \"python-requests/2.2.1 CPython/2.7.6 Darwin/12.5.0\"\\n}'"
       ]
      }
     ],
     "prompt_number": 42
    },
    {
     "cell_type": "markdown",
     "metadata": {},
     "source": [
      "Note that a string prefaced with u' means it's a [Unicode string](https://docs.python.org/2.7/howto/unicode.html).  Unicode relates to [character encoding](http://en.wikipedia.org/wiki/Character_encoding). [Encoding is tricky](http://www.reddit.com/r/Python/comments/1g62eh/explain_it_like_im_five_python_and_unicode/). \n",
      "\n",
      "I also created [a small history lesson on character encoding](http://stanford.edu/~rjweiss/public_html/IRiSS2013/text1/#27)."
     ]
    },
    {
     "cell_type": "markdown",
     "metadata": {},
     "source": [
      "Your `Response` object has a lot of helpful attributes that come in handy with web scraping:"
     ]
    },
    {
     "cell_type": "code",
     "collapsed": false,
     "input": [
      "print 'Requests.get() returns a {} object.'.format(type(r))\n",
      "for attr in dir(r):\n",
      "    if attr.startswith('__') or attr.startswith('_'):\n",
      "        pass\n",
      "    else:\n",
      "        print attr"
     ],
     "language": "python",
     "metadata": {
      "slideshow": {
       "slide_type": "subslide"
      }
     },
     "outputs": [
      {
       "output_type": "stream",
       "stream": "stdout",
       "text": [
        "Requests.get() returns a <class 'requests.models.Response'> object.\n",
        "apparent_encoding\n",
        "close\n",
        "connection\n",
        "content\n",
        "cookies\n",
        "elapsed\n",
        "encoding\n",
        "headers\n",
        "history\n",
        "iter_content\n",
        "iter_lines\n",
        "json\n",
        "links\n",
        "ok\n",
        "raise_for_status\n",
        "raw\n",
        "reason\n",
        "request\n",
        "status_code\n",
        "text\n",
        "url\n"
       ]
      }
     ],
     "prompt_number": 43
    },
    {
     "cell_type": "code",
     "collapsed": false,
     "input": [
      "print r.text[:1000] # Truncated for example\n",
      "print len(r.text) # in characters"
     ],
     "language": "python",
     "metadata": {
      "slideshow": {
       "slide_type": "subslide"
      }
     },
     "outputs": [
      {
       "output_type": "stream",
       "stream": "stdout",
       "text": [
        "{\n",
        "  \"user-agent\": \"python-requests/2.2.1 CPython/2.7.6 Darwin/12.5.0\"\n",
        "}\n",
        "71\n"
       ]
      }
     ],
     "prompt_number": 44
    },
    {
     "cell_type": "markdown",
     "metadata": {
      "slideshow": {
       "slide_type": "subslide"
      }
     },
     "source": [
      "You don't have to work solely with the raw response `r.text`. You can also get the response back as [JSON](https://developer.mozilla.org/en-US/docs/JSON) with `r.json()`.  \n",
      "\n",
      "JSON can be preferrable because then you can work with Python dictionaries."
     ]
    },
    {
     "cell_type": "code",
     "collapsed": false,
     "input": [
      "r = requests.get('http://httpbin.org/ip')\n",
      "print r.json()"
     ],
     "language": "python",
     "metadata": {},
     "outputs": [
      {
       "output_type": "stream",
       "stream": "stdout",
       "text": [
        "{u'origin': u'171.65.238.4'}\n"
       ]
      }
     ],
     "prompt_number": 45
    },
    {
     "cell_type": "code",
     "collapsed": false,
     "input": [
      "import json\n",
      "print r.json()['origin']"
     ],
     "language": "python",
     "metadata": {},
     "outputs": [
      {
       "output_type": "stream",
       "stream": "stdout",
       "text": [
        "171.65.238.4\n"
       ]
      }
     ],
     "prompt_number": 46
    },
    {
     "cell_type": "markdown",
     "metadata": {
      "slideshow": {
       "slide_type": "slide"
      }
     },
     "source": [
      "# Extracting information from structured content (\"Page scraping\")\n",
      "\n",
      "This is probably more appropriately called _screen_ scraping.  I'll get more into that at the end."
     ]
    },
    {
     "cell_type": "markdown",
     "metadata": {
      "slideshow": {
       "slide_type": "subslide"
      }
     },
     "source": [
      "## 3rd party libraries: `BeautifulSoup` and `lxml`\n",
      "\n",
      "### `BeautifulSoup`\n",
      "- Good for messy HTML ([doesn't pass validation](http://validator.w3.org/))\n",
      "- Pure Python (easier to install)\n",
      "\n",
      "### `lxml`\n",
      "- More powerful parsing capabilities: `XPath`, `CSS Selectors`\n",
      "- Has C dependencies (can be hard to install if you don't feel comfortable building software from source)\n",
      "- Can work with more than HTML (e.g. XML).\n",
      "                      \n",
      "Both of these can be easily installed if you use the Enthought Python Distribution.  We're going to do an example with BeautifulSoup."
     ]
    },
    {
     "cell_type": "code",
     "collapsed": false,
     "input": [
      "from bs4 import BeautifulSoup\n",
      "r = requests.get(presidency_platforms_url)\n",
      "soup = BeautifulSoup(r.text)\n",
      "print type(soup)"
     ],
     "language": "python",
     "metadata": {
      "slideshow": {
       "slide_type": "subslide"
      }
     },
     "outputs": [
      {
       "output_type": "stream",
       "stream": "stdout",
       "text": [
        "<class 'bs4.BeautifulSoup'>\n"
       ]
      }
     ],
     "prompt_number": 47
    },
    {
     "cell_type": "code",
     "collapsed": false,
     "input": [
      "print soup.prettify()[0:1000]"
     ],
     "language": "python",
     "metadata": {
      "slideshow": {
       "slide_type": "subslide"
      }
     },
     "outputs": [
      {
       "output_type": "stream",
       "stream": "stdout",
       "text": [
        "<html>\n",
        " <head>\n",
        "  <title>\n",
        "   Political Party Platforms\n",
        "  </title>\n",
        "  <meta content=\"text/html; charset=utf-8\" http-equiv=\"Content-Type\"/>\n",
        "  <meta content=\"President of the United States, presidency, American Presidency, American President, Public Papers of the Presidents, State of the Union Address, Inaugural Address, Presidents, American Presidents, George W. Bush, Bill Clinton, George Bush, Ronald Reagan, Jimmy Carter, Gerald Ford, Richard Nixon, Lyndon Johnson, John F. Kennedy. John Kennedy, Dwight Eisenhower, Harry Truman, FDR, Franklin Roosevelt, Presidential Elections, Presidential Rhetoric\" name=\"keywords\"/>\n",
        "  <meta content=\"The American Presidency Project contains the most comprehensive collection of resources pertaining to the study of the President of the United States.  Compiled by John Woolley and Gerhard Peters\" name=\"description\"/>\n",
        "  <link href=\"http://www.presidency.ucsb.edu/styles/main.css\" rel=\"stylesheet\" type=\"text/css\"/>\n",
        "  <!-- BEGIN Tynt Script -->\n",
        "  <!-- <script typ\n"
       ]
      }
     ],
     "prompt_number": 48
    },
    {
     "cell_type": "markdown",
     "metadata": {
      "slideshow": {
       "slide_type": "subslide"
      }
     },
     "source": [
      "** Scraping content **\n",
      "\n",
      "The general idea: if an HTML file renders in your browser and you can see it on your screen, it probably has some structure in it.\n",
      "\n",
      "You don't want the raw HTML.  You want the content that is rendered on your browser screen.\n",
      "\n",
      "The goal is to use the HTML to retrieve the relevant content."
     ]
    },
    {
     "cell_type": "code",
     "collapsed": false,
     "input": [
      "print soup.title\n",
      "print soup.meta\n",
      "print soup.a\n",
      "print soup.p"
     ],
     "language": "python",
     "metadata": {},
     "outputs": [
      {
       "output_type": "stream",
       "stream": "stdout",
       "text": [
        "<title>Political Party Platforms</title>\n",
        "<meta content=\"text/html; charset=utf-8\" http-equiv=\"Content-Type\"/>\n",
        "<a href=\"../index.php\"><img alt=\"Home\" border=\"0\" height=\"29\" src=\"http://www.presidency.ucsb.edu/images/l1.gif\" width=\"26\"/></a>\n",
        "<p><span class=\"datatitle\">Political Party Platforms of Parties Receiving Electoral Votes: </span><span class=\"datadates\">1840 - 2012</span></p>\n"
       ]
      }
     ],
     "prompt_number": 49
    },
    {
     "cell_type": "markdown",
     "metadata": {
      "slideshow": {
       "slide_type": "subslide"
      }
     },
     "source": [
      "## What are these functions?\n",
      "Beautiful Soup has written some functions that are helpful for working with *HTML*.  They are essentially wrappers to retrieve very common **HTML elements**."
     ]
    },
    {
     "cell_type": "code",
     "collapsed": false,
     "input": [
      "Image('http://www.openbookproject.net/tutorials/getdown/css/images/lesson4/HTMLDOMTree.png')"
     ],
     "language": "python",
     "metadata": {},
     "outputs": [
      {
       "metadata": {},
       "output_type": "pyout",
       "png": "[encoded data removed]",
       "prompt_number": 50,
       "text": [
        "<IPython.core.display.Image at 0x1027c7210>"
       ]
      }
     ],
     "prompt_number": 50
    },
    {
     "cell_type": "markdown",
     "metadata": {
      "slideshow": {
       "slide_type": "subslide"
      }
     },
     "source": [
      "## The HTML Document versus the DOM\n",
      "\n",
      "Most modern browsers have a _parser_ that reads in the HTML **document**, parses it into a DOM structure, and renders the **DOM** structure.\n",
      "\n",
      "Much like HTTP, the DOM is an [agreed-upon standard](http://www.w3.org/DOM/).\n",
      "\n",
      "The DOM is [much more than what I've described](https://developer.mozilla.org/en-US/docs/DOM), but we don't have the time to go into it."
     ]
    },
    {
     "cell_type": "code",
     "collapsed": false,
     "input": [
      "Image('http://www.cs.toronto.edu/~shiva/cscb07/img/dom/treeStructure.png')"
     ],
     "language": "python",
     "metadata": {
      "slideshow": {
       "slide_type": "subslide"
      }
     },
     "outputs": [
      {
       "metadata": {},
       "output_type": "pyout",
       "png": "[encoded data removed]",
       "prompt_number": 51,
       "text": [
        "<IPython.core.display.Image at 0x1027c7990>"
       ]
      }
     ],
     "prompt_number": 51
    },
    {
     "cell_type": "code",
     "collapsed": false,
     "input": [
      "example_html = '<html>\\n<body>\\n<h1>Title</h1>\\n<p>A <em>word</em> </p>\\n</body>\\n</html>'\n",
      "example_soup = BeautifulSoup(example_html)\n",
      "print example_soup.p\n",
      "print example_soup.p.get_text()\n",
      "print example_soup.em.get_text()"
     ],
     "language": "python",
     "metadata": {},
     "outputs": [
      {
       "output_type": "stream",
       "stream": "stdout",
       "text": [
        "<p>A <em>word</em> </p>\n",
        "A word \n",
        "word\n"
       ]
      }
     ],
     "prompt_number": 52
    },
    {
     "cell_type": "markdown",
     "metadata": {
      "slideshow": {
       "slide_type": "subslide"
      }
     },
     "source": [
      "### Gathering all relevant links via scripting\n",
      "\n",
      "There are many ways we could do this.  First thing to do is [examine the page source](http://www.wikihow.com/View-Source-Code)."
     ]
    },
    {
     "cell_type": "code",
     "collapsed": false,
     "input": [
      "print r.text[0:1000]"
     ],
     "language": "python",
     "metadata": {
      "slideshow": {
       "slide_type": "-"
      }
     },
     "outputs": [
      {
       "output_type": "stream",
       "stream": "stdout",
       "text": [
        "<html>\r\n",
        "<head>\r\n",
        "<title>Political Party Platforms</title>\r\n",
        "<META HTTP-EQUIV=\"Content-Type\" CONTENT=\"text/html; charset=windows-1251\">\r\n",
        "<meta name=\"keywords\" content=\"President of the United States, presidency, American Presidency, American President, Public Papers of the Presidents, State of the Union Address, Inaugural Address, Presidents, American Presidents, George W. Bush, Bill Clinton, George Bush, Ronald Reagan, Jimmy Carter, Gerald Ford, Richard Nixon, Lyndon Johnson, John F. Kennedy. John Kennedy, Dwight Eisenhower, Harry Truman, FDR, Franklin Roosevelt, Presidential Elections, Presidential Rhetoric\">\r\n",
        "<meta name=\"description\" content=\"The American Presidency Project contains the most comprehensive collection of resources pertaining to the study of the President of the United States.  Compiled by John Woolley and Gerhard Peters\">\r\n",
        "<link href=\"http://www.presidency.ucsb.edu/styles/main.css\" rel=\"stylesheet\" type=\"text/css\">\r\n",
        "<!-- BEGIN Tynt Script -->\r\n",
        "<!-- <script type=\"text/jav\n"
       ]
      }
     ],
     "prompt_number": 53
    },
    {
     "cell_type": "markdown",
     "metadata": {
      "slideshow": {
       "slide_type": "subslide"
      }
     },
     "source": [
      "** Now let's extract every link URL on the page. **"
     ]
    },
    {
     "cell_type": "code",
     "collapsed": false,
     "input": [
      "all_links = []\n",
      "for link in soup.findAll('a'):\n",
      "    all_links.append(link.get('href'))\n",
      "print 'All link hrefs in a list from a for loop: %s' % len(all_links)\n",
      "\n",
      "all_links_comprehension = [link.get('href') for link in soup.findAll('a')]\n",
      "\n",
      "print 'All link hrefs in a list from a list comprehension: %s' % len(all_links_comprehension)"
     ],
     "language": "python",
     "metadata": {
      "slideshow": {
       "slide_type": "-"
      }
     },
     "outputs": [
      {
       "output_type": "stream",
       "stream": "stdout",
       "text": [
        "All link hrefs in a list from a for loop: 142\n",
        "All link hrefs in a list from a list comprehension: 142\n"
       ]
      }
     ],
     "prompt_number": 54
    },
    {
     "cell_type": "markdown",
     "metadata": {
      "slideshow": {
       "slide_type": "subslide"
      }
     },
     "source": [
      "** BeautifulSoup has a `.get_text()` method that extracts the `text` attribute from every tag.** "
     ]
    },
    {
     "cell_type": "code",
     "collapsed": false,
     "input": [
      "print soup.get_text()[1000:1200]"
     ],
     "language": "python",
     "metadata": {
      "slideshow": {
       "slide_type": "-"
      }
     },
     "outputs": [
      {
       "output_type": "stream",
       "stream": "stdout",
       "text": [
        "rty Platforms of Parties Receiving Electoral Votes: 1840 - 2012\n",
        "\n",
        "\n",
        "\n",
        "\n",
        "Democratic Party \n",
        "\n",
        "\n",
        "\n",
        "\n",
        "\n",
        "2012 html | pdf\n",
        "\n",
        "\n",
        "2008 html | pdf\n",
        "\n",
        "\n",
        "2004 html | pdf\n",
        "\n",
        "\n",
        "2000\n",
        "\n",
        "\n",
        "1996\n",
        "\n",
        "\n",
        "1992 \n",
        "\n",
        "\n",
        "1988\n",
        "\n",
        "\n",
        "1984\n",
        "\n",
        "\n",
        "1980\n",
        "\n",
        "\n",
        "1976\n",
        "\n",
        "\n",
        "1972\n",
        "\n"
       ]
      }
     ],
     "prompt_number": 55
    },
    {
     "cell_type": "markdown",
     "metadata": {},
     "source": [
      "Remember, that's **every** tag.  If you're lucky, you'll be able select only the _relevant tags_ that you care about and extract their text with this method."
     ]
    },
    {
     "cell_type": "code",
     "collapsed": false,
     "input": [
      "all_links[40:60]"
     ],
     "language": "python",
     "metadata": {
      "slideshow": {
       "slide_type": "subslide"
      }
     },
     "outputs": [
      {
       "metadata": {},
       "output_type": "pyout",
       "prompt_number": 56,
       "text": [
        "['http://www.presidency.ucsb.edu/ws/index.php?pid=78283',\n",
        " 'http://www.presidency.ucsb.edu/papers_pdf/78283.pdf',\n",
        " 'http://www.presidency.ucsb.edu/ws/index.php?pid=29613',\n",
        " 'http://www.presidency.ucsb.edu/papers_pdf/29613.pdf',\n",
        " 'http://www.presidency.ucsb.edu/ws/index.php?pid=29612',\n",
        " 'http://www.presidency.ucsb.edu/ws/index.php?pid=29611',\n",
        " 'http://www.presidency.ucsb.edu/ws/index.php?pid=29610',\n",
        " 'http://www.presidency.ucsb.edu/ws/index.php?pid=29609',\n",
        " 'http://www.presidency.ucsb.edu/ws/index.php?pid=29608',\n",
        " 'http://www.presidency.ucsb.edu/ws/index.php?pid=29607',\n",
        " 'http://www.presidency.ucsb.edu/ws/index.php?pid=29606',\n",
        " 'http://www.presidency.ucsb.edu/ws/index.php?pid=29605',\n",
        " 'http://www.presidency.ucsb.edu/ws/index.php?pid=29604',\n",
        " 'http://www.presidency.ucsb.edu/ws/index.php?pid=29603',\n",
        " 'http://www.presidency.ucsb.edu/ws/index.php?pid=29602',\n",
        " 'http://www.presidency.ucsb.edu/ws/index.php?pid=29601',\n",
        " 'http://www.presidency.ucsb.edu/ws/index.php?pid=29600',\n",
        " 'http://www.presidency.ucsb.edu/ws/index.php?pid=29599',\n",
        " 'http://www.presidency.ucsb.edu/ws/index.php?pid=29598',\n",
        " 'http://www.presidency.ucsb.edu/ws/index.php?pid=29597']"
       ]
      }
     ],
     "prompt_number": 56
    },
    {
     "cell_type": "code",
     "collapsed": false,
     "input": [
      "for link in all_links[40:60]:\n",
      "    print link.split('/')    "
     ],
     "language": "python",
     "metadata": {
      "slideshow": {
       "slide_type": "subslide"
      }
     },
     "outputs": [
      {
       "output_type": "stream",
       "stream": "stdout",
       "text": [
        "['http:', '', 'www.presidency.ucsb.edu', 'ws', 'index.php?pid=78283']\n",
        "['http:', '', 'www.presidency.ucsb.edu', 'papers_pdf', '78283.pdf']\n",
        "['http:', '', 'www.presidency.ucsb.edu', 'ws', 'index.php?pid=29613']\n",
        "['http:', '', 'www.presidency.ucsb.edu', 'papers_pdf', '29613.pdf']\n",
        "['http:', '', 'www.presidency.ucsb.edu', 'ws', 'index.php?pid=29612']\n",
        "['http:', '', 'www.presidency.ucsb.edu', 'ws', 'index.php?pid=29611']\n",
        "['http:', '', 'www.presidency.ucsb.edu', 'ws', 'index.php?pid=29610']\n",
        "['http:', '', 'www.presidency.ucsb.edu', 'ws', 'index.php?pid=29609']\n",
        "['http:', '', 'www.presidency.ucsb.edu', 'ws', 'index.php?pid=29608']\n",
        "['http:', '', 'www.presidency.ucsb.edu', 'ws', 'index.php?pid=29607']\n",
        "['http:', '', 'www.presidency.ucsb.edu', 'ws', 'index.php?pid=29606']\n",
        "['http:', '', 'www.presidency.ucsb.edu', 'ws', 'index.php?pid=29605']\n",
        "['http:', '', 'www.presidency.ucsb.edu', 'ws', 'index.php?pid=29604']\n",
        "['http:', '', 'www.presidency.ucsb.edu', 'ws', 'index.php?pid=29603']\n",
        "['http:', '', 'www.presidency.ucsb.edu', 'ws', 'index.php?pid=29602']\n",
        "['http:', '', 'www.presidency.ucsb.edu', 'ws', 'index.php?pid=29601']\n",
        "['http:', '', 'www.presidency.ucsb.edu', 'ws', 'index.php?pid=29600']\n",
        "['http:', '', 'www.presidency.ucsb.edu', 'ws', 'index.php?pid=29599']\n",
        "['http:', '', 'www.presidency.ucsb.edu', 'ws', 'index.php?pid=29598']\n",
        "['http:', '', 'www.presidency.ucsb.edu', 'ws', 'index.php?pid=29597']\n"
       ]
      }
     ],
     "prompt_number": 57
    },
    {
     "cell_type": "code",
     "collapsed": false,
     "input": [
      "for link in all_links[40:60]:\n",
      "    print 'href #' + str(all_links.index(link)) + ' = '  + link.split('/')[-1]"
     ],
     "language": "python",
     "metadata": {
      "slideshow": {
       "slide_type": "subslide"
      }
     },
     "outputs": [
      {
       "output_type": "stream",
       "stream": "stdout",
       "text": [
        "href #40 = index.php?pid=78283\n",
        "href #41 = 78283.pdf\n",
        "href #42 = index.php?pid=29613\n",
        "href #43 = 29613.pdf\n",
        "href #44 = index.php?pid=29612\n",
        "href #45 = index.php?pid=29611\n",
        "href #46 = index.php?pid=29610\n",
        "href #47 = index.php?pid=29609\n",
        "href #48 = index.php?pid=29608\n",
        "href #49 = index.php?pid=29607\n",
        "href #50 = index.php?pid=29606\n",
        "href #51 = index.php?pid=29605\n",
        "href #52 = index.php?pid=29604\n",
        "href #53 = index.php?pid=29603\n",
        "href #54 = index.php?pid=29602\n",
        "href #55 = index.php?pid=29601\n",
        "href #56 = index.php?pid=29600\n",
        "href #57 = index.php?pid=29599\n",
        "href #58 = index.php?pid=29598\n",
        "href #59 = index.php?pid=29597\n"
       ]
      }
     ],
     "prompt_number": 58
    },
    {
     "cell_type": "code",
     "collapsed": false,
     "input": [
      "valid_links = []\n",
      "for link in all_links:\n",
      "    final_url_element = link.split('/')[-1]\n",
      "    if final_url_element.startswith('index.php?'):\n",
      "        valid_links.append(link)\n",
      "\n",
      "print 'There are {} valid links.'.format(len(valid_links))\n",
      "valid_links[:10]"
     ],
     "language": "python",
     "metadata": {
      "slideshow": {
       "slide_type": "subslide"
      }
     },
     "outputs": [
      {
       "output_type": "stream",
       "stream": "stdout",
       "text": [
        "There are 96 valid links.\n"
       ]
      },
      {
       "metadata": {},
       "output_type": "pyout",
       "prompt_number": 59,
       "text": [
        "['http://www.presidency.ucsb.edu/ws/index.php?pid=101962',\n",
        " 'http://www.presidency.ucsb.edu/ws/index.php?pid=78283',\n",
        " 'http://www.presidency.ucsb.edu/ws/index.php?pid=29613',\n",
        " 'http://www.presidency.ucsb.edu/ws/index.php?pid=29612',\n",
        " 'http://www.presidency.ucsb.edu/ws/index.php?pid=29611',\n",
        " 'http://www.presidency.ucsb.edu/ws/index.php?pid=29610',\n",
        " 'http://www.presidency.ucsb.edu/ws/index.php?pid=29609',\n",
        " 'http://www.presidency.ucsb.edu/ws/index.php?pid=29608',\n",
        " 'http://www.presidency.ucsb.edu/ws/index.php?pid=29607',\n",
        " 'http://www.presidency.ucsb.edu/ws/index.php?pid=29606']"
       ]
      }
     ],
     "prompt_number": 59
    },
    {
     "cell_type": "code",
     "collapsed": false,
     "input": [
      "from datetime import datetime # Another standard library module.\n",
      "for link in valid_links[:10]: # Limited for demonstration.  Also check out import time; time.sleep()\n",
      "    r = requests.get(link)\n",
      "    print '{time}\\t{link}\\t{status}'.format(time=datetime.isoformat(datetime.now()), link=link, status=r.status_code)"
     ],
     "language": "python",
     "metadata": {
      "slideshow": {
       "slide_type": "subslide"
      }
     },
     "outputs": [
      {
       "output_type": "stream",
       "stream": "stdout",
       "text": [
        "2014-04-25T13:54:43.951866\thttp://www.presidency.ucsb.edu/ws/index.php?pid=101962\t200\n",
        "2014-04-25T13:54:44.074945\thttp://www.presidency.ucsb.edu/ws/index.php?pid=78283\t200"
       ]
      },
      {
       "output_type": "stream",
       "stream": "stdout",
       "text": [
        "\n",
        "2014-04-25T13:54:44.169407\thttp://www.presidency.ucsb.edu/ws/index.php?pid=29613\t200"
       ]
      },
      {
       "output_type": "stream",
       "stream": "stdout",
       "text": [
        "\n",
        "2014-04-25T13:54:44.290530\thttp://www.presidency.ucsb.edu/ws/index.php?pid=29612\t200"
       ]
      },
      {
       "output_type": "stream",
       "stream": "stdout",
       "text": [
        "\n",
        "2014-04-25T13:54:44.385889\thttp://www.presidency.ucsb.edu/ws/index.php?pid=29611\t200"
       ]
      },
      {
       "output_type": "stream",
       "stream": "stdout",
       "text": [
        "\n",
        "2014-04-25T13:54:44.456766\thttp://www.presidency.ucsb.edu/ws/index.php?pid=29610\t200"
       ]
      },
      {
       "output_type": "stream",
       "stream": "stdout",
       "text": [
        "\n",
        "2014-04-25T13:54:44.522024\thttp://www.presidency.ucsb.edu/ws/index.php?pid=29609\t200"
       ]
      },
      {
       "output_type": "stream",
       "stream": "stdout",
       "text": [
        "\n",
        "2014-04-25T13:54:44.644442\thttp://www.presidency.ucsb.edu/ws/index.php?pid=29608\t200"
       ]
      },
      {
       "output_type": "stream",
       "stream": "stdout",
       "text": [
        "\n",
        "2014-04-25T13:54:44.775775\thttp://www.presidency.ucsb.edu/ws/index.php?pid=29607\t200"
       ]
      },
      {
       "output_type": "stream",
       "stream": "stdout",
       "text": [
        "\n",
        "2014-04-25T13:54:44.886551\thttp://www.presidency.ucsb.edu/ws/index.php?pid=29606\t200"
       ]
      },
      {
       "output_type": "stream",
       "stream": "stdout",
       "text": [
        "\n"
       ]
      }
     ],
     "prompt_number": 60
    },
    {
     "cell_type": "markdown",
     "metadata": {
      "slideshow": {
       "slide_type": "subslide"
      }
     },
     "source": [
      "However, that previous example will print to `stdout` (that's what `print()` does). \n",
      "\n",
      "If you execute this as a script at the command line, it would be better to have this write to a file, so let's open up a text file and write the output to that:"
     ]
    },
    {
     "cell_type": "code",
     "collapsed": false,
     "input": [
      "import os\n",
      "request_log_file = open('presidency_platforms_scraping.log', 'w')\n",
      "print type(request_log_file) # What kind of object does open() create?\n",
      "request_log_file.write('Timestamp\\tURL\\tStatus Code\\n')\n",
      "for link in valid_links[:10]:\n",
      "    r = requests.get(link)\n",
      "    request_event_string = '{time}\\t{link}\\t{status}\\n'.format(time=datetime.isoformat(datetime.now()), link=link, status=r.status_code)\n",
      "    request_log_file.write(request_event_string) # Note I had to add the line ending \"\\n\" above\n",
      "request_log_file.close() # Make sure you close the file\n",
      "print os.listdir(os.getcwd())"
     ],
     "language": "python",
     "metadata": {},
     "outputs": [
      {
       "output_type": "stream",
       "stream": "stdout",
       "text": [
        "<type 'file'>\n",
        "['.git', '.gitignore', '.ipynb_checkpoints', '.VAM.slides.html.swp', 'custom.css', 'env', 'index.html', 'LICENSE', 'output', 'presidency_platforms_scraping.log', 'README.md', 'requirements.txt', 'reveal.js', 'scraping_example.py', 'test.py', 'VAM.html', 'VAM.ipynb', 'VAM.slides.html', 'VAM_files']"
       ]
      },
      {
       "output_type": "stream",
       "stream": "stdout",
       "text": [
        "\n"
       ]
      }
     ],
     "prompt_number": 61
    },
    {
     "cell_type": "markdown",
     "metadata": {
      "slideshow": {
       "slide_type": "-"
      }
     },
     "source": [
      "If you don't want to bother handling files, you could keep `print`ing to `stdout` and redirect to a text file, assuming you are comfortable with the shell!"
     ]
    },
    {
     "cell_type": "code",
     "collapsed": false,
     "input": [
      "%%bash \n",
      "# This is IPython cell magic\n",
      "head presidency_platforms_scraping.log"
     ],
     "language": "python",
     "metadata": {
      "slideshow": {
       "slide_type": "subslide"
      }
     },
     "outputs": [
      {
       "output_type": "stream",
       "stream": "stdout",
       "text": [
        "Timestamp\tURL\tStatus Code\n",
        "2014-04-25T13:54:45.005322\thttp://www.presidency.ucsb.edu/ws/index.php?pid=101962\t200\n",
        "2014-04-25T13:54:45.117128\thttp://www.presidency.ucsb.edu/ws/index.php?pid=78283\t200\n",
        "2014-04-25T13:54:45.204224\thttp://www.presidency.ucsb.edu/ws/index.php?pid=29613\t200\n",
        "2014-04-25T13:54:45.321258\thttp://www.presidency.ucsb.edu/ws/index.php?pid=29612\t200\n",
        "2014-04-25T13:54:45.410272\thttp://www.presidency.ucsb.edu/ws/index.php?pid=29611\t200\n",
        "2014-04-25T13:54:45.480038\thttp://www.presidency.ucsb.edu/ws/index.php?pid=29610\t200\n",
        "2014-04-25T13:54:45.540649\thttp://www.presidency.ucsb.edu/ws/index.php?pid=29609\t200\n",
        "2014-04-25T13:54:45.660449\thttp://www.presidency.ucsb.edu/ws/index.php?pid=29608\t200\n",
        "2014-04-25T13:54:45.783806\thttp://www.presidency.ucsb.edu/ws/index.php?pid=29607\t200\n"
       ]
      }
     ],
     "prompt_number": 62
    },
    {
     "cell_type": "markdown",
     "metadata": {
      "slideshow": {
       "slide_type": "subslide"
      }
     },
     "source": [
      "### Scraping content\n",
      "\n",
      "We're lucky; these are fairly simple pages.  All of the relevant text we want looks like the `text` attributes of `<p>` elements per platform's page.  \n",
      "\n",
      "It also doesn't look like it's dynamically generated by Javascript or forms, so we can just rip it right out of the page.\n",
      "\n",
      "Let's extract all the text from each page and save each one to a simple `.txt` file.\n"
     ]
    },
    {
     "cell_type": "code",
     "collapsed": false,
     "input": [
      "r = requests.get('http://www.presidency.ucsb.edu/ws/index.php?pid=101962')\n",
      "soup = BeautifulSoup(r.text)\n",
      "\n",
      "print soup.a\n",
      "print soup.p\n",
      "print soup.p.get_text()"
     ],
     "language": "python",
     "metadata": {
      "slideshow": {
       "slide_type": "subslide"
      }
     },
     "outputs": [
      {
       "output_type": "stream",
       "stream": "stdout",
       "text": [
        "<a href=\"../index.php\"><img alt=\"Home\" border=\"0\" height=\"29\" src=\"http://www.presidency.ucsb.edu/images/l1.gif\" width=\"26\"/></a>\n",
        "<p>Four years ago, Democrats, independents, and many Republicans came together as Americans to move our country forward. We were in the midst of the greatest economic crisis since the Great Depression, the previous administration had put two wars on our nation's credit card, and the American Dream had slipped out of reach for too many. </p>\n",
        "Four years ago, Democrats, independents, and many Republicans came together as Americans to move our country forward. We were in the midst of the greatest economic crisis since the Great Depression, the previous administration had put two wars on our nation's credit card, and the American Dream had slipped out of reach for too many. \n"
       ]
      }
     ],
     "prompt_number": 63
    },
    {
     "cell_type": "code",
     "collapsed": false,
     "input": [
      "all_p_tags = soup.findAll('p')\n",
      "print type(all_p_tags[0])"
     ],
     "language": "python",
     "metadata": {},
     "outputs": [
      {
       "output_type": "stream",
       "stream": "stdout",
       "text": [
        "<class 'bs4.element.Tag'>\n"
       ]
      }
     ],
     "prompt_number": 64
    },
    {
     "cell_type": "markdown",
     "metadata": {
      "slideshow": {
       "slide_type": "subslide"
      }
     },
     "source": [
      "### What other attributes do `bs4.element.Tag` objects have?"
     ]
    },
    {
     "cell_type": "code",
     "collapsed": false,
     "input": [
      "[attr for attr in dir(all_p_tags[0]) if not attr.startswith('__') and not attr.startswith('_')]"
     ],
     "language": "python",
     "metadata": {
      "slideshow": {
       "slide_type": "-"
      }
     },
     "outputs": [
      {
       "metadata": {},
       "output_type": "pyout",
       "prompt_number": 65,
       "text": [
        "['HTML_FORMATTERS',\n",
        " 'XML_FORMATTERS',\n",
        " 'append',\n",
        " 'attribselect_re',\n",
        " 'attrs',\n",
        " 'can_be_empty_element',\n",
        " 'childGenerator',\n",
        " 'children',\n",
        " 'clear',\n",
        " 'contents',\n",
        " 'decode',\n",
        " 'decode_contents',\n",
        " 'decompose',\n",
        " 'descendants',\n",
        " 'encode',\n",
        " 'encode_contents',\n",
        " 'extract',\n",
        " 'fetchNextSiblings',\n",
        " 'fetchParents',\n",
        " 'fetchPrevious',\n",
        " 'fetchPreviousSiblings',\n",
        " 'find',\n",
        " 'findAll',\n",
        " 'findAllNext',\n",
        " 'findAllPrevious',\n",
        " 'findChild',\n",
        " 'findChildren',\n",
        " 'findNext',\n",
        " 'findNextSibling',\n",
        " 'findNextSiblings',\n",
        " 'findParent',\n",
        " 'findParents',\n",
        " 'findPrevious',\n",
        " 'findPreviousSibling',\n",
        " 'findPreviousSiblings',\n",
        " 'find_all',\n",
        " 'find_all_next',\n",
        " 'find_all_previous',\n",
        " 'find_next',\n",
        " 'find_next_sibling',\n",
        " 'find_next_siblings',\n",
        " 'find_parent',\n",
        " 'find_parents',\n",
        " 'find_previous',\n",
        " 'find_previous_sibling',\n",
        " 'find_previous_siblings',\n",
        " 'format_string',\n",
        " 'get',\n",
        " 'getText',\n",
        " 'get_text',\n",
        " 'has_attr',\n",
        " 'has_key',\n",
        " 'hidden',\n",
        " 'index',\n",
        " 'insert',\n",
        " 'insert_after',\n",
        " 'insert_before',\n",
        " 'isSelfClosing',\n",
        " 'is_empty_element',\n",
        " 'name',\n",
        " 'namespace',\n",
        " 'next',\n",
        " 'nextGenerator',\n",
        " 'nextSibling',\n",
        " 'nextSiblingGenerator',\n",
        " 'next_element',\n",
        " 'next_elements',\n",
        " 'next_sibling',\n",
        " 'next_siblings',\n",
        " 'parent',\n",
        " 'parentGenerator',\n",
        " 'parents',\n",
        " 'parserClass',\n",
        " 'parser_class',\n",
        " 'prefix',\n",
        " 'prettify',\n",
        " 'previous',\n",
        " 'previousGenerator',\n",
        " 'previousSibling',\n",
        " 'previousSiblingGenerator',\n",
        " 'previous_element',\n",
        " 'previous_elements',\n",
        " 'previous_sibling',\n",
        " 'previous_siblings',\n",
        " 'recursiveChildGenerator',\n",
        " 'renderContents',\n",
        " 'replaceWith',\n",
        " 'replaceWithChildren',\n",
        " 'replace_with',\n",
        " 'replace_with_children',\n",
        " 'select',\n",
        " 'setup',\n",
        " 'string',\n",
        " 'strings',\n",
        " 'stripped_strings',\n",
        " 'tag_name_re',\n",
        " 'text',\n",
        " 'unwrap',\n",
        " 'wrap']"
       ]
      }
     ],
     "prompt_number": 65
    },
    {
     "cell_type": "markdown",
     "metadata": {
      "slideshow": {
       "slide_type": "subslide"
      }
     },
     "source": [
      "## Scraping each page and saving extracted text to a new file.\n",
      "\n",
      "Now let's glue together all of these pieces.  \n",
      "\n",
      "We'll introduce two new functions: `os.makedirs()` and `os.path.join()`\n",
      "\n",
      "Also one last code pattern: [opening and closing files using `with()`](http://stackoverflow.com/questions/11349020/python-file-open-close-everytime-vs-keeping-it-open-until-the-process-is-finishe)"
     ]
    },
    {
     "cell_type": "code",
     "collapsed": false,
     "input": [
      "if not os.path.exists('output'):\n",
      "    os.makedirs('output')\n",
      "\n",
      "request_log_file = open('output/presidency_platforms_scraping.log', 'w')\n",
      "request_log_file.write('Timestamp\\tURL\\tStatus Code\\n')\n",
      "\n",
      "print 'Starting scraping.'\n",
      "for link in valid_links:\n",
      "    r = requests.get(link)\n",
      "    request_event_string = '{time}\\t{link}\\t{status}\\n'.format(time=datetime.isoformat(datetime.now()), link=link, status=r.status_code)\n",
      "    request_log_file.write(request_event_string) # Note I had to add the line ending \"\\n\" above\n",
      "    \n",
      "    soup = BeautifulSoup(r.text)\n",
      "    all_p_tags = soup.findAll('p')\n",
      "    filename = link.split('/')[-1].split('=')[-1] + '.txt'\n",
      "    filename_path = os.path.join('output', filename)\n",
      "    \n",
      "    with open(filename_path, 'w') as scraped_text_outfile:\n",
      "        text_as_list_of_strings = [p.get_text() for p in all_p_tags]\n",
      "        scraped_text = ''.join(text_as_list_of_strings)\n",
      "        scraped_text_outfile.write(scraped_text.encode('utf8')) \n",
      "        # Encoding is hard!  Why did I do this?  Hint: check \"import sys; sys.stdout.encoding\"\n",
      "\n",
      "request_log_file.close()\n",
      "print 'Finished scraping.'"
     ],
     "language": "python",
     "metadata": {
      "slideshow": {
       "slide_type": "subslide"
      }
     },
     "outputs": [
      {
       "output_type": "stream",
       "stream": "stdout",
       "text": [
        "Starting scraping.\n",
        "Finished scraping."
       ]
      },
      {
       "output_type": "stream",
       "stream": "stdout",
       "text": [
        "\n"
       ]
      }
     ],
     "prompt_number": 66
    },
    {
     "cell_type": "markdown",
     "metadata": {
      "slideshow": {
       "slide_type": "subslide"
      }
     },
     "source": [
      "** Let's examine the results **"
     ]
    },
    {
     "cell_type": "code",
     "collapsed": false,
     "input": [
      "print os.listdir('output')"
     ],
     "language": "python",
     "metadata": {
      "slideshow": {
       "slide_type": "-"
      }
     },
     "outputs": [
      {
       "output_type": "stream",
       "stream": "stdout",
       "text": [
        "['101961.txt', '101962.txt', '25835.txt', '25836.txt', '25837.txt', '25838.txt', '25839.txt', '25840.txt', '25841.txt', '25842.txt', '25843.txt', '25844.txt', '25845.txt', '25846.txt', '25847.txt', '25848.txt', '25849.txt', '25850.txt', '25851.txt', '25852.txt', '25855.txt', '25856.txt', '25857.txt', '29570.txt', '29571.txt', '29572.txt', '29573.txt', '29574.txt', '29575.txt', '29576.txt', '29577.txt', '29578.txt', '29579.txt', '29580.txt', '29581.txt', '29582.txt', '29583.txt', '29584.txt', '29585.txt', '29586.txt', '29587.txt', '29588.txt', '29589.txt', '29590.txt', '29591.txt', '29592.txt', '29593.txt', '29594.txt', '29595.txt', '29596.txt', '29597.txt', '29598.txt', '29599.txt', '29600.txt', '29601.txt', '29602.txt', '29603.txt', '29604.txt', '29605.txt', '29606.txt', '29607.txt', '29608.txt', '29609.txt', '29610.txt', '29611.txt', '29612.txt', '29613.txt', '29614.txt', '29615.txt', '29616.txt', '29617.txt', '29618.txt', '29619.txt', '29620.txt', '29621.txt', '29622.txt', '29623.txt', '29624.txt', '29625.txt', '29626.txt', '29627.txt', '29628.txt', '29629.txt', '29630.txt', '29631.txt', '29632.txt', '29633.txt', '29634.txt', '29635.txt', '29636.txt', '29637.txt', '29638.txt', '29639.txt', '29640.txt', '78283.txt', '78545.txt', 'presidency_platforms_scraping.log']\n"
       ]
      }
     ],
     "prompt_number": 67
    },
    {
     "cell_type": "code",
     "collapsed": false,
     "input": [
      "%%bash\n",
      "echo \"Number of files in output/\"\n",
      "ls output/ | wc -l\n",
      "\n",
      "cd output\n",
      "echo \"Example text file:\"\n",
      "head -c 1000 101962.txt\n"
     ],
     "language": "python",
     "metadata": {
      "slideshow": {
       "slide_type": "subslide"
      }
     },
     "outputs": [
      {
       "output_type": "stream",
       "stream": "stdout",
       "text": [
        "Number of files in output/\n",
        "      97\n",
        "Example text file:\n",
        "Four years ago, Democrats, independents, and many Republicans came together as Americans to move our country forward. We were in the midst of the greatest economic crisis since the Great Depression, the previous administration had put two wars on our nation's credit card, and the American Dream had slipped out of reach for too many. Today, our economy is growing again, al-Qaeda is weaker than at any point since 9/11, and our manufacturing sector is growing for the first time in more than a decade. But there is more we need to do, and so we come together again to continue what we started. We gather to reclaim the basic bargain that built the largest middle class and the most prosperous nation on Earth - the simple principle that in America, hard work should pay off, responsibility should be rewarded, and each one of us should be able to go as far as our talent and drive take us. This election is not simply a choice between two candidates or two political parties, but between two fundame"
       ]
      }
     ],
     "prompt_number": 68
    },
    {
     "cell_type": "markdown",
     "metadata": {
      "slideshow": {
       "slide_type": "slide"
      }
     },
     "source": [
      "# Conclusion\n",
      "\n",
      "We barely scratched the surface.  Here is a list of useful Python tutorials to help develop a deeper understanding:\n",
      "- http://docs.python-guide.org/en/latest/\n",
      "- http://www.swaroopch.com/notes/python/\n",
      "- http://www.diveintopython.net/\n",
      "- http://learnpythonthehardway.org/book/\n",
      "- https://developers.google.com/edu/python/?csw=1\n",
      "- https://docs.python.org/2/tutorial/\n",
      "- http://python.net/~goodger/projects/pycon/2007/idiomatic/handout.html\n",
      "- http://software-carpentry.org/v5/novice/python/index.html\n",
      "- http://freepythontips.wordpress.com/2013/09/01/best-python-resources/\n"
     ]
    },
    {
     "cell_type": "code",
     "collapsed": false,
     "input": [
      "from IPython.display import Image\n",
      "# import antigravity\n",
      "Image('http://imgs.xkcd.com/comics/python.png')"
     ],
     "language": "python",
     "metadata": {
      "slideshow": {
       "slide_type": "subslide"
      }
     },
     "outputs": [
      {
       "metadata": {},
       "output_type": "pyout",
       "png": "[encoded data removed]",
       "prompt_number": 69,
       "text": [
        "<IPython.core.display.Image at 0x1087c9a50>"
       ]
      }
     ],
     "prompt_number": 69
    },
    {
     "cell_type": "markdown",
     "metadata": {
      "slideshow": {
       "slide_type": "slide"
      }
     },
     "source": [
      "# Appendix\n",
      "\n",
      "Here are all the module versions that I used in this tutorial:"
     ]
    },
    {
     "cell_type": "code",
     "collapsed": false,
     "input": [
      "%%bash\n",
      "pip freeze"
     ],
     "language": "python",
     "metadata": {},
     "outputs": [
      {
       "output_type": "stream",
       "stream": "stdout",
       "text": [
        "Canopy==1.3.0.dev6305\n",
        "CanopyTraining==0.9.dev1687\n",
        "Cython==0.19.2\n",
        "Examples==7.3\n",
        "GDAL==1.10.0\n",
        "Jinja2==2.7.1\n",
        "MDP==3.3\n",
        "MKL==10.3\n",
        "MarkupSafe==0.18\n",
        "Meta==0.4.2.dev\n",
        "PIL==1.1.7\n",
        "PyOpenGL==3.0.1\n",
        "PySide==1.2.1\n",
        "PyYAML==3.10\n",
        "Pycluster==1.50\n",
        "Pygments==1.6.0\n",
        "PythonDoc==2.7.3\n",
        "Qt==4.8.5\n",
        "Reportlab==2.5\n",
        "SQLAlchemy==0.8.3\n",
        "Shapely==1.2.17\n",
        "Sphinx==1.2.2\n",
        "Twisted==12.0.0\n",
        "VTK==5.10.1\n",
        "appinst==2.1.2\n",
        "apptools==4.2.1\n",
        "atom==0.3.8\n",
        "basemap==1.0.7\n",
        "beautifulsoup4==4.3.1\n",
        "biopython==1.62.0\n",
        "bitarray==0.8.0\n",
        "blist==1.3.4\n",
        "blockcanvas==4.0.3\n",
        "boto==2.19.0\n",
        "bsdiff4==1.1.1\n",
        "casuarius==1.1\n",
        "chaco==4.4.1\n",
        "cloud==2.4.6\n",
        "codetools==4.2.0\n",
        "configobj==4.7.2\n",
        "coverage==3.7.1\n",
        "curl==7.25.0\n",
        "distribute==0.6.49\n",
        "doclinks==7.3\n",
        "docutils==0.11\n",
        "enable==4.3.0\n",
        "enaml==0.9.4\n",
        "encore==0.5.1\n",
        "enstaller==4.6.4\n",
        "envisage==4.4.0\n",
        "epydoc==3.0.1\n",
        "esky==0.9.2.dev473\n",
        "ets==4.4.1\n",
        "etsdevtools==4.0.2\n",
        "etsproxy==0.1.2\n",
        "expat==2.0.1\n",
        "faulthandler==2.0\n",
        "feedparser==5.1.3\n",
        "foolscap==0.6.3\n",
        "freetype==2.4.4\n",
        "fwrap==0.1.1\n",
        "graphcanvas==4.0.2\n",
        "grin==1.2.1\n",
        "h5py==2.2.1\n",
        "hdf5==1.8.11\n",
        "html5lib==0.95\n",
        "idle==2.7.3\n",
        "ipython==2.0.0\n",
        "jsonpickle==0.4.0\n",
        "kernmagic==0.2.0\n",
        "keyring==3.7.0\n",
        "kiwisolver==0.1.2\n",
        "lib-netcdf4==4.3.0\n",
        "libgdal==1.10.1\n",
        "libjpeg==7.0\n",
        "libpng==1.2.40\n",
        "libxml2==2.7.8\n",
        "libxslt==1.1.26\n",
        "llvmmath==0.1.1\n",
        "llvmpy==0.12.1\n",
        "lxml==3.2.3\n",
        "matplotlib==1.3.1\n",
        "mayavi==4.3.1\n",
        "mock==1.0.1\n",
        "netCDF4==1.0.7\n",
        "networkx==1.8.1\n",
        "nose==1.3.0\n",
        "numba==0.13.0\n",
        "numexpr==2.2.2\n",
        "numpy==1.8.0\n",
        "openpyxl==1.8.5\n",
        "pandas==0.13.1\n",
        "paramiko==1.10.1\n",
        "patsy==0.2.0\n",
        "pep8==1.4.6\n",
        "ply==3.4\n",
        "psutil==1.2.1\n",
        "pyOpenSSL==0.13.1\n",
        "pyasn1==0.1.7\n",
        "pycrypto==2.6.1\n",
        "pydot==1.0.28\n",
        "pyface==4.4.0\n",
        "pyfits==3.0.6\n",
        "pyflakes==0.7.3\n",
        "pygarrayimage==0.0.7\n",
        "pyglet==1.1.4\n",
        "pyhdf==0.8.3\n",
        "pyparsing==1.5.6\n",
        "pyproj==1.9.3\n",
        "pyserial==2.6\n",
        "pytables==2.4.0\n",
        "python-dateutil==2.2.0\n",
        "pytz==2013.8.0\n",
        "pyzmq==14.1.1\n",
        "readline==6.2.1\n",
        "requests==2.2.1\n",
        "rsa==3.1.2\n",
        "scikit-learn==0.14.1\n",
        "scikits.image==0.9.3\n",
        "scikits.timeseries==0.91.3\n",
        "scimath==4.1.2\n",
        "scipy==0.13.3\n",
        "scons==2.0.1\n",
        "shiboken==1.2.1\n",
        "simpy==3.0.2\n",
        "six==1.4.1\n",
        "statsmodels==0.5.0\n",
        "supplement==0.5dev.dev202\n",
        "swig==1.3.40\n",
        "sympy==0.7.3\n",
        "tornado==3.1.1\n",
        "traits==4.4.0\n",
        "traitsui==4.4.0\n",
        "wsgiref==0.1.2\n",
        "wxPython==2.9.2.4\n",
        "xlrd==0.9.2\n",
        "xlwt==0.7.5\n",
        "zeromq==3.2.4\n",
        "zope.interface==4.1.1\n"
       ]
      }
     ],
     "prompt_number": 70
    },
    {
     "cell_type": "code",
     "collapsed": false,
     "input": [
      "%%bash\n",
      "pip freeze > requirements.txt"
     ],
     "language": "python",
     "metadata": {},
     "outputs": [],
     "prompt_number": 71
    },
    {
     "cell_type": "markdown",
     "metadata": {},
     "source": [
      "## Python Easter eggs"
     ]
    },
    {
     "cell_type": "code",
     "collapsed": false,
     "input": [
      "import this"
     ],
     "language": "python",
     "metadata": {},
     "outputs": [
      {
       "output_type": "stream",
       "stream": "stdout",
       "text": [
        "The Zen of Python, by Tim Peters\n",
        "\n",
        "Beautiful is better than ugly.\n",
        "Explicit is better than implicit.\n",
        "Simple is better than complex.\n",
        "Complex is better than complicated.\n",
        "Flat is better than nested.\n",
        "Sparse is better than dense.\n",
        "Readability counts.\n",
        "Special cases aren't special enough to break the rules.\n",
        "Although practicality beats purity.\n",
        "Errors should never pass silently.\n",
        "Unless explicitly silenced.\n",
        "In the face of ambiguity, refuse the temptation to guess.\n",
        "There should be one-- and preferably only one --obvious way to do it.\n",
        "Although that way may not be obvious at first unless you're Dutch.\n",
        "Now is better than never.\n",
        "Although never is often better than *right* now.\n",
        "If the implementation is hard to explain, it's a bad idea.\n",
        "If the implementation is easy to explain, it may be a good idea.\n",
        "Namespaces are one honking great idea -- let's do more of those!\n"
       ]
      }
     ],
     "prompt_number": 72
    },
    {
     "cell_type": "code",
     "collapsed": false,
     "input": [
      "from __future__ import braces"
     ],
     "language": "python",
     "metadata": {},
     "outputs": [
      {
       "ename": "SyntaxError",
       "evalue": "not a chance (<ipython-input-73-2aebb3fc8ecf>, line 1)",
       "output_type": "pyerr",
       "traceback": [
        "\u001b[0;36m  File \u001b[0;32m\"<ipython-input-73-2aebb3fc8ecf>\"\u001b[0;36m, line \u001b[0;32m1\u001b[0m\n\u001b[0;31m    from __future__ import braces\u001b[0m\n\u001b[0;31mSyntaxError\u001b[0m\u001b[0;31m:\u001b[0m not a chance\n"
       ]
      }
     ],
     "prompt_number": 73
    },
    {
     "cell_type": "code",
     "collapsed": false,
     "input": [
      "# http://legacy.python.org/dev/peps/pep-0401/\n",
      "from __future__ import barry_as_FLUFL "
     ],
     "language": "python",
     "metadata": {},
     "outputs": [
      {
       "ename": "SyntaxError",
       "evalue": "future feature barry_as_FLUFL is not defined (<ipython-input-74-83678a90e3e9>, line 2)",
       "output_type": "pyerr",
       "traceback": [
        "\u001b[0;36m  File \u001b[0;32m\"<ipython-input-74-83678a90e3e9>\"\u001b[0;36m, line \u001b[0;32m2\u001b[0m\n\u001b[0;31m    from __future__ import barry_as_FLUFL\u001b[0m\n\u001b[0;31mSyntaxError\u001b[0m\u001b[0;31m:\u001b[0m future feature barry_as_FLUFL is not defined\n"
       ]
      }
     ],
     "prompt_number": 74
    },
    {
     "cell_type": "code",
     "collapsed": false,
     "input": [],
     "language": "python",
     "metadata": {},
     "outputs": []
    }
   ],
   "metadata": {}
  }
 ]
}